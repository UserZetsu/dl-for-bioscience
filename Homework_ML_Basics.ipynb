{
  "cells": [
    {
      "cell_type": "markdown",
      "metadata": {
        "colab_type": "text",
        "id": "view-in-github"
      },
      "source": [
        "<a href=\"https://colab.research.google.com/github/UserZetsu/dl-for-bioscience/blob/main/Homework_ML_Basics.ipynb\" target=\"_parent\"><img src=\"https://colab.research.google.com/assets/colab-badge.svg\" alt=\"Open In Colab\"/></a>"
      ]
    },
    {
      "cell_type": "markdown",
      "metadata": {
        "id": "aRP_CNMFt8tj"
      },
      "source": [
        "\n",
        "# Homework: Implementing simple learning algorithms\n",
        "\n",
        "\n",
        "> **Due Date: February 5th, 2025 by 1 pm**\n",
        ">\n",
        "> Please turn in this completed notebook as an attachment or as a shared link to clay.smyth@ucsf.edu\n",
        "\n",
        "**Collaboration policy and more**\n",
        "\n",
        "You're welcome (and highly encouraged) to work with and discuss this homework assignment with others in the class, and feel free to use any resources (textbooks, online notebooks, etc). The only requirement is that the final notebook that you turn in must be your own written work (no copy and pasting, please).\n",
        "\n",
        "**Overview**\n",
        "\n"
      ]
    },
    {
      "cell_type": "markdown",
      "metadata": {
        "id": "8-W1WUs-uSdz"
      },
      "source": [
        "## Before you get started\n",
        "\n",
        "**1) How to run this notebook**\n",
        "\n",
        "This Jupyter Notebook can be used in two ways:\n",
        "* *Option 1: Download the notebook*\n",
        "\n",
        "  We've included all the imports necessary for this homework. Please make sure you're running Python 3 with PyTorch (and Torchvision) installed and ready to go, along with NumPy and Matplotlib. Although you might find that these models train a bit faster on GPU, this homework assignment should be doable on most modern laptops. If you're having trouble please let us know ASAP.\n",
        "\n",
        "* *Option 2: Run it online on Google Colaboratory*\n",
        "\n",
        "  - Colab gives access to a GPU, so it could be useful in case you don't have CUDA installed on your computer (**Note: you can use this as an opportunity to get started on GPU training, but we recommend you develop your model and make sure everything works on CPU first**)\n",
        "  - Make a copy of this notebook in your Google Drive folder: \"File\" -> \"Save a copy in Drive...\"\n",
        "  - By default, Colab does not make GPUs available, but you can easily access them by selecting GPU in \"Runtime\" -> \"Change runtime type...\"\n",
        "  - Remember that Colab runs in a temporary virtual machine, so all the data created while running the notebook will be lost at the end of the session, or when the runtime disconnects due to inactivity. To preserve data between sessions, there are a couple of options:\n",
        "    * you can link Colab to your personal Google Drive by mounting it on your runtime, see first cell below.\n",
        "    * you can download/upload files from the Files tab on the right sidebar.\n",
        "\n",
        "**3) How to complete this assignment**\n",
        "\n",
        "  - Fill out the relevant code blocks as indicated\n",
        "  - Answer questions by writing them directly in the text block. Please keep your written answers concise, most are meant to be answered in a sentence or two.\n",
        "  - Make figures showing your results and add comments with your observations.\n",
        "  - Some code is provided for you. Feel free to amend provided code as necessary to complete the assignment. Your implementation for specific portions may require changes to the provided code, which is OK.\n",
        "\n",
        "***Let's start!***\n",
        "\n",
        "---"
      ]
    },
    {
      "cell_type": "markdown",
      "metadata": {
        "id": "fzyVPwhkMWk3"
      },
      "source": [
        "The following command can be used to mount your personal Google Drive folder on the temporary virtual machine, so you can recover data between sessions (follow the instructions, you'll need an authorization code). Additional info [here](https://colab.research.google.com/notebooks/io.ipynb#scrollTo=u22w3BFiOveA).\n"
      ]
    },
    {
      "cell_type": "code",
      "execution_count": 1,
      "metadata": {
        "colab": {
          "base_uri": "https://localhost:8080/"
        },
        "id": "STvHSt3zICjF",
        "outputId": "ec8afd04-2a07-41fa-e104-84f3a80d6124"
      },
      "outputs": [],
      "source": [
        "# # Skip this cell if running locally\n",
        "#from google.colab import drive\n",
        "#drive.mount('/content/gdrive')"
      ]
    },
    {
      "cell_type": "code",
      "execution_count": 2,
      "metadata": {
        "id": "OyDaEPTr4YNP"
      },
      "outputs": [],
      "source": [
        "# Import all the necessary libraries\n",
        "import numpy as np\n",
        "from matplotlib import pyplot as plt\n",
        "from scipy import stats\n",
        "\n",
        "# %matplotlib inline\n",
        "\n",
        "# from IPython.display import Image, display\n",
        "\n",
        "import torch\n",
        "import torch.nn as nn\n",
        "import torch.nn.functional as F\n",
        "import torch.optim as optim\n",
        "from torch.utils.data import random_split, TensorDataset, DataLoader"
      ]
    },
    {
      "cell_type": "markdown",
      "metadata": {
        "id": "MBrzn_tnFKsM"
      },
      "source": [
        "> **Question 0) Why is it important to set the seed for the random number generator?**\n",
        "\n",
        "Setting a seed ensures reproducibility in your code. If you do not set a seed, you will get different results everytime you run your model. Therefore, when you change hyperparameters or split your data, it will change your output everytime you run your model.\n",
        "\n",
        "\n"
      ]
    },
    {
      "cell_type": "code",
      "execution_count": 3,
      "metadata": {
        "id": "Hjtsq8Zi4sTS"
      },
      "outputs": [],
      "source": [
        "random_seed = 42 # Feel free to pick your favorite number\n",
        "np.random.seed(random_seed)"
      ]
    },
    {
      "cell_type": "markdown",
      "metadata": {
        "id": "QG7jERid51-b"
      },
      "source": [
        "### 1. **Simple Regression Task Setup**\n",
        "\n",
        "We will begin this homework by using gradient descent to accomplish a single-variate regression task.\n",
        "\n",
        "Regression is a statistical technique for estimating one (dependent) variable from one, or more, other (independent) variables. Here, we will use basic machine learning methodologies to estimate an affine relationship between two variables.\n",
        "\n",
        "Recall the equation of a line:\n",
        "\n",
        "\n",
        "\n"
      ]
    },
    {
      "cell_type": "markdown",
      "metadata": {
        "id": "AMcdPkZS76El"
      },
      "source": [
        "$$\n",
        "y = mx + b\n",
        "$$\n",
        "\n"
      ]
    },
    {
      "cell_type": "markdown",
      "metadata": {
        "id": "tBaCxhwv8oEV"
      },
      "source": [
        "We would like to reformulate this equation into linear alegebra notation, which can be accomplished with the following:"
      ]
    },
    {
      "cell_type": "markdown",
      "metadata": {
        "id": "w3LU1Odz8zKH"
      },
      "source": [
        "$$\n",
        "y = \\begin{bmatrix}\n",
        "m & b\n",
        "\\end{bmatrix}\n",
        "\\begin{bmatrix}\n",
        "x \\\\\n",
        "1\n",
        "\\end{bmatrix}\n",
        "$$"
      ]
    },
    {
      "cell_type": "markdown",
      "metadata": {
        "id": "vFAYocBq--xB"
      },
      "source": [
        "\n",
        "\n",
        "> **Question 1a) What variables in the above equation are the weights we would like to learn?**\n",
        "\n",
        "We want to know how weights and bias and how they change to map our inputs to the corresponding outputs.\n"
      ]
    },
    {
      "cell_type": "markdown",
      "metadata": {
        "id": "uEV36HVDk2l3"
      },
      "source": [
        "> **Question 1b) Draw the regression task in the form of a neural network.**\n",
        "\n",
        "Because our regression task is a matrix multiplication followed by an activation function (the identity function), it can be formulated as a very simple artificial neural network with no hidden layers. Attempt to draw the network diagram of our regression task. Feel free to embed an image.\n",
        "\n",
        "![alt text](images/linear_regression.jpeg \"Linear Regression\")\n"
      ]
    },
    {
      "cell_type": "markdown",
      "metadata": {
        "id": "r8EreCtP_Pkv"
      },
      "source": [
        "Let's begin.\n",
        "\n",
        "First, let's create a random line that we would like to estimate."
      ]
    },
    {
      "cell_type": "code",
      "execution_count": 4,
      "metadata": {
        "colab": {
          "base_uri": "https://localhost:8080/",
          "height": 482
        },
        "id": "EKHGshj3_O0B",
        "outputId": "29a1e1c5-d200-401f-b0c8-a9b79330b571"
      },
      "outputs": [
        {
          "name": "stdout",
          "output_type": "stream",
          "text": [
            "Line parameters: m=7, b=4\n",
            "\n"
          ]
        },
        {
          "data": {
            "text/plain": [
              "[<matplotlib.lines.Line2D at 0x15c9b2d50>]"
            ]
          },
          "execution_count": 4,
          "metadata": {},
          "output_type": "execute_result"
        },
        {
          "data": {
            "image/png": "[encoded data removed]",
            "text/plain": [
              "<Figure size 640x480 with 1 Axes>"
            ]
          },
          "metadata": {},
          "output_type": "display_data"
        }
      ],
      "source": [
        "# Creating random slope and intercept to act as our line parameters\n",
        "m, b = np.random.randint(1, 11), np.random.randint(1, 11)\n",
        "\n",
        "# Generate a set of 100 (X,Y) coordinates that share the relationship y=mx+b\n",
        "x = np.random.randint(1,101, size=100)\n",
        "y = m * x + b\n",
        "print(f\"Line parameters: m={m}, b={b}\")\n",
        "print(\"\")\n",
        "\n",
        "# Plot the (X,Y) points as a line plot using matplotlib\n",
        "plt.plot(x, y, label='Line Plot', color='blue', marker='o')"
      ]
    },
    {
      "cell_type": "markdown",
      "metadata": {
        "id": "REbMzSTIEf_X"
      },
      "source": [
        "Data is always messy. Let's add some noise to our Y vector to resemble a dataset which we \"measured\" from the real world, and visualize the new results."
      ]
    },
    {
      "cell_type": "code",
      "execution_count": 5,
      "metadata": {
        "colab": {
          "base_uri": "https://localhost:8080/",
          "height": 447
        },
        "id": "mK4PfEbDALSu",
        "outputId": "a998114c-e2ff-4b27-cd3a-4e690221066d"
      },
      "outputs": [
        {
          "data": {
            "text/plain": [
              "<matplotlib.collections.PathCollection at 0x15d8892b0>"
            ]
          },
          "execution_count": 5,
          "metadata": {},
          "output_type": "execute_result"
        },
        {
          "data": {
            "image/png": "[encoded data removed]",
            "text/plain": [
              "<Figure size 640x480 with 1 Axes>"
            ]
          },
          "metadata": {},
          "output_type": "display_data"
        }
      ],
      "source": [
        "# Add noise to our y-vector\n",
        "mu, sigma = 0, 15\n",
        "noise_vector = np.random.normal(mu, sigma, 100)\n",
        "y_measured = y + noise_vector\n",
        "\n",
        "# Plot the (X,Y) points as a scatter plot using matplotlib\n",
        "plt.scatter(x, y_measured, label='Line Plot', color='blue', marker='o')"
      ]
    },
    {
      "cell_type": "markdown",
      "metadata": {
        "id": "Xd47zpRoGODt"
      },
      "source": [
        "Now, we would like to estimate the line parameters which best fit our noisy, observed data. We will accomplish this by starting with random weights and updating those weights using gradient descent. We also need to define how \"bad\" our model is with a loss function.\n",
        "\n"
      ]
    },
    {
      "cell_type": "code",
      "execution_count": 6,
      "metadata": {
        "id": "jmEyt2bjIn_j"
      },
      "outputs": [],
      "source": [
        "# Initialize random model weights\n",
        "def initialize_model(num_weights=2):\n",
        "  weights = []\n",
        "  for i in range(num_weights):\n",
        "    weights.append(np.random.randint(1, 11)) # Only select integers between 1-10.\n",
        "  return np.array(weights)"
      ]
    },
    {
      "cell_type": "code",
      "execution_count": 7,
      "metadata": {
        "colab": {
          "base_uri": "https://localhost:8080/"
        },
        "id": "mcBbH-XXv1zq",
        "outputId": "70597c81-25c8-4bf0-958d-06d6240c6391"
      },
      "outputs": [
        {
          "name": "stdout",
          "output_type": "stream",
          "text": [
            "Random Weights: m=9, b=9\n"
          ]
        }
      ],
      "source": [
        "weights = initialize_model() # Includes bias term\n",
        "print(f\"Random Weights: m={weights[0]}, b={weights[1]}\")"
      ]
    },
    {
      "cell_type": "code",
      "execution_count": 8,
      "metadata": {
        "id": "TDD_5wVCQw1h"
      },
      "outputs": [],
      "source": [
        "# Define your prediction function. This function should return a vector of size x, predicting the y-values.\n",
        "def predict(weights, x):\n",
        "  # Hint, it should be the equation of the line from above. Remember to include the bias term for the data points.\n",
        "  # For an added challenge: Try to use matrix multiplication, and avoid for loops.\n",
        "  \n",
        "  y = np.dot(weights[0], x) + weights[1]\n",
        "\n",
        "  #y = weights[0] * x + weights[1]\n",
        "  return y"
      ]
    },
    {
      "cell_type": "markdown",
      "metadata": {
        "id": "rW89Hb_aiiQ-"
      },
      "source": [
        "Let's visualize our untrained model's predictions alongside our target data (y_measured)."
      ]
    },
    {
      "cell_type": "code",
      "execution_count": 9,
      "metadata": {
        "colab": {
          "base_uri": "https://localhost:8080/",
          "height": 447
        },
        "id": "ssp1v1Initks",
        "outputId": "f4be78ba-e308-47b9-dd4d-dfd3fc284b0e"
      },
      "outputs": [
        {
          "data": {
            "text/plain": [
              "<matplotlib.collections.PathCollection at 0x15db5f4d0>"
            ]
          },
          "execution_count": 9,
          "metadata": {},
          "output_type": "execute_result"
        },
        {
          "data": {
            "image/png": "[encoded data removed]",
            "text/plain": [
              "<Figure size 640x480 with 1 Axes>"
            ]
          },
          "metadata": {},
          "output_type": "display_data"
        }
      ],
      "source": [
        "plt.scatter(x, y_measured, label='Line Plot', color='blue', marker='o')\n",
        "plt.scatter(x, predict(weights, x), color='orange', marker='+')"
      ]
    },
    {
      "cell_type": "markdown",
      "metadata": {
        "id": "xpEDY9QUjHkX"
      },
      "source": [
        "Next, we need to define a loss function to quantify how \"bad\" our current model is at predicting our desired data points."
      ]
    },
    {
      "cell_type": "markdown",
      "metadata": {
        "id": "WdsMnI74jGYi"
      },
      "source": [
        "\n",
        "> **Question 1c) What would be a reasonable loss function for our model and observations?**\n",
        "\n",
        "MSE"
      ]
    },
    {
      "cell_type": "code",
      "execution_count": 10,
      "metadata": {
        "id": "BMe34WtMIOfr"
      },
      "outputs": [],
      "source": [
        "# Define loss function\n",
        "def loss(predictions, targets):\n",
        "  # Write loss function\n",
        "  # Student's should likely implement mean-squared error loss\n",
        "  y = np.mean((predictions - targets)**2)\n",
        "  return y"
      ]
    },
    {
      "cell_type": "markdown",
      "metadata": {
        "id": "jLfi3aAKPmu3"
      },
      "source": [
        "Let's see the loss of your untrained model.\n"
      ]
    },
    {
      "cell_type": "code",
      "execution_count": 11,
      "metadata": {
        "colab": {
          "base_uri": "https://localhost:8080/"
        },
        "id": "EUr-Ebx6PkCk",
        "outputId": "5b92ff3b-3018-449b-d528-c078371643e0"
      },
      "outputs": [
        {
          "name": "stdout",
          "output_type": "stream",
          "text": [
            "15245.957090865357\n"
          ]
        }
      ],
      "source": [
        "predictions = predict(weights, x)\n",
        "print(loss(predictions, y_measured))"
      ]
    },
    {
      "cell_type": "markdown",
      "metadata": {
        "id": "ncDEvkcKjXmp"
      },
      "source": [
        "Not great! We'll do better after training."
      ]
    },
    {
      "cell_type": "markdown",
      "metadata": {
        "id": "92xo-8WrUMLT"
      },
      "source": [
        "### 2. **Training our Regression**\n",
        "\n",
        "Now that we have set-up our problem statement, collected data, and defined our model and loss function, we would like to train our model to minimize the loss function. We will accomplish this using gradient descent.\n",
        "\n",
        "Recall that the gradient is the derivative of the loss function with respect to each weight (or parameter) in our model. The gradient takes the form of a vector."
      ]
    },
    {
      "cell_type": "markdown",
      "metadata": {
        "id": "dApjXngIVbe7"
      },
      "source": [
        "> **Question 2a) In a few sentences, describe gradient descent?**\n",
        "\n",
        "Gradient Descent is an algorithm that finds the minima (could be a local or global) of a differentiable function. It will iteratively update the weights and bias so that our model converges to a function that maps our inputs to the outputs"
      ]
    },
    {
      "cell_type": "markdown",
      "metadata": {
        "id": "ZU08g_pUYDkF"
      },
      "source": [
        "> **Question 2b) What are the partial derivatives of your loss function with respect to each model parameter?**\n",
        "\n",
        "![alt text](images/lr_gd.jpeg)"
      ]
    },
    {
      "cell_type": "code",
      "execution_count": 12,
      "metadata": {
        "id": "aM1rYJCHUQ3n"
      },
      "outputs": [],
      "source": [
        "# Implement the gradient function for our regression task.\n",
        "# It should return a vector the same size as the model 'weights' variable.\n",
        "def gradient_func(x, y, predictions):\n",
        "  # Your code here\n",
        "  \n",
        "  # The error term represents yi - (mx+b) in the drawing above\n",
        "  error = y - predictions\n",
        "  \n",
        "  # Gradient of slope, we compute the dot product of X.T and error term to influence the weight of each X \n",
        "  m = -2/len(x) * np.dot(x.T, error)\n",
        "  \n",
        "  # Gradient of bias term, we compute the aggregate error because bias is a scalar\n",
        "  b = -2/len(x) * (error.sum())\n",
        "\n",
        "  return [m, b]"
      ]
    },
    {
      "cell_type": "code",
      "execution_count": 13,
      "metadata": {
        "id": "xbdTDDn9Z_dE"
      },
      "outputs": [],
      "source": [
        "# Implement a \"step\" function, which adjusts the model weights based upon the gradient and step size\n",
        "def take_step(weights, gradient, lr):\n",
        "  # Your code here\n",
        "  \n",
        "  weights[0] -= lr * gradient[0]\n",
        "  weights[1] -= lr * gradient[1]\n",
        "  \n",
        "  return weights "
      ]
    },
    {
      "cell_type": "code",
      "execution_count": 14,
      "metadata": {
        "id": "hhv2m5N9miQv"
      },
      "outputs": [],
      "source": [
        "# Implement the training loop that utilizes gradient descent.\n",
        "# This function will return the trained model weights and list of loss values\n",
        "def train(x, y_measured, weights, gradient_func, lr, num_steps):\n",
        "\n",
        "  # We will save our losses to plot a loss curve\n",
        "  losses = []\n",
        "\n",
        "  # Your code here\n",
        "  for i in range(num_steps):\n",
        "    # Predict y with initial random weights or previous weights \n",
        "    prediction = predict(weights, x)\n",
        "   \n",
        "    # Compute loss for visualization and append to list\n",
        "    losses.append(loss(prediction, y_measured))\n",
        "    \n",
        "    # Compute the gradient with current x, ground truth y, and predictions \n",
        "    gradient = gradient_func(x, y_measured, prediction) \n",
        "\n",
        "    # Take a step by updating the weights with our gradient and learning rate \n",
        "    weights = take_step(weights, gradient, lr)\n",
        "\n",
        "  return weights, losses"
      ]
    },
    {
      "cell_type": "code",
      "execution_count": 15,
      "metadata": {
        "id": "AOu4C4cGnKQa"
      },
      "outputs": [
        {
          "name": "stdout",
          "output_type": "stream",
          "text": [
            "Random Weights: m=9, b=9\n"
          ]
        }
      ],
      "source": [
        "# Define our learning rate (i.e. step size) to use in gradient descent algorithm\n",
        "learning_rate = 0.00027\n",
        "\n",
        "# Define number of steps to take in gradient descent training\n",
        "num_steps = 2000 # Choose something reasonable\n",
        "\n",
        "print(f\"Random Weights: m={weights[0]}, b={weights[1]}\")\n",
        "# Train our model\n",
        "weights, losses = train(x, y_measured, weights, gradient_func, learning_rate, num_steps)\n"
      ]
    },
    {
      "cell_type": "markdown",
      "metadata": {
        "id": "ibeSm8c1jzt-"
      },
      "source": [
        "Let's visualize our loss curve and resultant trained model."
      ]
    },
    {
      "cell_type": "code",
      "execution_count": 16,
      "metadata": {
        "id": "nl-Biz8kdqYQ"
      },
      "outputs": [
        {
          "name": "stdout",
          "output_type": "stream",
          "text": [
            "[np.float64(15245.957090865357), np.float64(13395.698032798668), np.float64(4143.203427606685), np.float64(3420.9346327453413), np.float64(234.20976434801477), np.float64(3518.9761010893444), np.float64(229.69123269201737), np.float64(3619.0175694333475), np.float64(227.17270103602002), np.float64(3721.059037777349), np.float64(226.65416938002258), np.float64(226.65416938002258), np.float64(226.65416938002258), np.float64(226.65416938002258), np.float64(226.65416938002258), np.float64(226.65416938002258), np.float64(226.65416938002258), np.float64(226.65416938002258), np.float64(226.65416938002258), np.float64(226.65416938002258), np.float64(226.65416938002258), np.float64(226.65416938002258), np.float64(226.65416938002258), np.float64(226.65416938002258), np.float64(226.65416938002258), np.float64(226.65416938002258), np.float64(226.65416938002258), np.float64(226.65416938002258), np.float64(226.65416938002258), np.float64(226.65416938002258), np.float64(226.65416938002258), np.float64(226.65416938002258), np.float64(226.65416938002258), np.float64(226.65416938002258), np.float64(226.65416938002258), np.float64(226.65416938002258), np.float64(226.65416938002258), np.float64(226.65416938002258), np.float64(226.65416938002258), np.float64(226.65416938002258), np.float64(226.65416938002258), np.float64(226.65416938002258), np.float64(226.65416938002258), np.float64(226.65416938002258), np.float64(226.65416938002258), np.float64(226.65416938002258), np.float64(226.65416938002258), np.float64(226.65416938002258), np.float64(226.65416938002258), np.float64(226.65416938002258), np.float64(226.65416938002258), np.float64(226.65416938002258), np.float64(226.65416938002258), np.float64(226.65416938002258), np.float64(226.65416938002258), np.float64(226.65416938002258), np.float64(226.65416938002258), np.float64(226.65416938002258), np.float64(226.65416938002258), np.float64(226.65416938002258), np.float64(226.65416938002258), np.float64(226.65416938002258), np.float64(226.65416938002258), np.float64(226.65416938002258), np.float64(226.65416938002258), np.float64(226.65416938002258), np.float64(226.65416938002258), np.float64(226.65416938002258), np.float64(226.65416938002258), np.float64(226.65416938002258), np.float64(226.65416938002258), np.float64(226.65416938002258), np.float64(226.65416938002258), np.float64(226.65416938002258), np.float64(226.65416938002258), np.float64(226.65416938002258), np.float64(226.65416938002258), np.float64(226.65416938002258), np.float64(226.65416938002258), np.float64(226.65416938002258), np.float64(226.65416938002258), np.float64(226.65416938002258), np.float64(226.65416938002258), np.float64(226.65416938002258), np.float64(226.65416938002258), np.float64(226.65416938002258), np.float64(226.65416938002258), np.float64(226.65416938002258), np.float64(226.65416938002258), np.float64(226.65416938002258), np.float64(226.65416938002258), np.float64(226.65416938002258), np.float64(226.65416938002258), np.float64(226.65416938002258), np.float64(226.65416938002258), np.float64(226.65416938002258), np.float64(226.65416938002258), np.float64(226.65416938002258), np.float64(226.65416938002258), np.float64(226.65416938002258), np.float64(226.65416938002258), np.float64(226.65416938002258), np.float64(226.65416938002258), np.float64(226.65416938002258), np.float64(226.65416938002258), np.float64(226.65416938002258), np.float64(226.65416938002258), np.float64(226.65416938002258), np.float64(226.65416938002258), np.float64(226.65416938002258), np.float64(226.65416938002258), np.float64(226.65416938002258), np.float64(226.65416938002258), np.float64(226.65416938002258), np.float64(226.65416938002258), np.float64(226.65416938002258), np.float64(226.65416938002258), np.float64(226.65416938002258), np.float64(226.65416938002258), np.float64(226.65416938002258), np.float64(226.65416938002258), np.float64(226.65416938002258), np.float64(226.65416938002258), np.float64(226.65416938002258), np.float64(226.65416938002258), np.float64(226.65416938002258), np.float64(226.65416938002258), np.float64(226.65416938002258), np.float64(226.65416938002258), np.float64(226.65416938002258), np.float64(226.65416938002258), np.float64(226.65416938002258), np.float64(226.65416938002258), np.float64(226.65416938002258), np.float64(226.65416938002258), np.float64(226.65416938002258), np.float64(226.65416938002258), np.float64(226.65416938002258), np.float64(226.65416938002258), np.float64(226.65416938002258), np.float64(226.65416938002258), np.float64(226.65416938002258), np.float64(226.65416938002258), np.float64(226.65416938002258), np.float64(226.65416938002258), np.float64(226.65416938002258), np.float64(226.65416938002258), np.float64(226.65416938002258), np.float64(226.65416938002258), np.float64(226.65416938002258), np.float64(226.65416938002258), np.float64(226.65416938002258), np.float64(226.65416938002258), np.float64(226.65416938002258), np.float64(226.65416938002258), np.float64(226.65416938002258), np.float64(226.65416938002258), np.float64(226.65416938002258), np.float64(226.65416938002258), np.float64(226.65416938002258), np.float64(226.65416938002258), np.float64(226.65416938002258), np.float64(226.65416938002258), np.float64(226.65416938002258), np.float64(226.65416938002258), np.float64(226.65416938002258), np.float64(226.65416938002258), np.float64(226.65416938002258), np.float64(226.65416938002258), np.float64(226.65416938002258), np.float64(226.65416938002258), np.float64(226.65416938002258), np.float64(226.65416938002258), np.float64(226.65416938002258), np.float64(226.65416938002258), np.float64(226.65416938002258), np.float64(226.65416938002258), np.float64(226.65416938002258), np.float64(226.65416938002258), np.float64(226.65416938002258), np.float64(226.65416938002258), np.float64(226.65416938002258), np.float64(226.65416938002258), np.float64(226.65416938002258), np.float64(226.65416938002258), np.float64(226.65416938002258), np.float64(226.65416938002258), np.float64(226.65416938002258), np.float64(226.65416938002258), np.float64(226.65416938002258), np.float64(226.65416938002258), np.float64(226.65416938002258), np.float64(226.65416938002258), np.float64(226.65416938002258), np.float64(226.65416938002258), np.float64(226.65416938002258), np.float64(226.65416938002258), np.float64(226.65416938002258), np.float64(226.65416938002258), np.float64(226.65416938002258), np.float64(226.65416938002258), np.float64(226.65416938002258), np.float64(226.65416938002258), np.float64(226.65416938002258), np.float64(226.65416938002258), np.float64(226.65416938002258), np.float64(226.65416938002258), np.float64(226.65416938002258), np.float64(226.65416938002258), np.float64(226.65416938002258), np.float64(226.65416938002258), np.float64(226.65416938002258), np.float64(226.65416938002258), np.float64(226.65416938002258), np.float64(226.65416938002258), np.float64(226.65416938002258), np.float64(226.65416938002258), np.float64(226.65416938002258), np.float64(226.65416938002258), np.float64(226.65416938002258), np.float64(226.65416938002258), np.float64(226.65416938002258), np.float64(226.65416938002258), np.float64(226.65416938002258), np.float64(226.65416938002258), np.float64(226.65416938002258), np.float64(226.65416938002258), np.float64(226.65416938002258), np.float64(226.65416938002258), np.float64(226.65416938002258), np.float64(226.65416938002258), np.float64(226.65416938002258), np.float64(226.65416938002258), np.float64(226.65416938002258), np.float64(226.65416938002258), np.float64(226.65416938002258), np.float64(226.65416938002258), np.float64(226.65416938002258), np.float64(226.65416938002258), np.float64(226.65416938002258), np.float64(226.65416938002258), np.float64(226.65416938002258), np.float64(226.65416938002258), np.float64(226.65416938002258), np.float64(226.65416938002258), np.float64(226.65416938002258), np.float64(226.65416938002258), np.float64(226.65416938002258), np.float64(226.65416938002258), np.float64(226.65416938002258), np.float64(226.65416938002258), np.float64(226.65416938002258), np.float64(226.65416938002258), np.float64(226.65416938002258), np.float64(226.65416938002258), np.float64(226.65416938002258), np.float64(226.65416938002258), np.float64(226.65416938002258), np.float64(226.65416938002258), np.float64(226.65416938002258), np.float64(226.65416938002258), np.float64(226.65416938002258), np.float64(226.65416938002258), np.float64(226.65416938002258), np.float64(226.65416938002258), np.float64(226.65416938002258), np.float64(226.65416938002258), np.float64(226.65416938002258), np.float64(226.65416938002258), np.float64(226.65416938002258), np.float64(226.65416938002258), np.float64(226.65416938002258), np.float64(226.65416938002258), np.float64(226.65416938002258), np.float64(226.65416938002258), np.float64(226.65416938002258), np.float64(226.65416938002258), np.float64(226.65416938002258), np.float64(226.65416938002258), np.float64(226.65416938002258), np.float64(226.65416938002258), np.float64(226.65416938002258), np.float64(226.65416938002258), np.float64(226.65416938002258), np.float64(226.65416938002258), np.float64(226.65416938002258), np.float64(226.65416938002258), np.float64(226.65416938002258), np.float64(226.65416938002258), np.float64(226.65416938002258), np.float64(226.65416938002258), np.float64(226.65416938002258), np.float64(226.65416938002258), np.float64(226.65416938002258), np.float64(226.65416938002258), np.float64(226.65416938002258), np.float64(226.65416938002258), np.float64(226.65416938002258), np.float64(226.65416938002258), np.float64(226.65416938002258), np.float64(226.65416938002258), np.float64(226.65416938002258), np.float64(226.65416938002258), np.float64(226.65416938002258), np.float64(226.65416938002258), np.float64(226.65416938002258), np.float64(226.65416938002258), np.float64(226.65416938002258), np.float64(226.65416938002258), np.float64(226.65416938002258), np.float64(226.65416938002258), np.float64(226.65416938002258), np.float64(226.65416938002258), np.float64(226.65416938002258), np.float64(226.65416938002258), np.float64(226.65416938002258), np.float64(226.65416938002258), np.float64(226.65416938002258), np.float64(226.65416938002258), np.float64(226.65416938002258), np.float64(226.65416938002258), np.float64(226.65416938002258), np.float64(226.65416938002258), np.float64(226.65416938002258), np.float64(226.65416938002258), np.float64(226.65416938002258), np.float64(226.65416938002258), np.float64(226.65416938002258), np.float64(226.65416938002258), np.float64(226.65416938002258), np.float64(226.65416938002258), np.float64(226.65416938002258), np.float64(226.65416938002258), np.float64(226.65416938002258), np.float64(226.65416938002258), np.float64(226.65416938002258), np.float64(226.65416938002258), np.float64(226.65416938002258), np.float64(226.65416938002258), np.float64(226.65416938002258), np.float64(226.65416938002258), np.float64(226.65416938002258), np.float64(226.65416938002258), np.float64(226.65416938002258), np.float64(226.65416938002258), np.float64(226.65416938002258), np.float64(226.65416938002258), np.float64(226.65416938002258), np.float64(226.65416938002258), np.float64(226.65416938002258), np.float64(226.65416938002258), np.float64(226.65416938002258), np.float64(226.65416938002258), np.float64(226.65416938002258), np.float64(226.65416938002258), np.float64(226.65416938002258), np.float64(226.65416938002258), np.float64(226.65416938002258), np.float64(226.65416938002258), np.float64(226.65416938002258), np.float64(226.65416938002258), np.float64(226.65416938002258), np.float64(226.65416938002258), np.float64(226.65416938002258), np.float64(226.65416938002258), np.float64(226.65416938002258), np.float64(226.65416938002258), np.float64(226.65416938002258), np.float64(226.65416938002258), np.float64(226.65416938002258), np.float64(226.65416938002258), np.float64(226.65416938002258), np.float64(226.65416938002258), np.float64(226.65416938002258), np.float64(226.65416938002258), np.float64(226.65416938002258), np.float64(226.65416938002258), np.float64(226.65416938002258), np.float64(226.65416938002258), np.float64(226.65416938002258), np.float64(226.65416938002258), np.float64(226.65416938002258), np.float64(226.65416938002258), np.float64(226.65416938002258), np.float64(226.65416938002258), np.float64(226.65416938002258), np.float64(226.65416938002258), np.float64(226.65416938002258), np.float64(226.65416938002258), np.float64(226.65416938002258), np.float64(226.65416938002258), np.float64(226.65416938002258), np.float64(226.65416938002258), np.float64(226.65416938002258), np.float64(226.65416938002258), np.float64(226.65416938002258), np.float64(226.65416938002258), np.float64(226.65416938002258), np.float64(226.65416938002258), np.float64(226.65416938002258), np.float64(226.65416938002258), np.float64(226.65416938002258), np.float64(226.65416938002258), np.float64(226.65416938002258), np.float64(226.65416938002258), np.float64(226.65416938002258), np.float64(226.65416938002258), np.float64(226.65416938002258), np.float64(226.65416938002258), np.float64(226.65416938002258), np.float64(226.65416938002258), np.float64(226.65416938002258), np.float64(226.65416938002258), np.float64(226.65416938002258), np.float64(226.65416938002258), np.float64(226.65416938002258), np.float64(226.65416938002258), np.float64(226.65416938002258), np.float64(226.65416938002258), np.float64(226.65416938002258), np.float64(226.65416938002258), np.float64(226.65416938002258), np.float64(226.65416938002258), np.float64(226.65416938002258), np.float64(226.65416938002258), np.float64(226.65416938002258), np.float64(226.65416938002258), np.float64(226.65416938002258), np.float64(226.65416938002258), np.float64(226.65416938002258), np.float64(226.65416938002258), np.float64(226.65416938002258), np.float64(226.65416938002258), np.float64(226.65416938002258), np.float64(226.65416938002258), np.float64(226.65416938002258), np.float64(226.65416938002258), np.float64(226.65416938002258), np.float64(226.65416938002258), np.float64(226.65416938002258), np.float64(226.65416938002258), np.float64(226.65416938002258), np.float64(226.65416938002258), np.float64(226.65416938002258), np.float64(226.65416938002258), np.float64(226.65416938002258), np.float64(226.65416938002258), np.float64(226.65416938002258), np.float64(226.65416938002258), np.float64(226.65416938002258), np.float64(226.65416938002258), np.float64(226.65416938002258), np.float64(226.65416938002258), np.float64(226.65416938002258), np.float64(226.65416938002258), np.float64(226.65416938002258), np.float64(226.65416938002258), np.float64(226.65416938002258), np.float64(226.65416938002258), np.float64(226.65416938002258), np.float64(226.65416938002258), np.float64(226.65416938002258), np.float64(226.65416938002258), np.float64(226.65416938002258), np.float64(226.65416938002258), np.float64(226.65416938002258), np.float64(226.65416938002258), np.float64(226.65416938002258), np.float64(226.65416938002258), np.float64(226.65416938002258), np.float64(226.65416938002258), np.float64(226.65416938002258), np.float64(226.65416938002258), np.float64(226.65416938002258), np.float64(226.65416938002258), np.float64(226.65416938002258), np.float64(226.65416938002258), np.float64(226.65416938002258), np.float64(226.65416938002258), np.float64(226.65416938002258), np.float64(226.65416938002258), np.float64(226.65416938002258), np.float64(226.65416938002258), np.float64(226.65416938002258), np.float64(226.65416938002258), np.float64(226.65416938002258), np.float64(226.65416938002258), np.float64(226.65416938002258), np.float64(226.65416938002258), np.float64(226.65416938002258), np.float64(226.65416938002258), np.float64(226.65416938002258), np.float64(226.65416938002258), np.float64(226.65416938002258), np.float64(226.65416938002258), np.float64(226.65416938002258), np.float64(226.65416938002258), np.float64(226.65416938002258), np.float64(226.65416938002258), np.float64(226.65416938002258), np.float64(226.65416938002258), np.float64(226.65416938002258), np.float64(226.65416938002258), np.float64(226.65416938002258), np.float64(226.65416938002258), np.float64(226.65416938002258), np.float64(226.65416938002258), np.float64(226.65416938002258), np.float64(226.65416938002258), np.float64(226.65416938002258), np.float64(226.65416938002258), np.float64(226.65416938002258), np.float64(226.65416938002258), np.float64(226.65416938002258), np.float64(226.65416938002258), np.float64(226.65416938002258), np.float64(226.65416938002258), np.float64(226.65416938002258), np.float64(226.65416938002258), np.float64(226.65416938002258), np.float64(226.65416938002258), np.float64(226.65416938002258), np.float64(226.65416938002258), np.float64(226.65416938002258), np.float64(226.65416938002258), np.float64(226.65416938002258), np.float64(226.65416938002258), np.float64(226.65416938002258), np.float64(226.65416938002258), np.float64(226.65416938002258), np.float64(226.65416938002258), np.float64(226.65416938002258), np.float64(226.65416938002258), np.float64(226.65416938002258), np.float64(226.65416938002258), np.float64(226.65416938002258), np.float64(226.65416938002258), np.float64(226.65416938002258), np.float64(226.65416938002258), np.float64(226.65416938002258), np.float64(226.65416938002258), np.float64(226.65416938002258), np.float64(226.65416938002258), np.float64(226.65416938002258), np.float64(226.65416938002258), np.float64(226.65416938002258), np.float64(226.65416938002258), np.float64(226.65416938002258), np.float64(226.65416938002258), np.float64(226.65416938002258), np.float64(226.65416938002258), np.float64(226.65416938002258), np.float64(226.65416938002258), np.float64(226.65416938002258), np.float64(226.65416938002258), np.float64(226.65416938002258), np.float64(226.65416938002258), np.float64(226.65416938002258), np.float64(226.65416938002258), np.float64(226.65416938002258), np.float64(226.65416938002258), np.float64(226.65416938002258), np.float64(226.65416938002258), np.float64(226.65416938002258), np.float64(226.65416938002258), np.float64(226.65416938002258), np.float64(226.65416938002258), np.float64(226.65416938002258), np.float64(226.65416938002258), np.float64(226.65416938002258), np.float64(226.65416938002258), np.float64(226.65416938002258), np.float64(226.65416938002258), np.float64(226.65416938002258), np.float64(226.65416938002258), np.float64(226.65416938002258), np.float64(226.65416938002258), np.float64(226.65416938002258), np.float64(226.65416938002258), np.float64(226.65416938002258), np.float64(226.65416938002258), np.float64(226.65416938002258), np.float64(226.65416938002258), np.float64(226.65416938002258), np.float64(226.65416938002258), np.float64(226.65416938002258), np.float64(226.65416938002258), np.float64(226.65416938002258), np.float64(226.65416938002258), np.float64(226.65416938002258), np.float64(226.65416938002258), np.float64(226.65416938002258), np.float64(226.65416938002258), np.float64(226.65416938002258), np.float64(226.65416938002258), np.float64(226.65416938002258), np.float64(226.65416938002258), np.float64(226.65416938002258), np.float64(226.65416938002258), np.float64(226.65416938002258), np.float64(226.65416938002258), np.float64(226.65416938002258), np.float64(226.65416938002258), np.float64(226.65416938002258), np.float64(226.65416938002258), np.float64(226.65416938002258), np.float64(226.65416938002258), np.float64(226.65416938002258), np.float64(226.65416938002258), np.float64(226.65416938002258), np.float64(226.65416938002258), np.float64(226.65416938002258), np.float64(226.65416938002258), np.float64(226.65416938002258), np.float64(226.65416938002258), np.float64(226.65416938002258), np.float64(226.65416938002258), np.float64(226.65416938002258), np.float64(226.65416938002258), np.float64(226.65416938002258), np.float64(226.65416938002258), np.float64(226.65416938002258), np.float64(226.65416938002258), np.float64(226.65416938002258), np.float64(226.65416938002258), np.float64(226.65416938002258), np.float64(226.65416938002258), np.float64(226.65416938002258), np.float64(226.65416938002258), np.float64(226.65416938002258), np.float64(226.65416938002258), np.float64(226.65416938002258), np.float64(226.65416938002258), np.float64(226.65416938002258), np.float64(226.65416938002258), np.float64(226.65416938002258), np.float64(226.65416938002258), np.float64(226.65416938002258), np.float64(226.65416938002258), np.float64(226.65416938002258), np.float64(226.65416938002258), np.float64(226.65416938002258), np.float64(226.65416938002258), np.float64(226.65416938002258), np.float64(226.65416938002258), np.float64(226.65416938002258), np.float64(226.65416938002258), np.float64(226.65416938002258), np.float64(226.65416938002258), np.float64(226.65416938002258), np.float64(226.65416938002258), np.float64(226.65416938002258), np.float64(226.65416938002258), np.float64(226.65416938002258), np.float64(226.65416938002258), np.float64(226.65416938002258), np.float64(226.65416938002258), np.float64(226.65416938002258), np.float64(226.65416938002258), np.float64(226.65416938002258), np.float64(226.65416938002258), np.float64(226.65416938002258), np.float64(226.65416938002258), np.float64(226.65416938002258), np.float64(226.65416938002258), np.float64(226.65416938002258), np.float64(226.65416938002258), np.float64(226.65416938002258), np.float64(226.65416938002258), np.float64(226.65416938002258), np.float64(226.65416938002258), np.float64(226.65416938002258), np.float64(226.65416938002258), np.float64(226.65416938002258), np.float64(226.65416938002258), np.float64(226.65416938002258), np.float64(226.65416938002258), np.float64(226.65416938002258), np.float64(226.65416938002258), np.float64(226.65416938002258), np.float64(226.65416938002258), np.float64(226.65416938002258), np.float64(226.65416938002258), np.float64(226.65416938002258), np.float64(226.65416938002258), np.float64(226.65416938002258), np.float64(226.65416938002258), np.float64(226.65416938002258), np.float64(226.65416938002258), np.float64(226.65416938002258), np.float64(226.65416938002258), np.float64(226.65416938002258), np.float64(226.65416938002258), np.float64(226.65416938002258), np.float64(226.65416938002258), np.float64(226.65416938002258), np.float64(226.65416938002258), np.float64(226.65416938002258), np.float64(226.65416938002258), np.float64(226.65416938002258), np.float64(226.65416938002258), np.float64(226.65416938002258), np.float64(226.65416938002258), np.float64(226.65416938002258), np.float64(226.65416938002258), np.float64(226.65416938002258), np.float64(226.65416938002258), np.float64(226.65416938002258), np.float64(226.65416938002258), np.float64(226.65416938002258), np.float64(226.65416938002258), np.float64(226.65416938002258), np.float64(226.65416938002258), np.float64(226.65416938002258), np.float64(226.65416938002258), np.float64(226.65416938002258), np.float64(226.65416938002258), np.float64(226.65416938002258), np.float64(226.65416938002258), np.float64(226.65416938002258), np.float64(226.65416938002258), np.float64(226.65416938002258), np.float64(226.65416938002258), np.float64(226.65416938002258), np.float64(226.65416938002258), np.float64(226.65416938002258), np.float64(226.65416938002258), np.float64(226.65416938002258), np.float64(226.65416938002258), np.float64(226.65416938002258), np.float64(226.65416938002258), np.float64(226.65416938002258), np.float64(226.65416938002258), np.float64(226.65416938002258), np.float64(226.65416938002258), np.float64(226.65416938002258), np.float64(226.65416938002258), np.float64(226.65416938002258), np.float64(226.65416938002258), np.float64(226.65416938002258), np.float64(226.65416938002258), np.float64(226.65416938002258), np.float64(226.65416938002258), np.float64(226.65416938002258), np.float64(226.65416938002258), np.float64(226.65416938002258), np.float64(226.65416938002258), np.float64(226.65416938002258), np.float64(226.65416938002258), np.float64(226.65416938002258), np.float64(226.65416938002258), np.float64(226.65416938002258), np.float64(226.65416938002258), np.float64(226.65416938002258), np.float64(226.65416938002258), np.float64(226.65416938002258), np.float64(226.65416938002258), np.float64(226.65416938002258), np.float64(226.65416938002258), np.float64(226.65416938002258), np.float64(226.65416938002258), np.float64(226.65416938002258), np.float64(226.65416938002258), np.float64(226.65416938002258), np.float64(226.65416938002258), np.float64(226.65416938002258), np.float64(226.65416938002258), np.float64(226.65416938002258), np.float64(226.65416938002258), np.float64(226.65416938002258), np.float64(226.65416938002258), np.float64(226.65416938002258), np.float64(226.65416938002258), np.float64(226.65416938002258), np.float64(226.65416938002258), np.float64(226.65416938002258), np.float64(226.65416938002258), np.float64(226.65416938002258), np.float64(226.65416938002258), np.float64(226.65416938002258), np.float64(226.65416938002258), np.float64(226.65416938002258), np.float64(226.65416938002258), np.float64(226.65416938002258), np.float64(226.65416938002258), np.float64(226.65416938002258), np.float64(226.65416938002258), np.float64(226.65416938002258), np.float64(226.65416938002258), np.float64(226.65416938002258), np.float64(226.65416938002258), np.float64(226.65416938002258), np.float64(226.65416938002258), np.float64(226.65416938002258), np.float64(226.65416938002258), np.float64(226.65416938002258), np.float64(226.65416938002258), np.float64(226.65416938002258), np.float64(226.65416938002258), np.float64(226.65416938002258), np.float64(226.65416938002258), np.float64(226.65416938002258), np.float64(226.65416938002258), np.float64(226.65416938002258), np.float64(226.65416938002258), np.float64(226.65416938002258), np.float64(226.65416938002258), np.float64(226.65416938002258), np.float64(226.65416938002258), np.float64(226.65416938002258), np.float64(226.65416938002258), np.float64(226.65416938002258), np.float64(226.65416938002258), np.float64(226.65416938002258), np.float64(226.65416938002258), np.float64(226.65416938002258), np.float64(226.65416938002258), np.float64(226.65416938002258), np.float64(226.65416938002258), np.float64(226.65416938002258), np.float64(226.65416938002258), np.float64(226.65416938002258), np.float64(226.65416938002258), np.float64(226.65416938002258), np.float64(226.65416938002258), np.float64(226.65416938002258), np.float64(226.65416938002258), np.float64(226.65416938002258), np.float64(226.65416938002258), np.float64(226.65416938002258), np.float64(226.65416938002258), np.float64(226.65416938002258), np.float64(226.65416938002258), np.float64(226.65416938002258), np.float64(226.65416938002258), np.float64(226.65416938002258), np.float64(226.65416938002258), np.float64(226.65416938002258), np.float64(226.65416938002258), np.float64(226.65416938002258), np.float64(226.65416938002258), np.float64(226.65416938002258), np.float64(226.65416938002258), np.float64(226.65416938002258), np.float64(226.65416938002258), np.float64(226.65416938002258), np.float64(226.65416938002258), np.float64(226.65416938002258), np.float64(226.65416938002258), np.float64(226.65416938002258), np.float64(226.65416938002258), np.float64(226.65416938002258), np.float64(226.65416938002258), np.float64(226.65416938002258), np.float64(226.65416938002258), np.float64(226.65416938002258), np.float64(226.65416938002258), np.float64(226.65416938002258), np.float64(226.65416938002258), np.float64(226.65416938002258), np.float64(226.65416938002258), np.float64(226.65416938002258), np.float64(226.65416938002258), np.float64(226.65416938002258), np.float64(226.65416938002258), np.float64(226.65416938002258), np.float64(226.65416938002258), np.float64(226.65416938002258), np.float64(226.65416938002258), np.float64(226.65416938002258), np.float64(226.65416938002258), np.float64(226.65416938002258), np.float64(226.65416938002258), np.float64(226.65416938002258), np.float64(226.65416938002258), np.float64(226.65416938002258), np.float64(226.65416938002258), np.float64(226.65416938002258), np.float64(226.65416938002258), np.float64(226.65416938002258), np.float64(226.65416938002258), np.float64(226.65416938002258), np.float64(226.65416938002258), np.float64(226.65416938002258), np.float64(226.65416938002258), np.float64(226.65416938002258), np.float64(226.65416938002258), np.float64(226.65416938002258), np.float64(226.65416938002258), np.float64(226.65416938002258), np.float64(226.65416938002258), np.float64(226.65416938002258), np.float64(226.65416938002258), np.float64(226.65416938002258), np.float64(226.65416938002258), np.float64(226.65416938002258), np.float64(226.65416938002258), np.float64(226.65416938002258), np.float64(226.65416938002258), np.float64(226.65416938002258), np.float64(226.65416938002258), np.float64(226.65416938002258), np.float64(226.65416938002258), np.float64(226.65416938002258), np.float64(226.65416938002258), np.float64(226.65416938002258), np.float64(226.65416938002258), np.float64(226.65416938002258), np.float64(226.65416938002258), np.float64(226.65416938002258), np.float64(226.65416938002258), np.float64(226.65416938002258), np.float64(226.65416938002258), np.float64(226.65416938002258), np.float64(226.65416938002258), np.float64(226.65416938002258), np.float64(226.65416938002258), np.float64(226.65416938002258), np.float64(226.65416938002258), np.float64(226.65416938002258), np.float64(226.65416938002258), np.float64(226.65416938002258), np.float64(226.65416938002258), np.float64(226.65416938002258), np.float64(226.65416938002258), np.float64(226.65416938002258), np.float64(226.65416938002258), np.float64(226.65416938002258), np.float64(226.65416938002258), np.float64(226.65416938002258), np.float64(226.65416938002258), np.float64(226.65416938002258), np.float64(226.65416938002258), np.float64(226.65416938002258), np.float64(226.65416938002258), np.float64(226.65416938002258), np.float64(226.65416938002258), np.float64(226.65416938002258), np.float64(226.65416938002258), np.float64(226.65416938002258), np.float64(226.65416938002258), np.float64(226.65416938002258), np.float64(226.65416938002258), np.float64(226.65416938002258), np.float64(226.65416938002258), np.float64(226.65416938002258), np.float64(226.65416938002258), np.float64(226.65416938002258), np.float64(226.65416938002258), np.float64(226.65416938002258), np.float64(226.65416938002258), np.float64(226.65416938002258), np.float64(226.65416938002258), np.float64(226.65416938002258), np.float64(226.65416938002258), np.float64(226.65416938002258), np.float64(226.65416938002258), np.float64(226.65416938002258), np.float64(226.65416938002258), np.float64(226.65416938002258), np.float64(226.65416938002258), np.float64(226.65416938002258), np.float64(226.65416938002258), np.float64(226.65416938002258), np.float64(226.65416938002258), np.float64(226.65416938002258), np.float64(226.65416938002258), np.float64(226.65416938002258), np.float64(226.65416938002258), np.float64(226.65416938002258), np.float64(226.65416938002258), np.float64(226.65416938002258), np.float64(226.65416938002258), np.float64(226.65416938002258), np.float64(226.65416938002258), np.float64(226.65416938002258), np.float64(226.65416938002258), np.float64(226.65416938002258), np.float64(226.65416938002258), np.float64(226.65416938002258), np.float64(226.65416938002258), np.float64(226.65416938002258), np.float64(226.65416938002258), np.float64(226.65416938002258), np.float64(226.65416938002258), np.float64(226.65416938002258), np.float64(226.65416938002258), np.float64(226.65416938002258), np.float64(226.65416938002258), np.float64(226.65416938002258), np.float64(226.65416938002258), np.float64(226.65416938002258), np.float64(226.65416938002258), np.float64(226.65416938002258), np.float64(226.65416938002258), np.float64(226.65416938002258), np.float64(226.65416938002258), np.float64(226.65416938002258), np.float64(226.65416938002258), np.float64(226.65416938002258), np.float64(226.65416938002258), np.float64(226.65416938002258), np.float64(226.65416938002258), np.float64(226.65416938002258), np.float64(226.65416938002258), np.float64(226.65416938002258), np.float64(226.65416938002258), np.float64(226.65416938002258), np.float64(226.65416938002258), np.float64(226.65416938002258), np.float64(226.65416938002258), np.float64(226.65416938002258), np.float64(226.65416938002258), np.float64(226.65416938002258), np.float64(226.65416938002258), np.float64(226.65416938002258), np.float64(226.65416938002258), np.float64(226.65416938002258), np.float64(226.65416938002258), np.float64(226.65416938002258), np.float64(226.65416938002258), np.float64(226.65416938002258), np.float64(226.65416938002258), np.float64(226.65416938002258), np.float64(226.65416938002258), np.float64(226.65416938002258), np.float64(226.65416938002258), np.float64(226.65416938002258), np.float64(226.65416938002258), np.float64(226.65416938002258), np.float64(226.65416938002258), np.float64(226.65416938002258), np.float64(226.65416938002258), np.float64(226.65416938002258), np.float64(226.65416938002258), np.float64(226.65416938002258), np.float64(226.65416938002258), np.float64(226.65416938002258), np.float64(226.65416938002258), np.float64(226.65416938002258), np.float64(226.65416938002258), np.float64(226.65416938002258), np.float64(226.65416938002258), np.float64(226.65416938002258), np.float64(226.65416938002258), np.float64(226.65416938002258), np.float64(226.65416938002258), np.float64(226.65416938002258), np.float64(226.65416938002258), np.float64(226.65416938002258), np.float64(226.65416938002258), np.float64(226.65416938002258), np.float64(226.65416938002258), np.float64(226.65416938002258), np.float64(226.65416938002258), np.float64(226.65416938002258), np.float64(226.65416938002258), np.float64(226.65416938002258), np.float64(226.65416938002258), np.float64(226.65416938002258), np.float64(226.65416938002258), np.float64(226.65416938002258), np.float64(226.65416938002258), np.float64(226.65416938002258), np.float64(226.65416938002258), np.float64(226.65416938002258), np.float64(226.65416938002258), np.float64(226.65416938002258), np.float64(226.65416938002258), np.float64(226.65416938002258), np.float64(226.65416938002258), np.float64(226.65416938002258), np.float64(226.65416938002258), np.float64(226.65416938002258), np.float64(226.65416938002258), np.float64(226.65416938002258), np.float64(226.65416938002258), np.float64(226.65416938002258), np.float64(226.65416938002258), np.float64(226.65416938002258), np.float64(226.65416938002258), np.float64(226.65416938002258), np.float64(226.65416938002258), np.float64(226.65416938002258), np.float64(226.65416938002258), np.float64(226.65416938002258), np.float64(226.65416938002258), np.float64(226.65416938002258), np.float64(226.65416938002258), np.float64(226.65416938002258), np.float64(226.65416938002258), np.float64(226.65416938002258), np.float64(226.65416938002258), np.float64(226.65416938002258), np.float64(226.65416938002258), np.float64(226.65416938002258), np.float64(226.65416938002258), np.float64(226.65416938002258), np.float64(226.65416938002258), np.float64(226.65416938002258), np.float64(226.65416938002258), np.float64(226.65416938002258), np.float64(226.65416938002258), np.float64(226.65416938002258), np.float64(226.65416938002258), np.float64(226.65416938002258), np.float64(226.65416938002258), np.float64(226.65416938002258), np.float64(226.65416938002258), np.float64(226.65416938002258), np.float64(226.65416938002258), np.float64(226.65416938002258), np.float64(226.65416938002258), np.float64(226.65416938002258), np.float64(226.65416938002258), np.float64(226.65416938002258), np.float64(226.65416938002258), np.float64(226.65416938002258), np.float64(226.65416938002258), np.float64(226.65416938002258), np.float64(226.65416938002258), np.float64(226.65416938002258), np.float64(226.65416938002258), np.float64(226.65416938002258), np.float64(226.65416938002258), np.float64(226.65416938002258), np.float64(226.65416938002258), np.float64(226.65416938002258), np.float64(226.65416938002258), np.float64(226.65416938002258), np.float64(226.65416938002258), np.float64(226.65416938002258), np.float64(226.65416938002258), np.float64(226.65416938002258), np.float64(226.65416938002258), np.float64(226.65416938002258), np.float64(226.65416938002258), np.float64(226.65416938002258), np.float64(226.65416938002258), np.float64(226.65416938002258), np.float64(226.65416938002258), np.float64(226.65416938002258), np.float64(226.65416938002258), np.float64(226.65416938002258), np.float64(226.65416938002258), np.float64(226.65416938002258), np.float64(226.65416938002258), np.float64(226.65416938002258), np.float64(226.65416938002258), np.float64(226.65416938002258), np.float64(226.65416938002258), np.float64(226.65416938002258), np.float64(226.65416938002258), np.float64(226.65416938002258), np.float64(226.65416938002258), np.float64(226.65416938002258), np.float64(226.65416938002258), np.float64(226.65416938002258), np.float64(226.65416938002258), np.float64(226.65416938002258), np.float64(226.65416938002258), np.float64(226.65416938002258), np.float64(226.65416938002258), np.float64(226.65416938002258), np.float64(226.65416938002258), np.float64(226.65416938002258), np.float64(226.65416938002258), np.float64(226.65416938002258), np.float64(226.65416938002258), np.float64(226.65416938002258), np.float64(226.65416938002258), np.float64(226.65416938002258), np.float64(226.65416938002258), np.float64(226.65416938002258), np.float64(226.65416938002258), np.float64(226.65416938002258), np.float64(226.65416938002258), np.float64(226.65416938002258), np.float64(226.65416938002258), np.float64(226.65416938002258), np.float64(226.65416938002258), np.float64(226.65416938002258), np.float64(226.65416938002258), np.float64(226.65416938002258), np.float64(226.65416938002258), np.float64(226.65416938002258), np.float64(226.65416938002258), np.float64(226.65416938002258), np.float64(226.65416938002258), np.float64(226.65416938002258), np.float64(226.65416938002258), np.float64(226.65416938002258), np.float64(226.65416938002258), np.float64(226.65416938002258), np.float64(226.65416938002258), np.float64(226.65416938002258), np.float64(226.65416938002258), np.float64(226.65416938002258), np.float64(226.65416938002258), np.float64(226.65416938002258), np.float64(226.65416938002258), np.float64(226.65416938002258), np.float64(226.65416938002258), np.float64(226.65416938002258), np.float64(226.65416938002258), np.float64(226.65416938002258), np.float64(226.65416938002258), np.float64(226.65416938002258), np.float64(226.65416938002258), np.float64(226.65416938002258), np.float64(226.65416938002258), np.float64(226.65416938002258), np.float64(226.65416938002258), np.float64(226.65416938002258), np.float64(226.65416938002258), np.float64(226.65416938002258), np.float64(226.65416938002258), np.float64(226.65416938002258), np.float64(226.65416938002258), np.float64(226.65416938002258), np.float64(226.65416938002258), np.float64(226.65416938002258), np.float64(226.65416938002258), np.float64(226.65416938002258), np.float64(226.65416938002258), np.float64(226.65416938002258), np.float64(226.65416938002258), np.float64(226.65416938002258), np.float64(226.65416938002258), np.float64(226.65416938002258), np.float64(226.65416938002258), np.float64(226.65416938002258), np.float64(226.65416938002258), np.float64(226.65416938002258), np.float64(226.65416938002258), np.float64(226.65416938002258), np.float64(226.65416938002258), np.float64(226.65416938002258), np.float64(226.65416938002258), np.float64(226.65416938002258), np.float64(226.65416938002258), np.float64(226.65416938002258), np.float64(226.65416938002258), np.float64(226.65416938002258), np.float64(226.65416938002258), np.float64(226.65416938002258), np.float64(226.65416938002258), np.float64(226.65416938002258), np.float64(226.65416938002258), np.float64(226.65416938002258), np.float64(226.65416938002258), np.float64(226.65416938002258), np.float64(226.65416938002258), np.float64(226.65416938002258), np.float64(226.65416938002258), np.float64(226.65416938002258), np.float64(226.65416938002258), np.float64(226.65416938002258), np.float64(226.65416938002258), np.float64(226.65416938002258), np.float64(226.65416938002258), np.float64(226.65416938002258), np.float64(226.65416938002258), np.float64(226.65416938002258), np.float64(226.65416938002258), np.float64(226.65416938002258), np.float64(226.65416938002258), np.float64(226.65416938002258), np.float64(226.65416938002258), np.float64(226.65416938002258), np.float64(226.65416938002258), np.float64(226.65416938002258), np.float64(226.65416938002258), np.float64(226.65416938002258), np.float64(226.65416938002258), np.float64(226.65416938002258), np.float64(226.65416938002258), np.float64(226.65416938002258), np.float64(226.65416938002258), np.float64(226.65416938002258), np.float64(226.65416938002258), np.float64(226.65416938002258), np.float64(226.65416938002258), np.float64(226.65416938002258), np.float64(226.65416938002258), np.float64(226.65416938002258), np.float64(226.65416938002258), np.float64(226.65416938002258), np.float64(226.65416938002258), np.float64(226.65416938002258), np.float64(226.65416938002258), np.float64(226.65416938002258), np.float64(226.65416938002258), np.float64(226.65416938002258), np.float64(226.65416938002258), np.float64(226.65416938002258), np.float64(226.65416938002258), np.float64(226.65416938002258), np.float64(226.65416938002258), np.float64(226.65416938002258), np.float64(226.65416938002258), np.float64(226.65416938002258), np.float64(226.65416938002258), np.float64(226.65416938002258), np.float64(226.65416938002258), np.float64(226.65416938002258), np.float64(226.65416938002258), np.float64(226.65416938002258), np.float64(226.65416938002258), np.float64(226.65416938002258), np.float64(226.65416938002258), np.float64(226.65416938002258), np.float64(226.65416938002258), np.float64(226.65416938002258), np.float64(226.65416938002258), np.float64(226.65416938002258), np.float64(226.65416938002258), np.float64(226.65416938002258), np.float64(226.65416938002258), np.float64(226.65416938002258), np.float64(226.65416938002258), np.float64(226.65416938002258), np.float64(226.65416938002258), np.float64(226.65416938002258), np.float64(226.65416938002258), np.float64(226.65416938002258), np.float64(226.65416938002258), np.float64(226.65416938002258), np.float64(226.65416938002258), np.float64(226.65416938002258), np.float64(226.65416938002258), np.float64(226.65416938002258), np.float64(226.65416938002258), np.float64(226.65416938002258), np.float64(226.65416938002258), np.float64(226.65416938002258), np.float64(226.65416938002258), np.float64(226.65416938002258), np.float64(226.65416938002258), np.float64(226.65416938002258), np.float64(226.65416938002258), np.float64(226.65416938002258), np.float64(226.65416938002258), np.float64(226.65416938002258), np.float64(226.65416938002258), np.float64(226.65416938002258), np.float64(226.65416938002258), np.float64(226.65416938002258), np.float64(226.65416938002258), np.float64(226.65416938002258), np.float64(226.65416938002258), np.float64(226.65416938002258), np.float64(226.65416938002258), np.float64(226.65416938002258), np.float64(226.65416938002258), np.float64(226.65416938002258), np.float64(226.65416938002258), np.float64(226.65416938002258), np.float64(226.65416938002258), np.float64(226.65416938002258), np.float64(226.65416938002258), np.float64(226.65416938002258), np.float64(226.65416938002258), np.float64(226.65416938002258), np.float64(226.65416938002258), np.float64(226.65416938002258), np.float64(226.65416938002258), np.float64(226.65416938002258), np.float64(226.65416938002258), np.float64(226.65416938002258), np.float64(226.65416938002258), np.float64(226.65416938002258), np.float64(226.65416938002258), np.float64(226.65416938002258), np.float64(226.65416938002258), np.float64(226.65416938002258), np.float64(226.65416938002258), np.float64(226.65416938002258), np.float64(226.65416938002258), np.float64(226.65416938002258), np.float64(226.65416938002258), np.float64(226.65416938002258), np.float64(226.65416938002258), np.float64(226.65416938002258), np.float64(226.65416938002258), np.float64(226.65416938002258), np.float64(226.65416938002258), np.float64(226.65416938002258), np.float64(226.65416938002258), np.float64(226.65416938002258), np.float64(226.65416938002258), np.float64(226.65416938002258), np.float64(226.65416938002258), np.float64(226.65416938002258), np.float64(226.65416938002258), np.float64(226.65416938002258), np.float64(226.65416938002258), np.float64(226.65416938002258), np.float64(226.65416938002258), np.float64(226.65416938002258), np.float64(226.65416938002258), np.float64(226.65416938002258), np.float64(226.65416938002258), np.float64(226.65416938002258), np.float64(226.65416938002258), np.float64(226.65416938002258), np.float64(226.65416938002258), np.float64(226.65416938002258), np.float64(226.65416938002258), np.float64(226.65416938002258), np.float64(226.65416938002258), np.float64(226.65416938002258), np.float64(226.65416938002258), np.float64(226.65416938002258), np.float64(226.65416938002258), np.float64(226.65416938002258), np.float64(226.65416938002258), np.float64(226.65416938002258), np.float64(226.65416938002258), np.float64(226.65416938002258), np.float64(226.65416938002258), np.float64(226.65416938002258), np.float64(226.65416938002258), np.float64(226.65416938002258), np.float64(226.65416938002258), np.float64(226.65416938002258), np.float64(226.65416938002258), np.float64(226.65416938002258), np.float64(226.65416938002258), np.float64(226.65416938002258), np.float64(226.65416938002258), np.float64(226.65416938002258), np.float64(226.65416938002258), np.float64(226.65416938002258), np.float64(226.65416938002258), np.float64(226.65416938002258), np.float64(226.65416938002258), np.float64(226.65416938002258), np.float64(226.65416938002258), np.float64(226.65416938002258), np.float64(226.65416938002258), np.float64(226.65416938002258), np.float64(226.65416938002258), np.float64(226.65416938002258), np.float64(226.65416938002258), np.float64(226.65416938002258), np.float64(226.65416938002258), np.float64(226.65416938002258), np.float64(226.65416938002258), np.float64(226.65416938002258), np.float64(226.65416938002258), np.float64(226.65416938002258), np.float64(226.65416938002258), np.float64(226.65416938002258), np.float64(226.65416938002258), np.float64(226.65416938002258), np.float64(226.65416938002258), np.float64(226.65416938002258), np.float64(226.65416938002258), np.float64(226.65416938002258), np.float64(226.65416938002258), np.float64(226.65416938002258), np.float64(226.65416938002258), np.float64(226.65416938002258), np.float64(226.65416938002258), np.float64(226.65416938002258), np.float64(226.65416938002258), np.float64(226.65416938002258), np.float64(226.65416938002258), np.float64(226.65416938002258), np.float64(226.65416938002258), np.float64(226.65416938002258), np.float64(226.65416938002258), np.float64(226.65416938002258), np.float64(226.65416938002258), np.float64(226.65416938002258), np.float64(226.65416938002258), np.float64(226.65416938002258), np.float64(226.65416938002258), np.float64(226.65416938002258), np.float64(226.65416938002258), np.float64(226.65416938002258), np.float64(226.65416938002258), np.float64(226.65416938002258), np.float64(226.65416938002258), np.float64(226.65416938002258), np.float64(226.65416938002258), np.float64(226.65416938002258), np.float64(226.65416938002258), np.float64(226.65416938002258), np.float64(226.65416938002258), np.float64(226.65416938002258), np.float64(226.65416938002258), np.float64(226.65416938002258), np.float64(226.65416938002258), np.float64(226.65416938002258), np.float64(226.65416938002258), np.float64(226.65416938002258), np.float64(226.65416938002258), np.float64(226.65416938002258), np.float64(226.65416938002258), np.float64(226.65416938002258), np.float64(226.65416938002258), np.float64(226.65416938002258), np.float64(226.65416938002258), np.float64(226.65416938002258), np.float64(226.65416938002258), np.float64(226.65416938002258), np.float64(226.65416938002258), np.float64(226.65416938002258), np.float64(226.65416938002258), np.float64(226.65416938002258), np.float64(226.65416938002258), np.float64(226.65416938002258), np.float64(226.65416938002258), np.float64(226.65416938002258), np.float64(226.65416938002258), np.float64(226.65416938002258), np.float64(226.65416938002258), np.float64(226.65416938002258), np.float64(226.65416938002258), np.float64(226.65416938002258), np.float64(226.65416938002258), np.float64(226.65416938002258), np.float64(226.65416938002258), np.float64(226.65416938002258), np.float64(226.65416938002258), np.float64(226.65416938002258), np.float64(226.65416938002258), np.float64(226.65416938002258), np.float64(226.65416938002258), np.float64(226.65416938002258), np.float64(226.65416938002258), np.float64(226.65416938002258), np.float64(226.65416938002258), np.float64(226.65416938002258), np.float64(226.65416938002258), np.float64(226.65416938002258), np.float64(226.65416938002258), np.float64(226.65416938002258), np.float64(226.65416938002258), np.float64(226.65416938002258), np.float64(226.65416938002258), np.float64(226.65416938002258), np.float64(226.65416938002258), np.float64(226.65416938002258), np.float64(226.65416938002258), np.float64(226.65416938002258), np.float64(226.65416938002258), np.float64(226.65416938002258), np.float64(226.65416938002258), np.float64(226.65416938002258), np.float64(226.65416938002258), np.float64(226.65416938002258), np.float64(226.65416938002258), np.float64(226.65416938002258), np.float64(226.65416938002258), np.float64(226.65416938002258), np.float64(226.65416938002258), np.float64(226.65416938002258), np.float64(226.65416938002258), np.float64(226.65416938002258), np.float64(226.65416938002258), np.float64(226.65416938002258), np.float64(226.65416938002258), np.float64(226.65416938002258), np.float64(226.65416938002258), np.float64(226.65416938002258), np.float64(226.65416938002258), np.float64(226.65416938002258), np.float64(226.65416938002258), np.float64(226.65416938002258), np.float64(226.65416938002258), np.float64(226.65416938002258), np.float64(226.65416938002258), np.float64(226.65416938002258), np.float64(226.65416938002258), np.float64(226.65416938002258), np.float64(226.65416938002258), np.float64(226.65416938002258), np.float64(226.65416938002258), np.float64(226.65416938002258), np.float64(226.65416938002258), np.float64(226.65416938002258), np.float64(226.65416938002258), np.float64(226.65416938002258), np.float64(226.65416938002258), np.float64(226.65416938002258), np.float64(226.65416938002258), np.float64(226.65416938002258), np.float64(226.65416938002258), np.float64(226.65416938002258), np.float64(226.65416938002258), np.float64(226.65416938002258), np.float64(226.65416938002258), np.float64(226.65416938002258), np.float64(226.65416938002258), np.float64(226.65416938002258), np.float64(226.65416938002258), np.float64(226.65416938002258), np.float64(226.65416938002258), np.float64(226.65416938002258), np.float64(226.65416938002258), np.float64(226.65416938002258), np.float64(226.65416938002258), np.float64(226.65416938002258), np.float64(226.65416938002258), np.float64(226.65416938002258), np.float64(226.65416938002258), np.float64(226.65416938002258), np.float64(226.65416938002258), np.float64(226.65416938002258), np.float64(226.65416938002258), np.float64(226.65416938002258), np.float64(226.65416938002258), np.float64(226.65416938002258), np.float64(226.65416938002258), np.float64(226.65416938002258), np.float64(226.65416938002258), np.float64(226.65416938002258), np.float64(226.65416938002258), np.float64(226.65416938002258), np.float64(226.65416938002258), np.float64(226.65416938002258), np.float64(226.65416938002258), np.float64(226.65416938002258), np.float64(226.65416938002258), np.float64(226.65416938002258), np.float64(226.65416938002258), np.float64(226.65416938002258), np.float64(226.65416938002258), np.float64(226.65416938002258), np.float64(226.65416938002258), np.float64(226.65416938002258), np.float64(226.65416938002258), np.float64(226.65416938002258), np.float64(226.65416938002258), np.float64(226.65416938002258), np.float64(226.65416938002258), np.float64(226.65416938002258), np.float64(226.65416938002258), np.float64(226.65416938002258), np.float64(226.65416938002258), np.float64(226.65416938002258), np.float64(226.65416938002258), np.float64(226.65416938002258), np.float64(226.65416938002258), np.float64(226.65416938002258), np.float64(226.65416938002258), np.float64(226.65416938002258), np.float64(226.65416938002258), np.float64(226.65416938002258), np.float64(226.65416938002258), np.float64(226.65416938002258), np.float64(226.65416938002258), np.float64(226.65416938002258), np.float64(226.65416938002258), np.float64(226.65416938002258), np.float64(226.65416938002258), np.float64(226.65416938002258), np.float64(226.65416938002258), np.float64(226.65416938002258), np.float64(226.65416938002258), np.float64(226.65416938002258), np.float64(226.65416938002258), np.float64(226.65416938002258), np.float64(226.65416938002258), np.float64(226.65416938002258), np.float64(226.65416938002258), np.float64(226.65416938002258), np.float64(226.65416938002258), np.float64(226.65416938002258), np.float64(226.65416938002258), np.float64(226.65416938002258), np.float64(226.65416938002258), np.float64(226.65416938002258), np.float64(226.65416938002258), np.float64(226.65416938002258), np.float64(226.65416938002258), np.float64(226.65416938002258), np.float64(226.65416938002258), np.float64(226.65416938002258), np.float64(226.65416938002258), np.float64(226.65416938002258), np.float64(226.65416938002258), np.float64(226.65416938002258), np.float64(226.65416938002258), np.float64(226.65416938002258), np.float64(226.65416938002258), np.float64(226.65416938002258), np.float64(226.65416938002258), np.float64(226.65416938002258), np.float64(226.65416938002258), np.float64(226.65416938002258), np.float64(226.65416938002258), np.float64(226.65416938002258), np.float64(226.65416938002258), np.float64(226.65416938002258), np.float64(226.65416938002258), np.float64(226.65416938002258), np.float64(226.65416938002258), np.float64(226.65416938002258), np.float64(226.65416938002258), np.float64(226.65416938002258), np.float64(226.65416938002258), np.float64(226.65416938002258), np.float64(226.65416938002258), np.float64(226.65416938002258), np.float64(226.65416938002258), np.float64(226.65416938002258), np.float64(226.65416938002258), np.float64(226.65416938002258), np.float64(226.65416938002258), np.float64(226.65416938002258), np.float64(226.65416938002258), np.float64(226.65416938002258), np.float64(226.65416938002258), np.float64(226.65416938002258), np.float64(226.65416938002258), np.float64(226.65416938002258), np.float64(226.65416938002258), np.float64(226.65416938002258), np.float64(226.65416938002258), np.float64(226.65416938002258), np.float64(226.65416938002258), np.float64(226.65416938002258), np.float64(226.65416938002258), np.float64(226.65416938002258), np.float64(226.65416938002258), np.float64(226.65416938002258), np.float64(226.65416938002258), np.float64(226.65416938002258), np.float64(226.65416938002258), np.float64(226.65416938002258), np.float64(226.65416938002258), np.float64(226.65416938002258), np.float64(226.65416938002258), np.float64(226.65416938002258), np.float64(226.65416938002258), np.float64(226.65416938002258), np.float64(226.65416938002258), np.float64(226.65416938002258), np.float64(226.65416938002258), np.float64(226.65416938002258), np.float64(226.65416938002258), np.float64(226.65416938002258), np.float64(226.65416938002258), np.float64(226.65416938002258), np.float64(226.65416938002258), np.float64(226.65416938002258), np.float64(226.65416938002258), np.float64(226.65416938002258), np.float64(226.65416938002258), np.float64(226.65416938002258), np.float64(226.65416938002258), np.float64(226.65416938002258), np.float64(226.65416938002258), np.float64(226.65416938002258), np.float64(226.65416938002258), np.float64(226.65416938002258), np.float64(226.65416938002258), np.float64(226.65416938002258), np.float64(226.65416938002258), np.float64(226.65416938002258), np.float64(226.65416938002258), np.float64(226.65416938002258), np.float64(226.65416938002258), np.float64(226.65416938002258), np.float64(226.65416938002258), np.float64(226.65416938002258), np.float64(226.65416938002258), np.float64(226.65416938002258), np.float64(226.65416938002258), np.float64(226.65416938002258), np.float64(226.65416938002258), np.float64(226.65416938002258), np.float64(226.65416938002258), np.float64(226.65416938002258), np.float64(226.65416938002258), np.float64(226.65416938002258), np.float64(226.65416938002258), np.float64(226.65416938002258), np.float64(226.65416938002258), np.float64(226.65416938002258), np.float64(226.65416938002258), np.float64(226.65416938002258), np.float64(226.65416938002258), np.float64(226.65416938002258), np.float64(226.65416938002258), np.float64(226.65416938002258), np.float64(226.65416938002258), np.float64(226.65416938002258), np.float64(226.65416938002258), np.float64(226.65416938002258), np.float64(226.65416938002258), np.float64(226.65416938002258), np.float64(226.65416938002258), np.float64(226.65416938002258), np.float64(226.65416938002258), np.float64(226.65416938002258), np.float64(226.65416938002258), np.float64(226.65416938002258), np.float64(226.65416938002258), np.float64(226.65416938002258), np.float64(226.65416938002258), np.float64(226.65416938002258), np.float64(226.65416938002258), np.float64(226.65416938002258), np.float64(226.65416938002258), np.float64(226.65416938002258), np.float64(226.65416938002258), np.float64(226.65416938002258), np.float64(226.65416938002258), np.float64(226.65416938002258), np.float64(226.65416938002258), np.float64(226.65416938002258), np.float64(226.65416938002258), np.float64(226.65416938002258), np.float64(226.65416938002258), np.float64(226.65416938002258), np.float64(226.65416938002258), np.float64(226.65416938002258), np.float64(226.65416938002258), np.float64(226.65416938002258), np.float64(226.65416938002258), np.float64(226.65416938002258), np.float64(226.65416938002258), np.float64(226.65416938002258), np.float64(226.65416938002258), np.float64(226.65416938002258), np.float64(226.65416938002258), np.float64(226.65416938002258), np.float64(226.65416938002258), np.float64(226.65416938002258), np.float64(226.65416938002258), np.float64(226.65416938002258), np.float64(226.65416938002258), np.float64(226.65416938002258), np.float64(226.65416938002258), np.float64(226.65416938002258), np.float64(226.65416938002258), np.float64(226.65416938002258), np.float64(226.65416938002258), np.float64(226.65416938002258), np.float64(226.65416938002258), np.float64(226.65416938002258), np.float64(226.65416938002258), np.float64(226.65416938002258), np.float64(226.65416938002258), np.float64(226.65416938002258), np.float64(226.65416938002258), np.float64(226.65416938002258), np.float64(226.65416938002258), np.float64(226.65416938002258), np.float64(226.65416938002258), np.float64(226.65416938002258), np.float64(226.65416938002258), np.float64(226.65416938002258), np.float64(226.65416938002258), np.float64(226.65416938002258), np.float64(226.65416938002258), np.float64(226.65416938002258), np.float64(226.65416938002258), np.float64(226.65416938002258), np.float64(226.65416938002258), np.float64(226.65416938002258), np.float64(226.65416938002258), np.float64(226.65416938002258), np.float64(226.65416938002258), np.float64(226.65416938002258), np.float64(226.65416938002258), np.float64(226.65416938002258), np.float64(226.65416938002258), np.float64(226.65416938002258), np.float64(226.65416938002258), np.float64(226.65416938002258), np.float64(226.65416938002258), np.float64(226.65416938002258), np.float64(226.65416938002258), np.float64(226.65416938002258), np.float64(226.65416938002258), np.float64(226.65416938002258), np.float64(226.65416938002258), np.float64(226.65416938002258), np.float64(226.65416938002258), np.float64(226.65416938002258), np.float64(226.65416938002258), np.float64(226.65416938002258), np.float64(226.65416938002258), np.float64(226.65416938002258), np.float64(226.65416938002258), np.float64(226.65416938002258), np.float64(226.65416938002258), np.float64(226.65416938002258), np.float64(226.65416938002258), np.float64(226.65416938002258), np.float64(226.65416938002258), np.float64(226.65416938002258), np.float64(226.65416938002258), np.float64(226.65416938002258), np.float64(226.65416938002258), np.float64(226.65416938002258), np.float64(226.65416938002258), np.float64(226.65416938002258), np.float64(226.65416938002258), np.float64(226.65416938002258), np.float64(226.65416938002258), np.float64(226.65416938002258), np.float64(226.65416938002258), np.float64(226.65416938002258), np.float64(226.65416938002258), np.float64(226.65416938002258), np.float64(226.65416938002258), np.float64(226.65416938002258), np.float64(226.65416938002258), np.float64(226.65416938002258), np.float64(226.65416938002258), np.float64(226.65416938002258), np.float64(226.65416938002258), np.float64(226.65416938002258), np.float64(226.65416938002258), np.float64(226.65416938002258), np.float64(226.65416938002258), np.float64(226.65416938002258), np.float64(226.65416938002258), np.float64(226.65416938002258), np.float64(226.65416938002258), np.float64(226.65416938002258), np.float64(226.65416938002258), np.float64(226.65416938002258), np.float64(226.65416938002258), np.float64(226.65416938002258), np.float64(226.65416938002258), np.float64(226.65416938002258), np.float64(226.65416938002258), np.float64(226.65416938002258), np.float64(226.65416938002258), np.float64(226.65416938002258), np.float64(226.65416938002258), np.float64(226.65416938002258), np.float64(226.65416938002258), np.float64(226.65416938002258), np.float64(226.65416938002258), np.float64(226.65416938002258), np.float64(226.65416938002258), np.float64(226.65416938002258), np.float64(226.65416938002258), np.float64(226.65416938002258), np.float64(226.65416938002258), np.float64(226.65416938002258), np.float64(226.65416938002258), np.float64(226.65416938002258), np.float64(226.65416938002258), np.float64(226.65416938002258), np.float64(226.65416938002258), np.float64(226.65416938002258), np.float64(226.65416938002258), np.float64(226.65416938002258), np.float64(226.65416938002258), np.float64(226.65416938002258), np.float64(226.65416938002258), np.float64(226.65416938002258), np.float64(226.65416938002258), np.float64(226.65416938002258), np.float64(226.65416938002258), np.float64(226.65416938002258), np.float64(226.65416938002258), np.float64(226.65416938002258), np.float64(226.65416938002258), np.float64(226.65416938002258), np.float64(226.65416938002258), np.float64(226.65416938002258), np.float64(226.65416938002258), np.float64(226.65416938002258), np.float64(226.65416938002258), np.float64(226.65416938002258), np.float64(226.65416938002258), np.float64(226.65416938002258), np.float64(226.65416938002258), np.float64(226.65416938002258), np.float64(226.65416938002258), np.float64(226.65416938002258), np.float64(226.65416938002258), np.float64(226.65416938002258), np.float64(226.65416938002258), np.float64(226.65416938002258), np.float64(226.65416938002258), np.float64(226.65416938002258), np.float64(226.65416938002258), np.float64(226.65416938002258), np.float64(226.65416938002258), np.float64(226.65416938002258), np.float64(226.65416938002258), np.float64(226.65416938002258), np.float64(226.65416938002258), np.float64(226.65416938002258), np.float64(226.65416938002258), np.float64(226.65416938002258), np.float64(226.65416938002258), np.float64(226.65416938002258)]\n"
          ]
        },
        {
          "data": {
            "image/png": "[encoded data removed]",
            "text/plain": [
              "<Figure size 640x480 with 1 Axes>"
            ]
          },
          "metadata": {},
          "output_type": "display_data"
        }
      ],
      "source": [
        "# Plot your loss function.\n",
        "plt.plot(np.arange(len(losses)), losses, label='Loss Plot', color='blue')\n",
        "print(losses)"
      ]
    },
    {
      "cell_type": "code",
      "execution_count": 17,
      "metadata": {
        "id": "hS_LoeLDhFUj"
      },
      "outputs": [
        {
          "data": {
            "text/plain": [
              "<matplotlib.collections.PathCollection at 0x15dc79310>"
            ]
          },
          "execution_count": 17,
          "metadata": {},
          "output_type": "execute_result"
        },
        {
          "data": {
            "image/png": "[encoded data removed]",
            "text/plain": [
              "<Figure size 640x480 with 1 Axes>"
            ]
          },
          "metadata": {},
          "output_type": "display_data"
        }
      ],
      "source": [
        "# Plot the model overlaid on the (x, y_measured) data points\n",
        "plt.scatter(x, y_measured, label='Line Plot', color='blue', marker='o')\n",
        "plt.scatter(x, predict(weights, x), color='orange', marker='+')"
      ]
    },
    {
      "cell_type": "markdown",
      "metadata": {
        "id": "ilJK4CtHL-Do"
      },
      "source": [
        "How close to the actual model parameters are we? You should pass the assertion below."
      ]
    },
    {
      "cell_type": "code",
      "execution_count": 18,
      "metadata": {
        "id": "ywijwwLQMBBp"
      },
      "outputs": [
        {
          "name": "stdout",
          "output_type": "stream",
          "text": [
            "Actual model parameters: m=7, b=4\n",
            "Trained model parameters: m=7, b=4\n"
          ]
        }
      ],
      "source": [
        "print(f\"Actual model parameters: m={m}, b={b}\")\n",
        "print(f\"Trained model parameters: m={weights[0]}, b={weights[1]}\")\n",
        "\n",
        "assert np.isclose(weights[0], m, rtol=0.1)"
      ]
    },
    {
      "cell_type": "markdown",
      "metadata": {
        "id": "BmrRuJnBj3iq"
      },
      "source": [
        "Much better!"
      ]
    },
    {
      "cell_type": "markdown",
      "metadata": {
        "id": "f_U_GlJtj9Us"
      },
      "source": [
        "> **Question 2c) What happens if you increase the learning rate?**\n",
        "\n",
        "You may notice things go awry if the learning rate is too high... describe what is happening below.\n",
        "\n",
        "*If the learning rate is too high, the algorithm may miss the minima and would not be able to converge*"
      ]
    },
    {
      "cell_type": "markdown",
      "metadata": {
        "id": "Olufta7Cl7aq"
      },
      "source": [
        "### 3. Reporting Results"
      ]
    },
    {
      "cell_type": "markdown",
      "metadata": {
        "id": "DYafc6JxvMvq"
      },
      "source": [
        "When training a model for classification for regression, we typically do not use the entire dataset for training. It is customary to split the dataset into a training set and test set."
      ]
    },
    {
      "cell_type": "markdown",
      "metadata": {
        "id": "cw1wX5Lbvd2Q"
      },
      "source": [
        "> **Question 3a) Explain why we do not report model results on the training data? What is data leakage?**\n",
        "\n",
        "*The model results on the training data is usually not a good representation of how the model would perform in the real world. This is because the model will overfit on your training data because it is used in each iteration of the epoch. This is why we use a validation/test (used interchangably at times) to test whether our model is overfitting. Data leakage occurs when data in the validation/text set is somehow \"leaked\" and the model trains on that data, causing the scoring metric to be inflated and resulting in an overestimation of the model's performance. A real world example would be how OpenAI's o3 model was secretly training on supposedly unseen math competition questions to boost leaderboard scoring performance*"
      ]
    },
    {
      "cell_type": "markdown",
      "metadata": {
        "id": "qEQbHcLqv8qJ"
      },
      "source": [
        "In the code cell below, split the data set (x, y_measured) into training and test sets. Train the model on the training set and report your loss on the test set."
      ]
    },
    {
      "cell_type": "code",
      "execution_count": 19,
      "metadata": {
        "id": "v0Oku14MwLha"
      },
      "outputs": [
        {
          "name": "stdout",
          "output_type": "stream",
          "text": [
            "181.96888945098146\n"
          ]
        }
      ],
      "source": [
        "# Split dataset and report results on test set\n",
        "# Your code here...\n",
        "#from sklearn.model_selection import train_test_split\n",
        "\n",
        "####### I would typically use sklearn's train_test_split, but I see that we've imported random_split and TensorDataset so I will be using that too\n",
        "# # Splitting\n",
        "# X_train, X_test, y_train, y_test = train_test_split(x, y_measured, random_state = random_seed, test_size = 0.2)\n",
        "\n",
        "\n",
        "# # Grabbing weights from training and the respective loss (if needed)\n",
        "# train_weight, train_loss = train(X_train, y_train, weights, gradient_func, 0.00027, 300)\n",
        "\n",
        "train_size = int(0.8 * len(x))\n",
        "test_size = len(y_measured) - train_size\n",
        "\n",
        "dataset = TensorDataset(torch.tensor(x), torch.tensor(y_measured))\n",
        "\n",
        "train_data, test_data = random_split(dataset, [train_size, test_size])\n",
        "\n",
        "X_train = np.array([value for value, label in train_data])\n",
        "y_train = np.array([label for value, label in train_data])\n",
        "    \n",
        "X_test = [value for value, label in test_data]\n",
        "y_test = [label for value, label in test_data]\n",
        "\n",
        "\n",
        "train_weight, train_loss = train(X_train, y_train, weights, gradient_func, 0.00027, 300)\n",
        "\n",
        "# Predicting using the training weights on the X test set\n",
        "q3_predict = predict(train_weight, X_test)\n",
        "\n",
        "# Comparing the predicted y vs. the ground truth to get the loss \n",
        "test_loss = loss(q3_predict, y_test)\n",
        "\n",
        "# printing test loss\n",
        "print(test_loss)"
      ]
    },
    {
      "cell_type": "markdown",
      "metadata": {
        "id": "AW6uKvyX0uvA"
      },
      "source": [
        "> **Question 4a) What is the above equation when reformulated in linear algebra notation? Also, repeat Questions (1a) (1b) and (2b) for this problem statement.**\n",
        "\n",
        "*4a) Is drawn down below! 1a) We want to learn the coefficients weights to model non-linear relationships between variables  1b) This is equivalent to a full connected dense layer 2b) If we are using * \n",
        "![alt text](images/poly_regression.jpeg)"
      ]
    },
    {
      "cell_type": "markdown",
      "metadata": {
        "id": "2RR_ANNsPTsd"
      },
      "source": [
        "First, let's re-establish our data set with a higher degree polynomial."
      ]
    },
    {
      "cell_type": "code",
      "execution_count": 20,
      "metadata": {
        "id": "Qrb7P2rghTpG"
      },
      "outputs": [
        {
          "data": {
            "text/plain": [
              "<matplotlib.collections.PathCollection at 0x15dd202d0>"
            ]
          },
          "execution_count": 20,
          "metadata": {},
          "output_type": "execute_result"
        },
        {
          "data": {
            "image/png": "[encoded data removed]",
            "text/plain": [
              "<Figure size 640x480 with 1 Axes>"
            ]
          },
          "metadata": {},
          "output_type": "display_data"
        }
      ],
      "source": [
        "# Let's pick the polynomial degree\n",
        "degree = 3 # Choose a number that suites you (Warning: code may become unstable with too high of a polynomial though)\n",
        "num_weights = degree + 1 # Include w_0 (i.e the bias term)\n",
        "\n",
        "# Creating a random model\n",
        "true_weights = initialize_model(num_weights=num_weights) # We are using the intialize_model func to generate a random polynomial\n",
        "\n",
        "# Generate a set of 100 (X,Y) coordinates that share the polynomial relationship\n",
        "num_data_points = 100\n",
        "upper_limit = 500\n",
        "lower_limit = -500\n",
        "x = np.random.randint(lower_limit, upper_limit, size=num_data_points)\n",
        "y = np.sum(np.array([true_weights[i] * x**(degree - i) for i in range(len(true_weights))]), axis=0)\n",
        "\n",
        "# Add noise to our y-vector\n",
        "mu, sigma = 0, upper_limit**degree # We will make the noise commensurate with the polynomial degree\n",
        "noise_vector = np.random.normal(mu, sigma, num_data_points)\n",
        "y_measured = y + noise_vector\n",
        "\n",
        "# Plot the (X,Y) points as a line plot using matplotlib\n",
        "plt.scatter(x, y_measured, color='blue', marker='o')"
      ]
    },
    {
      "cell_type": "markdown",
      "metadata": {
        "id": "jMEfR-MPPZQG"
      },
      "source": [
        "Now, lets create our features (i.e. the polynomial terms)"
      ]
    },
    {
      "cell_type": "code",
      "execution_count": 21,
      "metadata": {
        "id": "ZIi4KKfR9y6B"
      },
      "outputs": [],
      "source": [
        "# Step 0: Transform input vector x to include polynomial terms (1, x, x^2, x^3, .. x^(n-1), x^n)\n",
        "def polynomial_features(x, degree):\n",
        "    # Your code here\n",
        "    matrix = []\n",
        "    for num in x:\n",
        "        arr = [num ** i for i in range(degree + 1)]  # Generate terms (1, x, x^2, ..., x^degree)\n",
        "        matrix.append(arr)\n",
        "    \n",
        "    return matrix\n",
        "X_poly = polynomial_features(x, degree)"
      ]
    },
    {
      "cell_type": "markdown",
      "metadata": {
        "id": "5A6W9JzmPdS3"
      },
      "source": [
        "Now, we accomplish Steps 1-4 from above."
      ]
    },
    {
      "cell_type": "code",
      "execution_count": 22,
      "metadata": {
        "id": "Dr2iHJpX_WI-"
      },
      "outputs": [],
      "source": [
        "# Step 1: Define training parameters\n",
        "torch.manual_seed(random_seed)\n",
        "learning_rate = 1e-16 # Start with low learning rate\n",
        "num_epochs = 200 # Choose number that suits you # Epochs is the number of times we cycle through the entire dataset when training. Similar to 'num_steps' above."
      ]
    },
    {
      "cell_type": "code",
      "execution_count": 23,
      "metadata": {
        "id": "R768SXHN-PEV"
      },
      "outputs": [],
      "source": [
        "# Step 2: Create your model using nn.Linear, starting with our random model weights\n",
        "# Do not include a bias term, because it's included in polynomialization portion.\n",
        "model = nn.Linear(in_features = len(X_poly[0]), out_features = 1, bias = False) # Your code here"
      ]
    },
    {
      "cell_type": "markdown",
      "metadata": {
        "id": "yKBcVTH9YaJM"
      },
      "source": [
        "> **Question 4b) What is your activation function for this neural network?**\n",
        "\n",
        "*Linear activation function where the activation is proportional to my inputs*"
      ]
    },
    {
      "cell_type": "code",
      "execution_count": 24,
      "metadata": {
        "id": "RDVXbW6ZG6DJ"
      },
      "outputs": [
        {
          "name": "stdout",
          "output_type": "stream",
          "text": [
            "Random weights: [3 1 1 8]\n"
          ]
        }
      ],
      "source": [
        "# Step 2a: Add randomly initialized weights to our model\n",
        "# (typically this is not necessary, but aligns this problem more closely with Section 3)\n",
        "weights = initialize_model(num_weights=num_weights)\n",
        "print(f\"Random weights: {weights}\")\n",
        "model.weight.data = torch.from_numpy(weights).to(torch.float)"
      ]
    },
    {
      "cell_type": "code",
      "execution_count": 25,
      "metadata": {
        "id": "QnvxBU2d-saw"
      },
      "outputs": [],
      "source": [
        "# Step 3: Define loss function and optimizer from relevant pytorch classes.\n",
        "# Note, we will want to use Stochastic Gradient Descent for the pytorch implementation\n",
        "\n",
        "criterion = nn.MSELoss() # Your code here\n",
        "optimizer = optim.SGD(params = model.parameters(), lr = learning_rate)"
      ]
    },
    {
      "cell_type": "code",
      "execution_count": 26,
      "metadata": {
        "id": "q5S4HHDy_cIV"
      },
      "outputs": [],
      "source": [
        "# Step 4: Create the training loop\n",
        "def train(dataset, model, optimizer, num_epochs, batch_size=None):\n",
        "  # Your code here  \n",
        "  # Fun visualization\n",
        "  from tqdm import tqdm \n",
        "  # Initialize empty list for loss\n",
        "  X_train, y_train = dataset\n",
        "  X_train = torch.tensor(X_train, dtype = torch.float32)\n",
        "  y_train = torch.tensor(y_train, dtype = torch.float32)\n",
        "  losses = []\n",
        "  for epoch in tqdm(range(num_epochs)):\n",
        "    optimizer.zero_grad()\n",
        "    predict = model(X_train)\n",
        "    loss = criterion(predict, y_train)\n",
        "    loss.backward()\n",
        "    optimizer.step()\n",
        "    losses.append(loss.item())\n",
        "    print(f'Epoch: {epoch}, loss: {loss.item()}')\n",
        "  return losses\n"
      ]
    },
    {
      "cell_type": "markdown",
      "metadata": {
        "id": "zEf_tBC-Pu0s"
      },
      "source": [
        "Now call your train function. We need to convert our dataset from numpy to torch datatypes."
      ]
    },
    {
      "cell_type": "code",
      "execution_count": 27,
      "metadata": {
        "id": "t-s_TDg0LFO_"
      },
      "outputs": [],
      "source": [
        "# Step 5: Create a train-test split\n",
        "def train_test_split(X, y, train_ratio=0.8):\n",
        "  # Your code here\n",
        "  from sklearn.model_selection import train_test_split\n",
        "  X_train, X_test, y_train, y_test = train_test_split(X, y, test_size = 1 - train_ratio)\n",
        "  train_dataset, test_dataset = (X_train, y_train), (X_test, y_test)\n",
        "  return train_dataset, test_dataset"
      ]
    },
    {
      "cell_type": "code",
      "execution_count": 28,
      "metadata": {
        "id": "Qp1kn2raY6BZ"
      },
      "outputs": [
        {
          "name": "stderr",
          "output_type": "stream",
          "text": [
            "100%|██████████| 200/200 [00:00<00:00, 2055.77it/s]"
          ]
        },
        {
          "name": "stdout",
          "output_type": "stream",
          "text": [
            "Epoch: 0, loss: 1.1084778874024755e+17\n",
            "Epoch: 1, loss: 4.018155794779341e+16\n",
            "Epoch: 2, loss: 2.3399278181351424e+16\n",
            "Epoch: 3, loss: 1.9413718181871616e+16\n",
            "Epoch: 4, loss: 1.846720187911373e+16\n",
            "Epoch: 5, loss: 1.824241402825933e+16\n",
            "Epoch: 6, loss: 1.818903402722099e+16\n",
            "Epoch: 7, loss: 1.817635313627955e+16\n",
            "Epoch: 8, loss: 1.8173342364205056e+16\n",
            "Epoch: 9, loss: 1.8172625104666624e+16\n",
            "Epoch: 10, loss: 1.8172451158491136e+16\n",
            "Epoch: 11, loss: 1.817241250378547e+16\n",
            "Epoch: 12, loss: 1.817240176636723e+16\n",
            "Epoch: 13, loss: 1.8172397471399936e+16\n",
            "Epoch: 14, loss: 1.8172397471399936e+16\n",
            "Epoch: 15, loss: 1.817239532391629e+16\n",
            "Epoch: 16, loss: 1.817239317643264e+16\n",
            "Epoch: 17, loss: 1.817239102894899e+16\n",
            "Epoch: 18, loss: 1.817239102894899e+16\n",
            "Epoch: 19, loss: 1.8172388881465344e+16\n",
            "Epoch: 20, loss: 1.8172388881465344e+16\n",
            "Epoch: 21, loss: 1.8172386733981696e+16\n",
            "Epoch: 22, loss: 1.8172386733981696e+16\n",
            "Epoch: 23, loss: 1.81723824390144e+16\n",
            "Epoch: 24, loss: 1.81723824390144e+16\n",
            "Epoch: 25, loss: 1.817238029153075e+16\n",
            "Epoch: 26, loss: 1.817238029153075e+16\n",
            "Epoch: 27, loss: 1.8172378144047104e+16\n",
            "Epoch: 28, loss: 1.8172378144047104e+16\n",
            "Epoch: 29, loss: 1.8172375996563456e+16\n",
            "Epoch: 30, loss: 1.817237384907981e+16\n",
            "Epoch: 31, loss: 1.817237384907981e+16\n",
            "Epoch: 32, loss: 1.817237170159616e+16\n",
            "Epoch: 33, loss: 1.817237170159616e+16\n",
            "Epoch: 34, loss: 1.8172367406628864e+16\n",
            "Epoch: 35, loss: 1.817236955411251e+16\n",
            "Epoch: 36, loss: 1.817236955411251e+16\n",
            "Epoch: 37, loss: 1.8172367406628864e+16\n",
            "Epoch: 38, loss: 1.8172365259145216e+16\n",
            "Epoch: 39, loss: 1.8172365259145216e+16\n",
            "Epoch: 40, loss: 1.817236311166157e+16\n",
            "Epoch: 41, loss: 1.817236311166157e+16\n",
            "Epoch: 42, loss: 1.817236096417792e+16\n",
            "Epoch: 43, loss: 1.8172356669210624e+16\n",
            "Epoch: 44, loss: 1.8172356669210624e+16\n",
            "Epoch: 45, loss: 1.8172356669210624e+16\n",
            "Epoch: 46, loss: 1.8172354521726976e+16\n",
            "Epoch: 47, loss: 1.8172354521726976e+16\n",
            "Epoch: 48, loss: 1.817235237424333e+16\n",
            "Epoch: 49, loss: 1.817234807927603e+16\n",
            "Epoch: 50, loss: 1.8172345931792384e+16\n",
            "Epoch: 51, loss: 1.8172345931792384e+16\n",
            "Epoch: 52, loss: 1.8172345931792384e+16\n",
            "Epoch: 53, loss: 1.8172345931792384e+16\n",
            "Epoch: 54, loss: 1.8172343784308736e+16\n",
            "Epoch: 55, loss: 1.8172343784308736e+16\n",
            "Epoch: 56, loss: 1.817234163682509e+16\n",
            "Epoch: 57, loss: 1.817233948934144e+16\n",
            "Epoch: 58, loss: 1.817233948934144e+16\n",
            "Epoch: 59, loss: 1.817233734185779e+16\n",
            "Epoch: 60, loss: 1.817233734185779e+16\n",
            "Epoch: 61, loss: 1.8172335194374144e+16\n",
            "Epoch: 62, loss: 1.817233089940685e+16\n",
            "Epoch: 63, loss: 1.8172333046890496e+16\n",
            "Epoch: 64, loss: 1.817233089940685e+16\n",
            "Epoch: 65, loss: 1.81723287519232e+16\n",
            "Epoch: 66, loss: 1.81723287519232e+16\n",
            "Epoch: 67, loss: 1.81723287519232e+16\n",
            "Epoch: 68, loss: 1.81723287519232e+16\n",
            "Epoch: 69, loss: 1.817232660443955e+16\n",
            "Epoch: 70, loss: 1.8172324456955904e+16\n",
            "Epoch: 71, loss: 1.8172322309472256e+16\n",
            "Epoch: 72, loss: 1.8172322309472256e+16\n",
            "Epoch: 73, loss: 1.817232016198861e+16\n",
            "Epoch: 74, loss: 1.817232016198861e+16\n",
            "Epoch: 75, loss: 1.817231801450496e+16\n",
            "Epoch: 76, loss: 1.817231801450496e+16\n",
            "Epoch: 77, loss: 1.8172313719537664e+16\n",
            "Epoch: 78, loss: 1.8172311572054016e+16\n",
            "Epoch: 79, loss: 1.8172311572054016e+16\n",
            "Epoch: 80, loss: 1.8172311572054016e+16\n",
            "Epoch: 81, loss: 1.817230942457037e+16\n",
            "Epoch: 82, loss: 1.817230942457037e+16\n",
            "Epoch: 83, loss: 1.817230727708672e+16\n",
            "Epoch: 84, loss: 1.817230512960307e+16\n",
            "Epoch: 85, loss: 1.817230512960307e+16\n",
            "Epoch: 86, loss: 1.8172302982119424e+16\n",
            "Epoch: 87, loss: 1.8172300834635776e+16\n",
            "Epoch: 88, loss: 1.8172302982119424e+16\n",
            "Epoch: 89, loss: 1.8172300834635776e+16\n",
            "Epoch: 90, loss: 1.817229653966848e+16\n",
            "Epoch: 91, loss: 1.817229439218483e+16\n",
            "Epoch: 92, loss: 1.817229439218483e+16\n",
            "Epoch: 93, loss: 1.817229439218483e+16\n",
            "Epoch: 94, loss: 1.817229439218483e+16\n",
            "Epoch: 95, loss: 1.8172290097217536e+16\n",
            "Epoch: 96, loss: 1.8172290097217536e+16\n",
            "Epoch: 97, loss: 1.817228794973389e+16\n",
            "Epoch: 98, loss: 1.817228580225024e+16\n",
            "Epoch: 99, loss: 1.817228580225024e+16\n",
            "Epoch: 100, loss: 1.817228365476659e+16\n",
            "Epoch: 101, loss: 1.817228580225024e+16\n",
            "Epoch: 102, loss: 1.817228365476659e+16\n",
            "Epoch: 103, loss: 1.8172281507282944e+16\n",
            "Epoch: 104, loss: 1.8172281507282944e+16\n",
            "Epoch: 105, loss: 1.8172279359799296e+16\n",
            "Epoch: 106, loss: 1.817227721231565e+16\n",
            "Epoch: 107, loss: 1.817227721231565e+16\n",
            "Epoch: 108, loss: 1.8172275064832e+16\n",
            "Epoch: 109, loss: 1.8172275064832e+16\n",
            "Epoch: 110, loss: 1.8172270769864704e+16\n",
            "Epoch: 111, loss: 1.8172270769864704e+16\n",
            "Epoch: 112, loss: 1.8172268622381056e+16\n",
            "Epoch: 113, loss: 1.8172268622381056e+16\n",
            "Epoch: 114, loss: 1.817226647489741e+16\n",
            "Epoch: 115, loss: 1.817226432741376e+16\n",
            "Epoch: 116, loss: 1.817226432741376e+16\n",
            "Epoch: 117, loss: 1.817226217993011e+16\n",
            "Epoch: 118, loss: 1.817226217993011e+16\n",
            "Epoch: 119, loss: 1.8172260032446464e+16\n",
            "Epoch: 120, loss: 1.8172260032446464e+16\n",
            "Epoch: 121, loss: 1.8172260032446464e+16\n",
            "Epoch: 122, loss: 1.8172257884962816e+16\n",
            "Epoch: 123, loss: 1.8172257884962816e+16\n",
            "Epoch: 124, loss: 1.817225573747917e+16\n",
            "Epoch: 125, loss: 1.817225144251187e+16\n",
            "Epoch: 126, loss: 1.817225144251187e+16\n",
            "Epoch: 127, loss: 1.817225144251187e+16\n",
            "Epoch: 128, loss: 1.8172249295028224e+16\n",
            "Epoch: 129, loss: 1.8172249295028224e+16\n",
            "Epoch: 130, loss: 1.8172247147544576e+16\n",
            "Epoch: 131, loss: 1.817224500006093e+16\n",
            "Epoch: 132, loss: 1.817224285257728e+16\n",
            "Epoch: 133, loss: 1.817224285257728e+16\n",
            "Epoch: 134, loss: 1.817224070509363e+16\n",
            "Epoch: 135, loss: 1.817224070509363e+16\n",
            "Epoch: 136, loss: 1.817224070509363e+16\n",
            "Epoch: 137, loss: 1.8172236410126336e+16\n",
            "Epoch: 138, loss: 1.8172236410126336e+16\n",
            "Epoch: 139, loss: 1.8172236410126336e+16\n",
            "Epoch: 140, loss: 1.817223426264269e+16\n",
            "Epoch: 141, loss: 1.817223426264269e+16\n",
            "Epoch: 142, loss: 1.817223211515904e+16\n",
            "Epoch: 143, loss: 1.817222996767539e+16\n",
            "Epoch: 144, loss: 1.817222996767539e+16\n",
            "Epoch: 145, loss: 1.8172227820191744e+16\n",
            "Epoch: 146, loss: 1.8172225672708096e+16\n",
            "Epoch: 147, loss: 1.8172225672708096e+16\n",
            "Epoch: 148, loss: 1.817222352522445e+16\n",
            "Epoch: 149, loss: 1.81722213777408e+16\n",
            "Epoch: 150, loss: 1.81722213777408e+16\n",
            "Epoch: 151, loss: 1.817221923025715e+16\n",
            "Epoch: 152, loss: 1.817221923025715e+16\n",
            "Epoch: 153, loss: 1.8172217082773504e+16\n",
            "Epoch: 154, loss: 1.8172217082773504e+16\n",
            "Epoch: 155, loss: 1.8172214935289856e+16\n",
            "Epoch: 156, loss: 1.8172214935289856e+16\n",
            "Epoch: 157, loss: 1.817221064032256e+16\n",
            "Epoch: 158, loss: 1.817221278780621e+16\n",
            "Epoch: 159, loss: 1.817221064032256e+16\n",
            "Epoch: 160, loss: 1.817220849283891e+16\n",
            "Epoch: 161, loss: 1.817220849283891e+16\n",
            "Epoch: 162, loss: 1.8172206345355264e+16\n",
            "Epoch: 163, loss: 1.8172204197871616e+16\n",
            "Epoch: 164, loss: 1.8172204197871616e+16\n",
            "Epoch: 165, loss: 1.817220205038797e+16\n",
            "Epoch: 166, loss: 1.817219990290432e+16\n",
            "Epoch: 167, loss: 1.817219990290432e+16\n",
            "Epoch: 168, loss: 1.817219775542067e+16\n",
            "Epoch: 169, loss: 1.817219775542067e+16\n",
            "Epoch: 170, loss: 1.817219775542067e+16\n",
            "Epoch: 171, loss: 1.8172193460453376e+16\n",
            "Epoch: 172, loss: 1.8172193460453376e+16\n",
            "Epoch: 173, loss: 1.817219131296973e+16\n",
            "Epoch: 174, loss: 1.817219131296973e+16\n",
            "Epoch: 175, loss: 1.817218916548608e+16\n",
            "Epoch: 176, loss: 1.817218916548608e+16\n",
            "Epoch: 177, loss: 1.817218701800243e+16\n",
            "Epoch: 178, loss: 1.8172182723035136e+16\n",
            "Epoch: 179, loss: 1.8172182723035136e+16\n",
            "Epoch: 180, loss: 1.8172182723035136e+16\n",
            "Epoch: 181, loss: 1.817218057555149e+16\n",
            "Epoch: 182, loss: 1.817218057555149e+16\n",
            "Epoch: 183, loss: 1.8172182723035136e+16\n",
            "Epoch: 184, loss: 1.817217842806784e+16\n",
            "Epoch: 185, loss: 1.8172174133100544e+16\n",
            "Epoch: 186, loss: 1.817217628058419e+16\n",
            "Epoch: 187, loss: 1.8172174133100544e+16\n",
            "Epoch: 188, loss: 1.8172174133100544e+16\n",
            "Epoch: 189, loss: 1.8172171985616896e+16\n",
            "Epoch: 190, loss: 1.8172171985616896e+16\n",
            "Epoch: 191, loss: 1.81721676906496e+16\n",
            "Epoch: 192, loss: 1.81721676906496e+16\n",
            "Epoch: 193, loss: 1.817216554316595e+16\n",
            "Epoch: 194, loss: 1.817216554316595e+16\n",
            "Epoch: 195, loss: 1.817216554316595e+16\n",
            "Epoch: 196, loss: 1.8172163395682304e+16\n",
            "Epoch: 197, loss: 1.8172161248198656e+16\n",
            "Epoch: 198, loss: 1.817215910071501e+16\n",
            "Epoch: 199, loss: 1.817215910071501e+16\n"
          ]
        },
        {
          "name": "stderr",
          "output_type": "stream",
          "text": [
            "\n"
          ]
        }
      ],
      "source": [
        "# Step 6: Call training loop\n",
        "train_dataset, test_dataset = train_test_split(X_poly, y_measured)\n",
        "losses = train(train_dataset, model, optimizer, num_epochs)"
      ]
    },
    {
      "cell_type": "markdown",
      "metadata": {
        "id": "5QdsZub-P8Xa"
      },
      "source": [
        "Let's visualize the results"
      ]
    },
    {
      "cell_type": "code",
      "execution_count": 29,
      "metadata": {
        "id": "OFA3w0KNEFrT"
      },
      "outputs": [
        {
          "data": {
            "text/plain": [
              "[<matplotlib.lines.Line2D at 0x16da9e210>]"
            ]
          },
          "execution_count": 29,
          "metadata": {},
          "output_type": "execute_result"
        },
        {
          "data": {
            "image/png": "[encoded data removed]",
            "text/plain": [
              "<Figure size 640x480 with 1 Axes>"
            ]
          },
          "metadata": {},
          "output_type": "display_data"
        }
      ],
      "source": [
        "plt.plot(np.arange(len(losses)), losses , label='Loss Plot', color='blue')"
      ]
    },
    {
      "cell_type": "code",
      "execution_count": 30,
      "metadata": {
        "id": "Ouy2YR_VFe3C"
      },
      "outputs": [
        {
          "data": {
            "image/png": "[encoded data removed]",
            "text/plain": [
              "<Figure size 640x480 with 1 Axes>"
            ]
          },
          "metadata": {},
          "output_type": "display_data"
        }
      ],
      "source": [
        "# Plot data and predictions\n",
        "\n",
        "predictions = model(torch.tensor(X_poly, dtype = torch.float32))# your code here\n",
        "with torch.no_grad():\n",
        "    plt.scatter(x, y_measured, label=\"Original Data\")\n",
        "    plt.scatter(x, predictions, color=\"red\", label=\"Fitted Polynomial\")\n",
        "    plt.legend()\n",
        "    plt.title(\"Polynomial Regression with PyTorch\")\n",
        "    plt.xlabel(\"x\")\n",
        "    plt.ylabel(\"y\")\n",
        "    plt.show()"
      ]
    },
    {
      "cell_type": "code",
      "execution_count": 31,
      "metadata": {
        "id": "Jzx0DLzjVZQh"
      },
      "outputs": [],
      "source": [
        "def evaluate(test_dataset, model, criterion):\n",
        "    # Set the model to evaluation mode\n",
        "    model.eval()  \n",
        "    losses = []\n",
        "    X_test, y_test = test_dataset\n",
        "    X_test = torch.tensor(X_test, dtype = torch.float32)\n",
        "    y_test = torch.tensor(y_test, dtype = torch.float32).view(-1, 1)\n",
        "    # Disable gradient computation\n",
        "    with torch.no_grad(): \n",
        "        # Forward pass\n",
        "        prediction = model(X_test)\n",
        "        \n",
        "        loss = criterion(prediction, y_test)\n",
        "        losses.append(loss.item())\n",
        "\n",
        "\n",
        "    print(f\"Test Loss: {losses[-1]:.4f}\")\n",
        "    return losses[0]"
      ]
    },
    {
      "cell_type": "code",
      "execution_count": 32,
      "metadata": {
        "id": "JB1I2gR1V4e6"
      },
      "outputs": [
        {
          "name": "stdout",
          "output_type": "stream",
          "text": [
            "Test Loss: 18978023814463488.0000\n"
          ]
        },
        {
          "name": "stderr",
          "output_type": "stream",
          "text": [
            "/opt/homebrew/Caskroom/miniforge/base/envs/dl-bioscience/lib/python3.13/site-packages/torch/nn/modules/loss.py:608: UserWarning: Using a target size (torch.Size([20, 1])) that is different to the input size (torch.Size([20])). This will likely lead to incorrect results due to broadcasting. Please ensure they have the same size.\n",
            "  return F.mse_loss(input, target, reduction=self.reduction)\n"
          ]
        },
        {
          "data": {
            "text/plain": [
              "1.897802381446349e+16"
            ]
          },
          "execution_count": 32,
          "metadata": {},
          "output_type": "execute_result"
        }
      ],
      "source": [
        "# Step 7: Evaluate model\n",
        "evaluate(test_dataset, model, criterion)"
      ]
    },
    {
      "cell_type": "code",
      "execution_count": 33,
      "metadata": {
        "id": "UEUgdUoPV8Vs"
      },
      "outputs": [
        {
          "name": "stdout",
          "output_type": "stream",
          "text": [
            "Actual model parameters: [ 2  7 10  3]\n",
            "Trained model parameters: [3.         0.99997884 1.0738305  1.9872333 ]\n"
          ]
        }
      ],
      "source": [
        "print(f\"Actual model parameters: {true_weights}\")\n",
        "print(f\"Trained model parameters: {model.weight.data.numpy()}\")\n",
        "\n",
        "assert np.isclose(model.weight.data.numpy()[0], true_weights[0], rtol=1)"
      ]
    },
    {
      "cell_type": "markdown",
      "metadata": {
        "id": "XtAUovdGTwuj"
      },
      "source": [
        "> **Question 4c) Out of all the model weights, it is likely the case that your trained model's first weight is the closest to the true model parameter. Why might this be the case?**\n",
        "\n",
        "*Double-click to add your answer...*"
      ]
    },
    {
      "cell_type": "markdown",
      "metadata": {
        "id": "XtAUovdGTwuj"
      },
      "source": [
        "> **Question 4c) Out of all the model weights, it is likely the case that your trained model's first weight is the closest to the true model parameter. Why might this be the case?**\n",
        "\n",
        "*I think as I increase the degree of the polynomial, the number of features will increase, adding more dimensions to my feature space. With only a single linear layer, it can only capture a linear relationship, resulting in the loss of being able to capture relationships in higher dimensions.*"
      ]
    },
    {
      "cell_type": "code",
      "execution_count": 34,
      "metadata": {
        "id": "d8gMTGmOWLAV"
      },
      "outputs": [
        {
          "name": "stdout",
          "output_type": "stream",
          "text": [
            ".. _california_housing_dataset:\n",
            "\n",
            "California Housing dataset\n",
            "--------------------------\n",
            "\n",
            "**Data Set Characteristics:**\n",
            "\n",
            ":Number of Instances: 20640\n",
            "\n",
            ":Number of Attributes: 8 numeric, predictive attributes and the target\n",
            "\n",
            ":Attribute Information:\n",
            "    - MedInc        median income in block group\n",
            "    - HouseAge      median house age in block group\n",
            "    - AveRooms      average number of rooms per household\n",
            "    - AveBedrms     average number of bedrooms per household\n",
            "    - Population    block group population\n",
            "    - AveOccup      average number of household members\n",
            "    - Latitude      block group latitude\n",
            "    - Longitude     block group longitude\n",
            "\n",
            ":Missing Attribute Values: None\n",
            "\n",
            "This dataset was obtained from the StatLib repository.\n",
            "https://www.dcc.fc.up.pt/~ltorgo/Regression/cal_housing.html\n",
            "\n",
            "The target variable is the median house value for California districts,\n",
            "expressed in hundreds of thousands of dollars ($100,000).\n",
            "\n",
            "This dataset was derived from the 1990 U.S. census, using one row per census\n",
            "block group. A block group is the smallest geographical unit for which the U.S.\n",
            "Census Bureau publishes sample data (a block group typically has a population\n",
            "of 600 to 3,000 people).\n",
            "\n",
            "A household is a group of people residing within a home. Since the average\n",
            "number of rooms and bedrooms in this dataset are provided per household, these\n",
            "columns may take surprisingly large values for block groups with few households\n",
            "and many empty houses, such as vacation resorts.\n",
            "\n",
            "It can be downloaded/loaded using the\n",
            ":func:`sklearn.datasets.fetch_california_housing` function.\n",
            "\n",
            ".. rubric:: References\n",
            "\n",
            "- Pace, R. Kelley and Ronald Barry, Sparse Spatial Autoregressions,\n",
            "  Statistics and Probability Letters, 33 (1997) 291-297\n",
            "\n",
            "X shape: (20640, 8)\n",
            "y shape: (20640,)\n"
          ]
        }
      ],
      "source": [
        "from sklearn.datasets import fetch_california_housing\n",
        "\n",
        "california = fetch_california_housing()\n",
        "\n",
        "print(california.DESCR)\n",
        "\n",
        "X, y = california.data, california.target\n",
        "\n",
        "print(f\"X shape: {X.shape}\")\n",
        "print(f\"y shape: {y.shape}\")"
      ]
    },
    {
      "cell_type": "code",
      "execution_count": 35,
      "metadata": {
        "id": "d8gMTGmOWLAV"
      },
      "outputs": [
        {
          "name": "stdout",
          "output_type": "stream",
          "text": [
            ".. _california_housing_dataset:\n",
            "\n",
            "California Housing dataset\n",
            "--------------------------\n",
            "\n",
            "**Data Set Characteristics:**\n",
            "\n",
            ":Number of Instances: 20640\n",
            "\n",
            ":Number of Attributes: 8 numeric, predictive attributes and the target\n",
            "\n",
            ":Attribute Information:\n",
            "    - MedInc        median income in block group\n",
            "    - HouseAge      median house age in block group\n",
            "    - AveRooms      average number of rooms per household\n",
            "    - AveBedrms     average number of bedrooms per household\n",
            "    - Population    block group population\n",
            "    - AveOccup      average number of household members\n",
            "    - Latitude      block group latitude\n",
            "    - Longitude     block group longitude\n",
            "\n",
            ":Missing Attribute Values: None\n",
            "\n",
            "This dataset was obtained from the StatLib repository.\n",
            "https://www.dcc.fc.up.pt/~ltorgo/Regression/cal_housing.html\n",
            "\n",
            "The target variable is the median house value for California districts,\n",
            "expressed in hundreds of thousands of dollars ($100,000).\n",
            "\n",
            "This dataset was derived from the 1990 U.S. census, using one row per census\n",
            "block group. A block group is the smallest geographical unit for which the U.S.\n",
            "Census Bureau publishes sample data (a block group typically has a population\n",
            "of 600 to 3,000 people).\n",
            "\n",
            "A household is a group of people residing within a home. Since the average\n",
            "number of rooms and bedrooms in this dataset are provided per household, these\n",
            "columns may take surprisingly large values for block groups with few households\n",
            "and many empty houses, such as vacation resorts.\n",
            "\n",
            "It can be downloaded/loaded using the\n",
            ":func:`sklearn.datasets.fetch_california_housing` function.\n",
            "\n",
            ".. rubric:: References\n",
            "\n",
            "- Pace, R. Kelley and Ronald Barry, Sparse Spatial Autoregressions,\n",
            "  Statistics and Probability Letters, 33 (1997) 291-297\n",
            "\n",
            "X shape: (20640, 8)\n",
            "y shape: (20640,)\n"
          ]
        }
      ],
      "source": [
        "from sklearn.datasets import fetch_california_housing\n",
        "\n",
        "california = fetch_california_housing()\n",
        "\n",
        "print(california.DESCR)\n",
        "\n",
        "X, y = california.data, california.target\n",
        "\n",
        "print(f\"X shape: {X.shape}\")\n",
        "print(f\"y shape: {y.shape}\")"
      ]
    },
    {
      "cell_type": "markdown",
      "metadata": {
        "id": "b3WIs6xwFUe1"
      },
      "source": [
        "\n",
        "We will not assume our dependent variable has a polynomial relationship on our independent variable.\n",
        "\n",
        "In fact, we will only make a singular, relaxed assumption about the relationship between our dependen target variable (median house value) and the 8 independnet attributes: *That the relationship can be modeled using a multi-layer perceptron (i.e. an articial neural network).*"
      ]
    },
    {
      "cell_type": "markdown",
      "metadata": {
        "id": "qwYPb_hoGxr9"
      },
      "source": [
        "> **Question 5a) Why is a multi-layered perception (MLP) a reasonable choice for our regression model? On the other hand, what will be the MLP's shortcomings for this particular task?**\n",
        "\n",
        "*Our dataset contains a lot of features and quite a lot of data that an MLP could find hidden abstractions from. MLP could overfit, use features that may not contribute to house value and it could be difficult interpreting what contributes to the median house value*"
      ]
    },
    {
      "cell_type": "code",
      "execution_count": 36,
      "metadata": {
        "id": "uoHoLYjAEi21"
      },
      "outputs": [],
      "source": [
        "# Step 1: Define training parameters\n",
        "learning_rate = 1e-6\n",
        "num_epochs = 200 # Choose a number # Epochs is the number of times we cycle through the entire dataset when training. Similar to 'num_steps' above.\n",
        "batch_size = 16 # Choose a number # Batch size is the number of data points we aggregate together for a single loss calculation and gradient step"
      ]
    },
    {
      "cell_type": "code",
      "execution_count": 37,
      "metadata": {
        "id": "B5Fui2XLH94P"
      },
      "outputs": [],
      "source": [
        "# Step 2: Create your neural network.\n",
        "# The first layer's input size should be 8.\n",
        "# There should be at least one hidden layer.\n",
        "# All layers should have a bias term (which is the default).\n",
        "# There should be a non-linear activation function for each layer (except the output)\n",
        "# The output size should be 1.\n",
        "# Hint: nn.Sequential may be helpful\n",
        "input_dim = len(X[0])\n",
        "output_dim = 1\n",
        "model = nn.Sequential(\n",
        "    nn.Linear(input_dim, 32),\n",
        "    nn.ReLU(),\n",
        "    nn.Linear(32, 64),\n",
        "    nn.ReLU(),\n",
        "    nn.Linear(64, 32),\n",
        "    nn.ReLU(),\n",
        "    nn.Linear(32, 1),\n",
        ")"
      ]
    },
    {
      "cell_type": "markdown",
      "metadata": {},
      "source": [
        "> **Question 5b) What is your rationale for your architecture?**\n",
        "\n",
        "I was thinking to project the existing features in a higher dimension so that the model would have a easier time finding classifying then projecting it down.\n"
      ]
    },
    {
      "cell_type": "code",
      "execution_count": 38,
      "metadata": {
        "id": "e5CX7y1EJQ_N"
      },
      "outputs": [],
      "source": [
        "# Step 3: Define loss function and optimizer from relevant pytorch classes.\n",
        "criterion = nn.MSELoss()\n",
        "optimizer = optim.Adam(params = model.parameters(), lr = learning_rate)"
      ]
    },
    {
      "cell_type": "code",
      "execution_count": 39,
      "metadata": {
        "id": "e5CX7y1EJQ_N"
      },
      "outputs": [],
      "source": [
        "# Step 4: Create training loop. Feel free to rewrite Step 4 from Section 4.\n",
        "# However, if the train() function from Section 4 was robustly implemented, it should work for this problem also.\n",
        "\n",
        "def train(dataset, model, optimizer, num_epochs, batch_size=None):\n",
        "  # Your code here  \n",
        "  # Fun visualization\n",
        "  from tqdm.auto import tqdm\n",
        "  X_train, y_train = dataset\n",
        "  dataloader = DataLoader(TensorDataset(torch.tensor(X_train, dtype = torch.float32), torch.tensor(y_train, dtype = torch.float32)), batch_size=batch_size)\n",
        "  # Initialize empty list for loss\n",
        "  losses = []\n",
        "  model.train()\n",
        "  for epoch in tqdm(range(num_epochs)):\n",
        "    for batch_X, batch_y in dataloader:\n",
        "        optimizer.zero_grad()\n",
        "        outputs = model(batch_X)\n",
        "        loss = criterion(outputs, batch_y)\n",
        "        loss.backward()\n",
        "        optimizer.step()\n",
        "    losses.append(loss.item())\n",
        "    #print(f'Epoch: {epoch}, loss: {loss.item()}')\n",
        "  return losses\n",
        "\n"
      ]
    },
    {
      "cell_type": "code",
      "execution_count": 40,
      "metadata": {
        "id": "w37vFJp7Jr_O"
      },
      "outputs": [],
      "source": [
        "# Step 5: train_test_split the data Feel free to rewrite Step 5 from Section 4.\n",
        "# However, if the train_test_split() function from Section 4 was robustly implemented, it should work for this problem also.\n",
        "def train_test_split(X, y, train_ratio=0.8):\n",
        "    from sklearn.preprocessing import StandardScaler\n",
        "    from sklearn.model_selection import train_test_split\n",
        "    scaler = StandardScaler()\n",
        "    X = scaler.fit_transform(X)\n",
        "    \n",
        "    X_train, X_test, y_train, y_test = train_test_split(X, y, test_size = 1 - train_ratio)\n",
        "    train_dataset, test_dataset = (X_train, y_train), (X_test, y_test)\n",
        "    \n",
        "    return train_dataset, test_dataset"
      ]
    },
    {
      "cell_type": "code",
      "execution_count": 41,
      "metadata": {
        "id": "Ur095DZ-NkG2"
      },
      "outputs": [
        {
          "name": "stderr",
          "output_type": "stream",
          "text": [
            "/opt/homebrew/Caskroom/miniforge/base/envs/dl-bioscience/lib/python3.13/site-packages/tqdm/auto.py:21: TqdmWarning: IProgress not found. Please update jupyter and ipywidgets. See https://ipywidgets.readthedocs.io/en/stable/user_install.html\n",
            "  from .autonotebook import tqdm as notebook_tqdm\n",
            "  0%|          | 0/200 [00:00<?, ?it/s]/opt/homebrew/Caskroom/miniforge/base/envs/dl-bioscience/lib/python3.13/site-packages/torch/nn/modules/loss.py:608: UserWarning: Using a target size (torch.Size([16])) that is different to the input size (torch.Size([16, 1])). This will likely lead to incorrect results due to broadcasting. Please ensure they have the same size.\n",
            "  return F.mse_loss(input, target, reduction=self.reduction)\n",
            "100%|██████████| 200/200 [01:25<00:00,  2.35it/s]\n"
          ]
        }
      ],
      "source": [
        "# Step 6: Call training loop. It might take a minute or so to train.\n",
        "train_dataset, test_dataset = train_test_split(X, y)\n",
        "losses = train(train_dataset, model, optimizer, num_epochs, batch_size=batch_size)"
      ]
    },
    {
      "cell_type": "code",
      "execution_count": 42,
      "metadata": {
        "id": "FBPBFZrqNmZZ"
      },
      "outputs": [
        {
          "data": {
            "text/plain": [
              "[<matplotlib.lines.Line2D at 0x176cd9e50>]"
            ]
          },
          "execution_count": 42,
          "metadata": {},
          "output_type": "execute_result"
        },
        {
          "data": {
            "image/png": "[encoded data removed]",
            "text/plain": [
              "<Figure size 640x480 with 1 Axes>"
            ]
          },
          "metadata": {},
          "output_type": "display_data"
        }
      ],
      "source": [
        "plt.plot(np.arange(len(losses)), losses, label='Loss Plot', color='blue')"
      ]
    },
    {
      "cell_type": "code",
      "execution_count": 43,
      "metadata": {
        "id": "7H-cHS_tUT9m"
      },
      "outputs": [
        {
          "name": "stdout",
          "output_type": "stream",
          "text": [
            "Test Loss: 1.2679\n"
          ]
        },
        {
          "ename": "AssertionError",
          "evalue": "",
          "output_type": "error",
          "traceback": [
            "\u001b[0;31m---------------------------------------------------------------------------\u001b[0m",
            "\u001b[0;31mAssertionError\u001b[0m                            Traceback (most recent call last)",
            "Cell \u001b[0;32mIn[43], line 3\u001b[0m\n\u001b[1;32m      1\u001b[0m \u001b[38;5;66;03m# Step 7: Evaluate model\u001b[39;00m\n\u001b[1;32m      2\u001b[0m test_result \u001b[38;5;241m=\u001b[39m evaluate(test_dataset, model, criterion)\n\u001b[0;32m----> 3\u001b[0m \u001b[38;5;28;01massert\u001b[39;00m test_result \u001b[38;5;241m<\u001b[39m \u001b[38;5;241m0.6\u001b[39m\n",
            "\u001b[0;31mAssertionError\u001b[0m: "
          ]
        }
      ],
      "source": [
        "# Step 7: Evaluate model\n",
        "test_result = evaluate(test_dataset, model, criterion)\n",
        "assert test_result < 0.6"
      ]
    },
    {
      "cell_type": "code",
      "execution_count": 44,
      "metadata": {},
      "outputs": [
        {
          "data": {
            "image/png": "[encoded data removed]",
            "text/plain": [
              "<Figure size 1000x600 with 1 Axes>"
            ]
          },
          "metadata": {},
          "output_type": "display_data"
        }
      ],
      "source": [
        "import torch\n",
        "import matplotlib.pyplot as plt\n",
        "\n",
        "# Unpack the dataset\n",
        "X_train, y_train = train_dataset\n",
        "\n",
        "# Convert to tensors\n",
        "X_train = torch.tensor(X_train, dtype=torch.float32)\n",
        "y_train = torch.tensor(y_train, dtype=torch.float32)\n",
        "\n",
        "# Forward pass to get predictions\n",
        "predictions = model(X_train).detach().numpy()\n",
        "\n",
        "# Plot histograms\n",
        "plt.figure(figsize=(10, 6))\n",
        "plt.hist(y_train, bins=30, alpha=0.5, label=\"y_train\", density=True)\n",
        "plt.hist(predictions, bins=30, alpha=0.5, label=\"Predictions\", density=True)\n",
        "plt.xlabel(\"Value\")\n",
        "plt.ylabel(\"Density\")\n",
        "plt.legend()\n",
        "plt.title(\"Histogram of y_train and Predictions\")\n",
        "plt.show()\n"
      ]
    },
    {
      "cell_type": "code",
      "execution_count": 45,
      "metadata": {
        "id": "bdiQ3SdJPgQf"
      },
      "outputs": [
        {
          "data": {
            "image/png": "[encoded data removed]",
            "text/plain": [
              "<Figure size 1000x600 with 1 Axes>"
            ]
          },
          "metadata": {},
          "output_type": "display_data"
        }
      ],
      "source": [
        "import torch\n",
        "import matplotlib.pyplot as plt\n",
        "\n",
        "# Unpack the dataset\n",
        "X_test, y_test = test_dataset\n",
        "\n",
        "# Convert to tensors\n",
        "X_test = torch.tensor(X_test, dtype=torch.float32)\n",
        "y_test = torch.tensor(y_test, dtype=torch.float32)\n",
        "\n",
        "# Forward pass to get predictions\n",
        "predictions = model(X_test).detach().numpy()\n",
        "y_test = y_test.detach().numpy()\n",
        "\n",
        "# Plot histograms\n",
        "plt.figure(figsize=(10, 6))\n",
        "plt.hist(y_test, bins=30, alpha=0.5, label=\"y_test\", density=True)\n",
        "plt.hist(predictions, bins=30, alpha=0.5, label=\"Predictions\", density=True)\n",
        "plt.xlabel(\"Value\")\n",
        "plt.ylabel(\"Density\")\n",
        "plt.legend()\n",
        "plt.title(\"Histogram of y_test and Predictions\")\n",
        "plt.show()\n"
      ]
    },
    {
      "cell_type": "markdown",
      "metadata": {
        "id": "6TmYo4e3PQJH"
      },
      "source": [
        "> **Question 5c) Describe the difference in distributions between your predictions and targets on the training and test sets. Does this seem reasonable? Are there differences in how your neural network predictions perform on the training vs test tests?**\n",
        "\n",
        "*It appears that the distribution is around the value of 2 and it does not seem reasonable as the housing dataset has a wider distribution. My neural network is consistent in both the training and test, but it does not do well capturing the data.*"
      ]
    },
    {
      "cell_type": "markdown",
      "metadata": {
        "id": "NhwTizBnQKVw"
      },
      "source": [
        "Let's get a quantitative measure of our test performance. We can calculate the $R^2$ measure of our predictions compared to test target values."
      ]
    },
    {
      "cell_type": "markdown",
      "metadata": {
        "id": "rCeHopuMQ8yB"
      },
      "source": [
        "> **Question 5d) Explain what the $R^2$ metric measures? Report it for your model below**\n",
        "\n",
        "*R^2 coefficient will evaluate how well my model's predictions explain the variance in my dataset. Since it is 0.044... it performs poorly*"
      ]
    },
    {
      "cell_type": "code",
      "execution_count": 46,
      "metadata": {
        "id": "ClB7062SOJYn"
      },
      "outputs": [
        {
          "name": "stdout",
          "output_type": "stream",
          "text": [
            "R^2: 0.04411172866821289\n"
          ]
        }
      ],
      "source": [
        "# Report R^2 here\n",
        "from sklearn.metrics import r2_score\n",
        "r2 = r2_score(\n",
        "    # Your code here\n",
        "    y_test, predictions\n",
        ")\n",
        "print(f\"R^2: {r2}\")"
      ]
    },
    {
      "cell_type": "markdown",
      "metadata": {
        "id": "DwkruwfeRSKC"
      },
      "source": [
        "Congrats, you finished your first assignment! Feel free to try different architectures, hyperparameters, feature engineering approaches (i.e. standardizing your features), etc... to try to improve your neural network performance. Improving neural network performance is often an emprical process of trying out different configurations."
      ]
    }
  ],
  "metadata": {
    "colab": {
      "include_colab_link": true,
      "provenance": [],
      "toc_visible": true
    },
    "kernelspec": {
      "display_name": "dl-bioscience",
      "language": "python",
      "name": "python3"
    },
    "language_info": {
      "codemirror_mode": {
        "name": "ipython",
        "version": 3
      },
      "file_extension": ".py",
      "mimetype": "text/x-python",
      "name": "python",
      "nbconvert_exporter": "python",
      "pygments_lexer": "ipython3",
      "version": "3.13.1"
    }
  },
  "nbformat": 4,
  "nbformat_minor": 0
}
