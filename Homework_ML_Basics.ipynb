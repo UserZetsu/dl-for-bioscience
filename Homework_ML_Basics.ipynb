{
  "cells": [
    {
      "cell_type": "markdown",
      "metadata": {
        "colab_type": "text",
        "id": "view-in-github"
      },
      "source": [
        "<a href=\"https://colab.research.google.com/github/UserZetsu/dl-for-bioscience/blob/main/Homework_ML_Basics.ipynb\" target=\"_parent\"><img src=\"https://colab.research.google.com/assets/colab-badge.svg\" alt=\"Open In Colab\"/></a>"
      ]
    },
    {
      "cell_type": "markdown",
      "metadata": {
        "id": "aRP_CNMFt8tj"
      },
      "source": [
        "\n",
        "# Homework: Implementing simple learning algorithms\n",
        "\n",
        "\n",
        "> **Due Date: February 5th, 2025 by 1 pm**\n",
        ">\n",
        "> Please turn in this completed notebook as an attachment or as a shared link to clay.smyth@ucsf.edu\n",
        "\n",
        "**Collaboration policy and more**\n",
        "\n",
        "You're welcome (and highly encouraged) to work with and discuss this homework assignment with others in the class, and feel free to use any resources (textbooks, online notebooks, etc). The only requirement is that the final notebook that you turn in must be your own written work (no copy and pasting, please).\n",
        "\n",
        "**Overview**\n",
        "\n"
      ]
    },
    {
      "cell_type": "markdown",
      "metadata": {
        "id": "8-W1WUs-uSdz"
      },
      "source": [
        "## Before you get started\n",
        "\n",
        "**1) How to run this notebook**\n",
        "\n",
        "This Jupyter Notebook can be used in two ways:\n",
        "* *Option 1: Download the notebook*\n",
        "\n",
        "  We've included all the imports necessary for this homework. Please make sure you're running Python 3 with PyTorch (and Torchvision) installed and ready to go, along with NumPy and Matplotlib. Although you might find that these models train a bit faster on GPU, this homework assignment should be doable on most modern laptops. If you're having trouble please let us know ASAP.\n",
        "\n",
        "* *Option 2: Run it online on Google Colaboratory*\n",
        "\n",
        "  - Colab gives access to a GPU, so it could be useful in case you don't have CUDA installed on your computer (**Note: you can use this as an opportunity to get started on GPU training, but we recommend you develop your model and make sure everything works on CPU first**)\n",
        "  - Make a copy of this notebook in your Google Drive folder: \"File\" -> \"Save a copy in Drive...\"\n",
        "  - By default, Colab does not make GPUs available, but you can easily access them by selecting GPU in \"Runtime\" -> \"Change runtime type...\"\n",
        "  - Remember that Colab runs in a temporary virtual machine, so all the data created while running the notebook will be lost at the end of the session, or when the runtime disconnects due to inactivity. To preserve data between sessions, there are a couple of options:\n",
        "    * you can link Colab to your personal Google Drive by mounting it on your runtime, see first cell below.\n",
        "    * you can download/upload files from the Files tab on the right sidebar.\n",
        "\n",
        "**3) How to complete this assignment**\n",
        "\n",
        "  - Fill out the relevant code blocks as indicated\n",
        "  - Answer questions by writing them directly in the text block. Please keep your written answers concise, most are meant to be answered in a sentence or two.\n",
        "  - Make figures showing your results and add comments with your observations.\n",
        "  - Some code is provided for you. Feel free to amend provided code as necessary to complete the assignment. Your implementation for specific portions may require changes to the provided code, which is OK.\n",
        "\n",
        "***Let's start!***\n",
        "\n",
        "---"
      ]
    },
    {
      "cell_type": "markdown",
      "metadata": {
        "id": "fzyVPwhkMWk3"
      },
      "source": [
        "The following command can be used to mount your personal Google Drive folder on the temporary virtual machine, so you can recover data between sessions (follow the instructions, you'll need an authorization code). Additional info [here](https://colab.research.google.com/notebooks/io.ipynb#scrollTo=u22w3BFiOveA).\n"
      ]
    },
    {
      "cell_type": "code",
      "execution_count": 485,
      "metadata": {
        "colab": {
          "base_uri": "https://localhost:8080/"
        },
        "id": "STvHSt3zICjF",
        "outputId": "ec8afd04-2a07-41fa-e104-84f3a80d6124"
      },
      "outputs": [],
      "source": [
        "# # Skip this cell if running locally\n",
        "#from google.colab import drive\n",
        "#drive.mount('/content/gdrive')"
      ]
    },
    {
      "cell_type": "code",
      "execution_count": 486,
      "metadata": {
        "id": "OyDaEPTr4YNP"
      },
      "outputs": [],
      "source": [
        "# Import all the necessary libraries\n",
        "import numpy as np\n",
        "from matplotlib import pyplot as plt\n",
        "from scipy import stats\n",
        "\n",
        "# %matplotlib inline\n",
        "\n",
        "# from IPython.display import Image, display\n",
        "\n",
        "import torch\n",
        "import torch.nn as nn\n",
        "import torch.nn.functional as F\n",
        "import torch.optim as optim\n",
        "from torch.utils.data import random_split, TensorDataset, DataLoader"
      ]
    },
    {
      "cell_type": "markdown",
      "metadata": {
        "id": "MBrzn_tnFKsM"
      },
      "source": [
        "> **Question 0) Why is it important to set the seed for the random number generator?**\n",
        "\n",
        "Setting a seed ensures reproducibility in your code. If you do not set a seed, you will get different results everytime you run your model. Therefore, when you change hyperparameters or split your data, it will change your output everytime you run your model.\n",
        "\n",
        "\n"
      ]
    },
    {
      "cell_type": "code",
      "execution_count": 487,
      "metadata": {
        "id": "Hjtsq8Zi4sTS"
      },
      "outputs": [],
      "source": [
        "random_seed = 42 # Feel free to pick your favorite number\n",
        "np.random.seed(random_seed)"
      ]
    },
    {
      "cell_type": "markdown",
      "metadata": {
        "id": "QG7jERid51-b"
      },
      "source": [
        "### 1. **Simple Regression Task Setup**\n",
        "\n",
        "We will begin this homework by using gradient descent to accomplish a single-variate regression task.\n",
        "\n",
        "Regression is a statistical technique for estimating one (dependent) variable from one, or more, other (independent) variables. Here, we will use basic machine learning methodologies to estimate an affine relationship between two variables.\n",
        "\n",
        "Recall the equation of a line:\n",
        "\n",
        "\n",
        "\n"
      ]
    },
    {
      "cell_type": "markdown",
      "metadata": {
        "id": "AMcdPkZS76El"
      },
      "source": [
        "$$\n",
        "y = mx + b\n",
        "$$\n",
        "\n"
      ]
    },
    {
      "cell_type": "markdown",
      "metadata": {
        "id": "tBaCxhwv8oEV"
      },
      "source": [
        "We would like to reformulate this equation into linear alegebra notation, which can be accomplished with the following:"
      ]
    },
    {
      "cell_type": "markdown",
      "metadata": {
        "id": "w3LU1Odz8zKH"
      },
      "source": [
        "$$\n",
        "y = \\begin{bmatrix}\n",
        "m & b\n",
        "\\end{bmatrix}\n",
        "\\begin{bmatrix}\n",
        "x \\\\\n",
        "1\n",
        "\\end{bmatrix}\n",
        "$$"
      ]
    },
    {
      "cell_type": "markdown",
      "metadata": {
        "id": "vFAYocBq--xB"
      },
      "source": [
        "\n",
        "\n",
        "> **Question 1a) What variables in the above equation are the weights we would like to learn?**\n",
        "\n",
        "We want to know how weights and bias and how they change to map our inputs to the corresponding outputs.\n"
      ]
    },
    {
      "cell_type": "markdown",
      "metadata": {
        "id": "uEV36HVDk2l3"
      },
      "source": [
        "> **Question 1b) Draw the regression task in the form of a neural network.**\n",
        "\n",
        "Because our regression task is a matrix multiplication followed by an activation function (the identity function), it can be formulated as a very simple artificial neural network with no hidden layers. Attempt to draw the network diagram of our regression task. Feel free to embed an image.\n",
        "\n",
        "![alt text](images/linear_regression.jpeg \"Linear Regression\")\n"
      ]
    },
    {
      "cell_type": "markdown",
      "metadata": {
        "id": "r8EreCtP_Pkv"
      },
      "source": [
        "Let's begin.\n",
        "\n",
        "First, let's create a random line that we would like to estimate."
      ]
    },
    {
      "cell_type": "code",
      "execution_count": 488,
      "metadata": {
        "colab": {
          "base_uri": "https://localhost:8080/",
          "height": 482
        },
        "id": "EKHGshj3_O0B",
        "outputId": "29a1e1c5-d200-401f-b0c8-a9b79330b571"
      },
      "outputs": [
        {
          "name": "stdout",
          "output_type": "stream",
          "text": [
            "Line parameters: m=7, b=4\n",
            "\n"
          ]
        },
        {
          "data": {
            "text/plain": [
              "[<matplotlib.lines.Line2D at 0x1696a8050>]"
            ]
          },
          "execution_count": 488,
          "metadata": {},
          "output_type": "execute_result"
        },
        {
          "data": {
            "image/png": "[encoded data removed]",
            "text/plain": [
              "<Figure size 640x480 with 1 Axes>"
            ]
          },
          "metadata": {},
          "output_type": "display_data"
        }
      ],
      "source": [
        "# Creating random slope and intercept to act as our line parameters\n",
        "m, b = np.random.randint(1, 11), np.random.randint(1, 11)\n",
        "\n",
        "# Generate a set of 100 (X,Y) coordinates that share the relationship y=mx+b\n",
        "x = np.random.randint(1,101, size=100)\n",
        "y = m * x + b\n",
        "print(f\"Line parameters: m={m}, b={b}\")\n",
        "print(\"\")\n",
        "\n",
        "# Plot the (X,Y) points as a line plot using matplotlib\n",
        "plt.plot(x, y, label='Line Plot', color='blue', marker='o')"
      ]
    },
    {
      "cell_type": "markdown",
      "metadata": {
        "id": "REbMzSTIEf_X"
      },
      "source": [
        "Data is always messy. Let's add some noise to our Y vector to resemble a dataset which we \"measured\" from the real world, and visualize the new results."
      ]
    },
    {
      "cell_type": "code",
      "execution_count": 489,
      "metadata": {
        "colab": {
          "base_uri": "https://localhost:8080/",
          "height": 447
        },
        "id": "mK4PfEbDALSu",
        "outputId": "a998114c-e2ff-4b27-cd3a-4e690221066d"
      },
      "outputs": [
        {
          "data": {
            "text/plain": [
              "<matplotlib.collections.PathCollection at 0x169657b10>"
            ]
          },
          "execution_count": 489,
          "metadata": {},
          "output_type": "execute_result"
        },
        {
          "data": {
            "image/png": "[encoded data removed]",
            "text/plain": [
              "<Figure size 640x480 with 1 Axes>"
            ]
          },
          "metadata": {},
          "output_type": "display_data"
        }
      ],
      "source": [
        "# Add noise to our y-vector\n",
        "mu, sigma = 0, 15\n",
        "noise_vector = np.random.normal(mu, sigma, 100)\n",
        "y_measured = y + noise_vector\n",
        "\n",
        "# Plot the (X,Y) points as a scatter plot using matplotlib\n",
        "plt.scatter(x, y_measured, label='Line Plot', color='blue', marker='o')"
      ]
    },
    {
      "cell_type": "markdown",
      "metadata": {
        "id": "Xd47zpRoGODt"
      },
      "source": [
        "Now, we would like to estimate the line parameters which best fit our noisy, observed data. We will accomplish this by starting with random weights and updating those weights using gradient descent. We also need to define how \"bad\" our model is with a loss function.\n",
        "\n"
      ]
    },
    {
      "cell_type": "code",
      "execution_count": 490,
      "metadata": {
        "id": "jmEyt2bjIn_j"
      },
      "outputs": [],
      "source": [
        "# Initialize random model weights\n",
        "def initialize_model(num_weights=2):\n",
        "  weights = []\n",
        "  for i in range(num_weights):\n",
        "    weights.append(np.random.randint(1, 11)) # Only select integers between 1-10.\n",
        "  return np.array(weights)"
      ]
    },
    {
      "cell_type": "code",
      "execution_count": 491,
      "metadata": {
        "colab": {
          "base_uri": "https://localhost:8080/"
        },
        "id": "mcBbH-XXv1zq",
        "outputId": "70597c81-25c8-4bf0-958d-06d6240c6391"
      },
      "outputs": [
        {
          "name": "stdout",
          "output_type": "stream",
          "text": [
            "Random Weights: m=9, b=9\n"
          ]
        }
      ],
      "source": [
        "weights = initialize_model() # Includes bias term\n",
        "print(f\"Random Weights: m={weights[0]}, b={weights[1]}\")"
      ]
    },
    {
      "cell_type": "code",
      "execution_count": 492,
      "metadata": {
        "id": "TDD_5wVCQw1h"
      },
      "outputs": [],
      "source": [
        "# Define your prediction function. This function should return a vector of size x, predicting the y-values.\n",
        "def predict(weights, x):\n",
        "  # Hint, it should be the equation of the line from above. Remember to include the bias term for the data points.\n",
        "  # For an added challenge: Try to use matrix multiplication, and avoid for loops.\n",
        "  \n",
        "  y = np.dot(weights[0], x) + weights[1]\n",
        "\n",
        "  #y = weights[0] * x + weights[1]\n",
        "  return y"
      ]
    },
    {
      "cell_type": "markdown",
      "metadata": {
        "id": "rW89Hb_aiiQ-"
      },
      "source": [
        "Let's visualize our untrained model's predictions alongside our target data (y_measured)."
      ]
    },
    {
      "cell_type": "code",
      "execution_count": 493,
      "metadata": {
        "colab": {
          "base_uri": "https://localhost:8080/",
          "height": 447
        },
        "id": "ssp1v1Initks",
        "outputId": "f4be78ba-e308-47b9-dd4d-dfd3fc284b0e"
      },
      "outputs": [
        {
          "data": {
            "text/plain": [
              "<matplotlib.collections.PathCollection at 0x16a032990>"
            ]
          },
          "execution_count": 493,
          "metadata": {},
          "output_type": "execute_result"
        },
        {
          "data": {
            "image/png": "[encoded data removed]",
            "text/plain": [
              "<Figure size 640x480 with 1 Axes>"
            ]
          },
          "metadata": {},
          "output_type": "display_data"
        }
      ],
      "source": [
        "plt.scatter(x, y_measured, label='Line Plot', color='blue', marker='o')\n",
        "plt.scatter(x, predict(weights, x), color='orange', marker='+')"
      ]
    },
    {
      "cell_type": "markdown",
      "metadata": {
        "id": "xpEDY9QUjHkX"
      },
      "source": [
        "Next, we need to define a loss function to quantify how \"bad\" our current model is at predicting our desired data points."
      ]
    },
    {
      "cell_type": "markdown",
      "metadata": {
        "id": "WdsMnI74jGYi"
      },
      "source": [
        "\n",
        "> **Question 1c) What would be a reasonable loss function for our model and observations?**\n",
        "\n",
        "MSE"
      ]
    },
    {
      "cell_type": "code",
      "execution_count": 494,
      "metadata": {
        "id": "BMe34WtMIOfr"
      },
      "outputs": [],
      "source": [
        "# Define loss function\n",
        "def loss(predictions, targets):\n",
        "  # Write loss function\n",
        "  # Student's should likely implement mean-squared error loss\n",
        "  y = np.mean((predictions - targets)**2)\n",
        "  return y"
      ]
    },
    {
      "cell_type": "markdown",
      "metadata": {
        "id": "jLfi3aAKPmu3"
      },
      "source": [
        "Let's see the loss of your untrained model.\n"
      ]
    },
    {
      "cell_type": "code",
      "execution_count": 495,
      "metadata": {
        "colab": {
          "base_uri": "https://localhost:8080/"
        },
        "id": "EUr-Ebx6PkCk",
        "outputId": "5b92ff3b-3018-449b-d528-c078371643e0"
      },
      "outputs": [
        {
          "name": "stdout",
          "output_type": "stream",
          "text": [
            "15245.957090865357\n"
          ]
        }
      ],
      "source": [
        "predictions = predict(weights, x)\n",
        "print(loss(predictions, y_measured))"
      ]
    },
    {
      "cell_type": "markdown",
      "metadata": {
        "id": "ncDEvkcKjXmp"
      },
      "source": [
        "Not great! We'll do better after training."
      ]
    },
    {
      "cell_type": "markdown",
      "metadata": {
        "id": "92xo-8WrUMLT"
      },
      "source": [
        "### 2. **Training our Regression**\n",
        "\n",
        "Now that we have set-up our problem statement, collected data, and defined our model and loss function, we would like to train our model to minimize the loss function. We will accomplish this using gradient descent.\n",
        "\n",
        "Recall that the gradient is the derivative of the loss function with respect to each weight (or parameter) in our model. The gradient takes the form of a vector."
      ]
    },
    {
      "cell_type": "markdown",
      "metadata": {
        "id": "dApjXngIVbe7"
      },
      "source": [
        "> **Question 2a) In a few sentences, describe gradient descent?**\n",
        "\n",
        "Gradient Descent is an algorithm that finds the minima (could be a local or global) of a differentiable function. It will iteratively update the weights and bias so that our model converges to a function that maps our inputs to the outputs"
      ]
    },
    {
      "cell_type": "markdown",
      "metadata": {
        "id": "ZU08g_pUYDkF"
      },
      "source": [
        "> **Question 2b) What are the partial derivatives of your loss function with respect to each model parameter?**\n",
        "\n",
        "![alt text](images/lr_gd.jpeg)"
      ]
    },
    {
      "cell_type": "code",
      "execution_count": 496,
      "metadata": {
        "id": "aM1rYJCHUQ3n"
      },
      "outputs": [],
      "source": [
        "# Implement the gradient function for our regression task.\n",
        "# It should return a vector the same size as the model 'weights' variable.\n",
        "def gradient_func(x, y, predictions):\n",
        "  # Your code here\n",
        "  \n",
        "  # The error term represents yi - (mx+b) in the drawing above\n",
        "  error = y - predictions\n",
        "  \n",
        "  # Gradient of slope, we compute the dot product of X.T and error term to influence the weight of each X \n",
        "  m = -2/len(x) * np.dot(x.T, error)\n",
        "  \n",
        "  # Gradient of bias term, we compute the aggregate error because bias is a scalar\n",
        "  b = -2/len(x) * (error.sum())\n",
        "\n",
        "  return [m, b]"
      ]
    },
    {
      "cell_type": "code",
      "execution_count": 497,
      "metadata": {
        "id": "xbdTDDn9Z_dE"
      },
      "outputs": [],
      "source": [
        "# Implement a \"step\" function, which adjusts the model weights based upon the gradient and step size\n",
        "def take_step(weights, gradient, lr):\n",
        "  # Your code here\n",
        "  \n",
        "  weights[0] -= lr * gradient[0]\n",
        "  weights[1] -= lr * gradient[1]\n",
        "  \n",
        "  return weights "
      ]
    },
    {
      "cell_type": "code",
      "execution_count": 498,
      "metadata": {
        "id": "hhv2m5N9miQv"
      },
      "outputs": [],
      "source": [
        "# Implement the training loop that utilizes gradient descent.\n",
        "# This function will return the trained model weights and list of loss values\n",
        "def train(x, y_measured, weights, gradient_func, lr, num_steps):\n",
        "\n",
        "  # We will save our losses to plot a loss curve\n",
        "  losses = []\n",
        "\n",
        "  # Your code here\n",
        "  for i in range(num_steps):\n",
        "    # Predict y with initial random weights or previous weights \n",
        "    prediction = predict(weights, x)\n",
        "   \n",
        "    # Compute loss for visualization and append to list\n",
        "    losses.append(loss(prediction, y_measured))\n",
        "    \n",
        "    # Compute the gradient with current x, ground truth y, and predictions \n",
        "    gradient = gradient_func(x, y_measured, prediction) \n",
        "\n",
        "    # Take a step by updating the weights with our gradient and learning rate \n",
        "    weights = take_step(weights, gradient, lr)\n",
        "\n",
        "  return weights, losses"
      ]
    },
    {
      "cell_type": "code",
      "execution_count": 499,
      "metadata": {
        "id": "AOu4C4cGnKQa"
      },
      "outputs": [
        {
          "name": "stdout",
          "output_type": "stream",
          "text": [
            "Random Weights: m=9, b=9\n"
          ]
        }
      ],
      "source": [
        "# Define our learning rate (i.e. step size) to use in gradient descent algorithm\n",
        "learning_rate = 0.00027\n",
        "\n",
        "# Define number of steps to take in gradient descent training\n",
        "num_steps = 2000 # Choose something reasonable\n",
        "\n",
        "print(f\"Random Weights: m={weights[0]}, b={weights[1]}\")\n",
        "# Train our model\n",
        "weights, losses = train(x, y_measured, weights, gradient_func, learning_rate, num_steps)\n"
      ]
    },
    {
      "cell_type": "markdown",
      "metadata": {
        "id": "ibeSm8c1jzt-"
      },
      "source": [
        "Let's visualize our loss curve and resultant trained model."
      ]
    },
    {
      "cell_type": "code",
      "execution_count": 500,
      "metadata": {
        "id": "nl-Biz8kdqYQ"
      },
      "outputs": [
        {
          "name": "stdout",
          "output_type": "stream",
          "text": [
            "[np.float64(15245.957090865357), np.float64(13395.698032798668), np.float64(4143.203427606685), np.float64(3420.9346327453413), np.float64(234.20976434801477), np.float64(3518.9761010893444), np.float64(229.69123269201737), np.float64(3619.0175694333475), np.float64(227.17270103602002), np.float64(3721.059037777349), np.float64(226.65416938002258), np.float64(226.65416938002258), np.float64(226.65416938002258), np.float64(226.65416938002258), np.float64(226.65416938002258), np.float64(226.65416938002258), np.float64(226.65416938002258), np.float64(226.65416938002258), np.float64(226.65416938002258), np.float64(226.65416938002258), np.float64(226.65416938002258), np.float64(226.65416938002258), np.float64(226.65416938002258), np.float64(226.65416938002258), np.float64(226.65416938002258), np.float64(226.65416938002258), np.float64(226.65416938002258), np.float64(226.65416938002258), np.float64(226.65416938002258), np.float64(226.65416938002258), np.float64(226.65416938002258), np.float64(226.65416938002258), np.float64(226.65416938002258), np.float64(226.65416938002258), np.float64(226.65416938002258), np.float64(226.65416938002258), np.float64(226.65416938002258), np.float64(226.65416938002258), np.float64(226.65416938002258), np.float64(226.65416938002258), np.float64(226.65416938002258), np.float64(226.65416938002258), np.float64(226.65416938002258), np.float64(226.65416938002258), np.float64(226.65416938002258), np.float64(226.65416938002258), np.float64(226.65416938002258), np.float64(226.65416938002258), np.float64(226.65416938002258), np.float64(226.65416938002258), np.float64(226.65416938002258), np.float64(226.65416938002258), np.float64(226.65416938002258), np.float64(226.65416938002258), np.float64(226.65416938002258), np.float64(226.65416938002258), np.float64(226.65416938002258), np.float64(226.65416938002258), np.float64(226.65416938002258), np.float64(226.65416938002258), np.float64(226.65416938002258), np.float64(226.65416938002258), np.float64(226.65416938002258), np.float64(226.65416938002258), np.float64(226.65416938002258), np.float64(226.65416938002258), np.float64(226.65416938002258), np.float64(226.65416938002258), np.float64(226.65416938002258), np.float64(226.65416938002258), np.float64(226.65416938002258), np.float64(226.65416938002258), np.float64(226.65416938002258), np.float64(226.65416938002258), np.float64(226.65416938002258), np.float64(226.65416938002258), np.float64(226.65416938002258), np.float64(226.65416938002258), np.float64(226.65416938002258), np.float64(226.65416938002258), np.float64(226.65416938002258), np.float64(226.65416938002258), np.float64(226.65416938002258), np.float64(226.65416938002258), np.float64(226.65416938002258), np.float64(226.65416938002258), np.float64(226.65416938002258), np.float64(226.65416938002258), np.float64(226.65416938002258), np.float64(226.65416938002258), np.float64(226.65416938002258), np.float64(226.65416938002258), np.float64(226.65416938002258), np.float64(226.65416938002258), np.float64(226.65416938002258), np.float64(226.65416938002258), np.float64(226.65416938002258), np.float64(226.65416938002258), np.float64(226.65416938002258), np.float64(226.65416938002258), np.float64(226.65416938002258), np.float64(226.65416938002258), np.float64(226.65416938002258), np.float64(226.65416938002258), np.float64(226.65416938002258), np.float64(226.65416938002258), np.float64(226.65416938002258), np.float64(226.65416938002258), np.float64(226.65416938002258), np.float64(226.65416938002258), np.float64(226.65416938002258), np.float64(226.65416938002258), np.float64(226.65416938002258), np.float64(226.65416938002258), np.float64(226.65416938002258), np.float64(226.65416938002258), np.float64(226.65416938002258), np.float64(226.65416938002258), np.float64(226.65416938002258), np.float64(226.65416938002258), np.float64(226.65416938002258), np.float64(226.65416938002258), np.float64(226.65416938002258), np.float64(226.65416938002258), np.float64(226.65416938002258), np.float64(226.65416938002258), np.float64(226.65416938002258), np.float64(226.65416938002258), np.float64(226.65416938002258), np.float64(226.65416938002258), np.float64(226.65416938002258), np.float64(226.65416938002258), np.float64(226.65416938002258), np.float64(226.65416938002258), np.float64(226.65416938002258), np.float64(226.65416938002258), np.float64(226.65416938002258), np.float64(226.65416938002258), np.float64(226.65416938002258), np.float64(226.65416938002258), np.float64(226.65416938002258), np.float64(226.65416938002258), np.float64(226.65416938002258), np.float64(226.65416938002258), np.float64(226.65416938002258), np.float64(226.65416938002258), np.float64(226.65416938002258), np.float64(226.65416938002258), np.float64(226.65416938002258), np.float64(226.65416938002258), np.float64(226.65416938002258), np.float64(226.65416938002258), np.float64(226.65416938002258), np.float64(226.65416938002258), np.float64(226.65416938002258), np.float64(226.65416938002258), np.float64(226.65416938002258), np.float64(226.65416938002258), np.float64(226.65416938002258), np.float64(226.65416938002258), np.float64(226.65416938002258), np.float64(226.65416938002258), np.float64(226.65416938002258), np.float64(226.65416938002258), np.float64(226.65416938002258), np.float64(226.65416938002258), np.float64(226.65416938002258), np.float64(226.65416938002258), np.float64(226.65416938002258), np.float64(226.65416938002258), np.float64(226.65416938002258), np.float64(226.65416938002258), np.float64(226.65416938002258), np.float64(226.65416938002258), np.float64(226.65416938002258), np.float64(226.65416938002258), np.float64(226.65416938002258), np.float64(226.65416938002258), np.float64(226.65416938002258), np.float64(226.65416938002258), np.float64(226.65416938002258), np.float64(226.65416938002258), np.float64(226.65416938002258), np.float64(226.65416938002258), np.float64(226.65416938002258), np.float64(226.65416938002258), np.float64(226.65416938002258), np.float64(226.65416938002258), np.float64(226.65416938002258), np.float64(226.65416938002258), np.float64(226.65416938002258), np.float64(226.65416938002258), np.float64(226.65416938002258), np.float64(226.65416938002258), np.float64(226.65416938002258), np.float64(226.65416938002258), np.float64(226.65416938002258), np.float64(226.65416938002258), np.float64(226.65416938002258), np.float64(226.65416938002258), np.float64(226.65416938002258), np.float64(226.65416938002258), np.float64(226.65416938002258), np.float64(226.65416938002258), np.float64(226.65416938002258), np.float64(226.65416938002258), np.float64(226.65416938002258), np.float64(226.65416938002258), np.float64(226.65416938002258), np.float64(226.65416938002258), np.float64(226.65416938002258), np.float64(226.65416938002258), np.float64(226.65416938002258), np.float64(226.65416938002258), np.float64(226.65416938002258), np.float64(226.65416938002258), np.float64(226.65416938002258), np.float64(226.65416938002258), np.float64(226.65416938002258), np.float64(226.65416938002258), np.float64(226.65416938002258), np.float64(226.65416938002258), np.float64(226.65416938002258), np.float64(226.65416938002258), np.float64(226.65416938002258), np.float64(226.65416938002258), np.float64(226.65416938002258), np.float64(226.65416938002258), np.float64(226.65416938002258), np.float64(226.65416938002258), np.float64(226.65416938002258), np.float64(226.65416938002258), np.float64(226.65416938002258), np.float64(226.65416938002258), np.float64(226.65416938002258), np.float64(226.65416938002258), np.float64(226.65416938002258), np.float64(226.65416938002258), np.float64(226.65416938002258), np.float64(226.65416938002258), np.float64(226.65416938002258), np.float64(226.65416938002258), np.float64(226.65416938002258), np.float64(226.65416938002258), np.float64(226.65416938002258), np.float64(226.65416938002258), np.float64(226.65416938002258), np.float64(226.65416938002258), np.float64(226.65416938002258), np.float64(226.65416938002258), np.float64(226.65416938002258), np.float64(226.65416938002258), np.float64(226.65416938002258), np.float64(226.65416938002258), np.float64(226.65416938002258), np.float64(226.65416938002258), np.float64(226.65416938002258), np.float64(226.65416938002258), np.float64(226.65416938002258), np.float64(226.65416938002258), np.float64(226.65416938002258), np.float64(226.65416938002258), np.float64(226.65416938002258), np.float64(226.65416938002258), np.float64(226.65416938002258), np.float64(226.65416938002258), np.float64(226.65416938002258), np.float64(226.65416938002258), np.float64(226.65416938002258), np.float64(226.65416938002258), np.float64(226.65416938002258), np.float64(226.65416938002258), np.float64(226.65416938002258), np.float64(226.65416938002258), np.float64(226.65416938002258), np.float64(226.65416938002258), np.float64(226.65416938002258), np.float64(226.65416938002258), np.float64(226.65416938002258), np.float64(226.65416938002258), np.float64(226.65416938002258), np.float64(226.65416938002258), np.float64(226.65416938002258), np.float64(226.65416938002258), np.float64(226.65416938002258), np.float64(226.65416938002258), np.float64(226.65416938002258), np.float64(226.65416938002258), np.float64(226.65416938002258), np.float64(226.65416938002258), np.float64(226.65416938002258), np.float64(226.65416938002258), np.float64(226.65416938002258), np.float64(226.65416938002258), np.float64(226.65416938002258), np.float64(226.65416938002258), np.float64(226.65416938002258), np.float64(226.65416938002258), np.float64(226.65416938002258), np.float64(226.65416938002258), np.float64(226.65416938002258), np.float64(226.65416938002258), np.float64(226.65416938002258), np.float64(226.65416938002258), np.float64(226.65416938002258), np.float64(226.65416938002258), np.float64(226.65416938002258), np.float64(226.65416938002258), np.float64(226.65416938002258), np.float64(226.65416938002258), np.float64(226.65416938002258), np.float64(226.65416938002258), np.float64(226.65416938002258), np.float64(226.65416938002258), np.float64(226.65416938002258), np.float64(226.65416938002258), np.float64(226.65416938002258), np.float64(226.65416938002258), np.float64(226.65416938002258), np.float64(226.65416938002258), np.float64(226.65416938002258), np.float64(226.65416938002258), np.float64(226.65416938002258), np.float64(226.65416938002258), np.float64(226.65416938002258), np.float64(226.65416938002258), np.float64(226.65416938002258), np.float64(226.65416938002258), np.float64(226.65416938002258), np.float64(226.65416938002258), np.float64(226.65416938002258), np.float64(226.65416938002258), np.float64(226.65416938002258), np.float64(226.65416938002258), np.float64(226.65416938002258), np.float64(226.65416938002258), np.float64(226.65416938002258), np.float64(226.65416938002258), np.float64(226.65416938002258), np.float64(226.65416938002258), np.float64(226.65416938002258), np.float64(226.65416938002258), np.float64(226.65416938002258), np.float64(226.65416938002258), np.float64(226.65416938002258), np.float64(226.65416938002258), np.float64(226.65416938002258), np.float64(226.65416938002258), np.float64(226.65416938002258), np.float64(226.65416938002258), np.float64(226.65416938002258), np.float64(226.65416938002258), np.float64(226.65416938002258), np.float64(226.65416938002258), np.float64(226.65416938002258), np.float64(226.65416938002258), np.float64(226.65416938002258), np.float64(226.65416938002258), np.float64(226.65416938002258), np.float64(226.65416938002258), np.float64(226.65416938002258), np.float64(226.65416938002258), np.float64(226.65416938002258), np.float64(226.65416938002258), np.float64(226.65416938002258), np.float64(226.65416938002258), np.float64(226.65416938002258), np.float64(226.65416938002258), np.float64(226.65416938002258), np.float64(226.65416938002258), np.float64(226.65416938002258), np.float64(226.65416938002258), np.float64(226.65416938002258), np.float64(226.65416938002258), np.float64(226.65416938002258), np.float64(226.65416938002258), np.float64(226.65416938002258), np.float64(226.65416938002258), np.float64(226.65416938002258), np.float64(226.65416938002258), np.float64(226.65416938002258), np.float64(226.65416938002258), np.float64(226.65416938002258), np.float64(226.65416938002258), np.float64(226.65416938002258), np.float64(226.65416938002258), np.float64(226.65416938002258), np.float64(226.65416938002258), np.float64(226.65416938002258), np.float64(226.65416938002258), np.float64(226.65416938002258), np.float64(226.65416938002258), np.float64(226.65416938002258), np.float64(226.65416938002258), np.float64(226.65416938002258), np.float64(226.65416938002258), np.float64(226.65416938002258), np.float64(226.65416938002258), np.float64(226.65416938002258), np.float64(226.65416938002258), np.float64(226.65416938002258), np.float64(226.65416938002258), np.float64(226.65416938002258), np.float64(226.65416938002258), np.float64(226.65416938002258), np.float64(226.65416938002258), np.float64(226.65416938002258), np.float64(226.65416938002258), np.float64(226.65416938002258), np.float64(226.65416938002258), np.float64(226.65416938002258), np.float64(226.65416938002258), np.float64(226.65416938002258), np.float64(226.65416938002258), np.float64(226.65416938002258), np.float64(226.65416938002258), np.float64(226.65416938002258), np.float64(226.65416938002258), np.float64(226.65416938002258), np.float64(226.65416938002258), np.float64(226.65416938002258), np.float64(226.65416938002258), np.float64(226.65416938002258), np.float64(226.65416938002258), np.float64(226.65416938002258), np.float64(226.65416938002258), np.float64(226.65416938002258), np.float64(226.65416938002258), np.float64(226.65416938002258), np.float64(226.65416938002258), np.float64(226.65416938002258), np.float64(226.65416938002258), np.float64(226.65416938002258), np.float64(226.65416938002258), np.float64(226.65416938002258), np.float64(226.65416938002258), np.float64(226.65416938002258), np.float64(226.65416938002258), np.float64(226.65416938002258), np.float64(226.65416938002258), np.float64(226.65416938002258), np.float64(226.65416938002258), np.float64(226.65416938002258), np.float64(226.65416938002258), np.float64(226.65416938002258), np.float64(226.65416938002258), np.float64(226.65416938002258), np.float64(226.65416938002258), np.float64(226.65416938002258), np.float64(226.65416938002258), np.float64(226.65416938002258), np.float64(226.65416938002258), np.float64(226.65416938002258), np.float64(226.65416938002258), np.float64(226.65416938002258), np.float64(226.65416938002258), np.float64(226.65416938002258), np.float64(226.65416938002258), np.float64(226.65416938002258), np.float64(226.65416938002258), np.float64(226.65416938002258), np.float64(226.65416938002258), np.float64(226.65416938002258), np.float64(226.65416938002258), np.float64(226.65416938002258), np.float64(226.65416938002258), np.float64(226.65416938002258), np.float64(226.65416938002258), np.float64(226.65416938002258), np.float64(226.65416938002258), np.float64(226.65416938002258), np.float64(226.65416938002258), np.float64(226.65416938002258), np.float64(226.65416938002258), np.float64(226.65416938002258), np.float64(226.65416938002258), np.float64(226.65416938002258), np.float64(226.65416938002258), np.float64(226.65416938002258), np.float64(226.65416938002258), np.float64(226.65416938002258), np.float64(226.65416938002258), np.float64(226.65416938002258), np.float64(226.65416938002258), np.float64(226.65416938002258), np.float64(226.65416938002258), np.float64(226.65416938002258), np.float64(226.65416938002258), np.float64(226.65416938002258), np.float64(226.65416938002258), np.float64(226.65416938002258), np.float64(226.65416938002258), np.float64(226.65416938002258), np.float64(226.65416938002258), np.float64(226.65416938002258), np.float64(226.65416938002258), np.float64(226.65416938002258), np.float64(226.65416938002258), np.float64(226.65416938002258), np.float64(226.65416938002258), np.float64(226.65416938002258), np.float64(226.65416938002258), np.float64(226.65416938002258), np.float64(226.65416938002258), np.float64(226.65416938002258), np.float64(226.65416938002258), np.float64(226.65416938002258), np.float64(226.65416938002258), np.float64(226.65416938002258), np.float64(226.65416938002258), np.float64(226.65416938002258), np.float64(226.65416938002258), np.float64(226.65416938002258), np.float64(226.65416938002258), np.float64(226.65416938002258), np.float64(226.65416938002258), np.float64(226.65416938002258), np.float64(226.65416938002258), np.float64(226.65416938002258), np.float64(226.65416938002258), np.float64(226.65416938002258), np.float64(226.65416938002258), np.float64(226.65416938002258), np.float64(226.65416938002258), np.float64(226.65416938002258), np.float64(226.65416938002258), np.float64(226.65416938002258), np.float64(226.65416938002258), np.float64(226.65416938002258), np.float64(226.65416938002258), np.float64(226.65416938002258), np.float64(226.65416938002258), np.float64(226.65416938002258), np.float64(226.65416938002258), np.float64(226.65416938002258), np.float64(226.65416938002258), np.float64(226.65416938002258), np.float64(226.65416938002258), np.float64(226.65416938002258), np.float64(226.65416938002258), np.float64(226.65416938002258), np.float64(226.65416938002258), np.float64(226.65416938002258), np.float64(226.65416938002258), np.float64(226.65416938002258), np.float64(226.65416938002258), np.float64(226.65416938002258), np.float64(226.65416938002258), np.float64(226.65416938002258), np.float64(226.65416938002258), np.float64(226.65416938002258), np.float64(226.65416938002258), np.float64(226.65416938002258), np.float64(226.65416938002258), np.float64(226.65416938002258), np.float64(226.65416938002258), np.float64(226.65416938002258), np.float64(226.65416938002258), np.float64(226.65416938002258), np.float64(226.65416938002258), np.float64(226.65416938002258), np.float64(226.65416938002258), np.float64(226.65416938002258), np.float64(226.65416938002258), np.float64(226.65416938002258), np.float64(226.65416938002258), np.float64(226.65416938002258), np.float64(226.65416938002258), np.float64(226.65416938002258), np.float64(226.65416938002258), np.float64(226.65416938002258), np.float64(226.65416938002258), np.float64(226.65416938002258), np.float64(226.65416938002258), np.float64(226.65416938002258), np.float64(226.65416938002258), np.float64(226.65416938002258), np.float64(226.65416938002258), np.float64(226.65416938002258), np.float64(226.65416938002258), np.float64(226.65416938002258), np.float64(226.65416938002258), np.float64(226.65416938002258), np.float64(226.65416938002258), np.float64(226.65416938002258), np.float64(226.65416938002258), np.float64(226.65416938002258), np.float64(226.65416938002258), np.float64(226.65416938002258), np.float64(226.65416938002258), np.float64(226.65416938002258), np.float64(226.65416938002258), np.float64(226.65416938002258), np.float64(226.65416938002258), np.float64(226.65416938002258), np.float64(226.65416938002258), np.float64(226.65416938002258), np.float64(226.65416938002258), np.float64(226.65416938002258), np.float64(226.65416938002258), np.float64(226.65416938002258), np.float64(226.65416938002258), np.float64(226.65416938002258), np.float64(226.65416938002258), np.float64(226.65416938002258), np.float64(226.65416938002258), np.float64(226.65416938002258), np.float64(226.65416938002258), np.float64(226.65416938002258), np.float64(226.65416938002258), np.float64(226.65416938002258), np.float64(226.65416938002258), np.float64(226.65416938002258), np.float64(226.65416938002258), np.float64(226.65416938002258), np.float64(226.65416938002258), np.float64(226.65416938002258), np.float64(226.65416938002258), np.float64(226.65416938002258), np.float64(226.65416938002258), np.float64(226.65416938002258), np.float64(226.65416938002258), np.float64(226.65416938002258), np.float64(226.65416938002258), np.float64(226.65416938002258), np.float64(226.65416938002258), np.float64(226.65416938002258), np.float64(226.65416938002258), np.float64(226.65416938002258), np.float64(226.65416938002258), np.float64(226.65416938002258), np.float64(226.65416938002258), np.float64(226.65416938002258), np.float64(226.65416938002258), np.float64(226.65416938002258), np.float64(226.65416938002258), np.float64(226.65416938002258), np.float64(226.65416938002258), np.float64(226.65416938002258), np.float64(226.65416938002258), np.float64(226.65416938002258), np.float64(226.65416938002258), np.float64(226.65416938002258), np.float64(226.65416938002258), np.float64(226.65416938002258), np.float64(226.65416938002258), np.float64(226.65416938002258), np.float64(226.65416938002258), np.float64(226.65416938002258), np.float64(226.65416938002258), np.float64(226.65416938002258), np.float64(226.65416938002258), np.float64(226.65416938002258), np.float64(226.65416938002258), np.float64(226.65416938002258), np.float64(226.65416938002258), np.float64(226.65416938002258), np.float64(226.65416938002258), np.float64(226.65416938002258), np.float64(226.65416938002258), np.float64(226.65416938002258), np.float64(226.65416938002258), np.float64(226.65416938002258), np.float64(226.65416938002258), np.float64(226.65416938002258), np.float64(226.65416938002258), np.float64(226.65416938002258), np.float64(226.65416938002258), np.float64(226.65416938002258), np.float64(226.65416938002258), np.float64(226.65416938002258), np.float64(226.65416938002258), np.float64(226.65416938002258), np.float64(226.65416938002258), np.float64(226.65416938002258), np.float64(226.65416938002258), np.float64(226.65416938002258), np.float64(226.65416938002258), np.float64(226.65416938002258), np.float64(226.65416938002258), np.float64(226.65416938002258), np.float64(226.65416938002258), np.float64(226.65416938002258), np.float64(226.65416938002258), np.float64(226.65416938002258), np.float64(226.65416938002258), np.float64(226.65416938002258), np.float64(226.65416938002258), np.float64(226.65416938002258), np.float64(226.65416938002258), np.float64(226.65416938002258), np.float64(226.65416938002258), np.float64(226.65416938002258), np.float64(226.65416938002258), np.float64(226.65416938002258), np.float64(226.65416938002258), np.float64(226.65416938002258), np.float64(226.65416938002258), np.float64(226.65416938002258), np.float64(226.65416938002258), np.float64(226.65416938002258), np.float64(226.65416938002258), np.float64(226.65416938002258), np.float64(226.65416938002258), np.float64(226.65416938002258), np.float64(226.65416938002258), np.float64(226.65416938002258), np.float64(226.65416938002258), np.float64(226.65416938002258), np.float64(226.65416938002258), np.float64(226.65416938002258), np.float64(226.65416938002258), np.float64(226.65416938002258), np.float64(226.65416938002258), np.float64(226.65416938002258), np.float64(226.65416938002258), np.float64(226.65416938002258), np.float64(226.65416938002258), np.float64(226.65416938002258), np.float64(226.65416938002258), np.float64(226.65416938002258), np.float64(226.65416938002258), np.float64(226.65416938002258), np.float64(226.65416938002258), np.float64(226.65416938002258), np.float64(226.65416938002258), np.float64(226.65416938002258), np.float64(226.65416938002258), np.float64(226.65416938002258), np.float64(226.65416938002258), np.float64(226.65416938002258), np.float64(226.65416938002258), np.float64(226.65416938002258), np.float64(226.65416938002258), np.float64(226.65416938002258), np.float64(226.65416938002258), np.float64(226.65416938002258), np.float64(226.65416938002258), np.float64(226.65416938002258), np.float64(226.65416938002258), np.float64(226.65416938002258), np.float64(226.65416938002258), np.float64(226.65416938002258), np.float64(226.65416938002258), np.float64(226.65416938002258), np.float64(226.65416938002258), np.float64(226.65416938002258), np.float64(226.65416938002258), np.float64(226.65416938002258), np.float64(226.65416938002258), np.float64(226.65416938002258), np.float64(226.65416938002258), np.float64(226.65416938002258), np.float64(226.65416938002258), np.float64(226.65416938002258), np.float64(226.65416938002258), np.float64(226.65416938002258), np.float64(226.65416938002258), np.float64(226.65416938002258), np.float64(226.65416938002258), np.float64(226.65416938002258), np.float64(226.65416938002258), np.float64(226.65416938002258), np.float64(226.65416938002258), np.float64(226.65416938002258), np.float64(226.65416938002258), np.float64(226.65416938002258), np.float64(226.65416938002258), np.float64(226.65416938002258), np.float64(226.65416938002258), np.float64(226.65416938002258), np.float64(226.65416938002258), np.float64(226.65416938002258), np.float64(226.65416938002258), np.float64(226.65416938002258), np.float64(226.65416938002258), np.float64(226.65416938002258), np.float64(226.65416938002258), np.float64(226.65416938002258), np.float64(226.65416938002258), np.float64(226.65416938002258), np.float64(226.65416938002258), np.float64(226.65416938002258), np.float64(226.65416938002258), np.float64(226.65416938002258), np.float64(226.65416938002258), np.float64(226.65416938002258), np.float64(226.65416938002258), np.float64(226.65416938002258), np.float64(226.65416938002258), np.float64(226.65416938002258), np.float64(226.65416938002258), np.float64(226.65416938002258), np.float64(226.65416938002258), np.float64(226.65416938002258), np.float64(226.65416938002258), np.float64(226.65416938002258), np.float64(226.65416938002258), np.float64(226.65416938002258), np.float64(226.65416938002258), np.float64(226.65416938002258), np.float64(226.65416938002258), np.float64(226.65416938002258), np.float64(226.65416938002258), np.float64(226.65416938002258), np.float64(226.65416938002258), np.float64(226.65416938002258), np.float64(226.65416938002258), np.float64(226.65416938002258), np.float64(226.65416938002258), np.float64(226.65416938002258), np.float64(226.65416938002258), np.float64(226.65416938002258), np.float64(226.65416938002258), np.float64(226.65416938002258), np.float64(226.65416938002258), np.float64(226.65416938002258), np.float64(226.65416938002258), np.float64(226.65416938002258), np.float64(226.65416938002258), np.float64(226.65416938002258), np.float64(226.65416938002258), np.float64(226.65416938002258), np.float64(226.65416938002258), np.float64(226.65416938002258), np.float64(226.65416938002258), np.float64(226.65416938002258), np.float64(226.65416938002258), np.float64(226.65416938002258), np.float64(226.65416938002258), np.float64(226.65416938002258), np.float64(226.65416938002258), np.float64(226.65416938002258), np.float64(226.65416938002258), np.float64(226.65416938002258), np.float64(226.65416938002258), np.float64(226.65416938002258), np.float64(226.65416938002258), np.float64(226.65416938002258), np.float64(226.65416938002258), np.float64(226.65416938002258), np.float64(226.65416938002258), np.float64(226.65416938002258), np.float64(226.65416938002258), np.float64(226.65416938002258), np.float64(226.65416938002258), np.float64(226.65416938002258), np.float64(226.65416938002258), np.float64(226.65416938002258), np.float64(226.65416938002258), np.float64(226.65416938002258), np.float64(226.65416938002258), np.float64(226.65416938002258), np.float64(226.65416938002258), np.float64(226.65416938002258), np.float64(226.65416938002258), np.float64(226.65416938002258), np.float64(226.65416938002258), np.float64(226.65416938002258), np.float64(226.65416938002258), np.float64(226.65416938002258), np.float64(226.65416938002258), np.float64(226.65416938002258), np.float64(226.65416938002258), np.float64(226.65416938002258), np.float64(226.65416938002258), np.float64(226.65416938002258), np.float64(226.65416938002258), np.float64(226.65416938002258), np.float64(226.65416938002258), np.float64(226.65416938002258), np.float64(226.65416938002258), np.float64(226.65416938002258), np.float64(226.65416938002258), np.float64(226.65416938002258), np.float64(226.65416938002258), np.float64(226.65416938002258), np.float64(226.65416938002258), np.float64(226.65416938002258), np.float64(226.65416938002258), np.float64(226.65416938002258), np.float64(226.65416938002258), np.float64(226.65416938002258), np.float64(226.65416938002258), np.float64(226.65416938002258), np.float64(226.65416938002258), np.float64(226.65416938002258), np.float64(226.65416938002258), np.float64(226.65416938002258), np.float64(226.65416938002258), np.float64(226.65416938002258), np.float64(226.65416938002258), np.float64(226.65416938002258), np.float64(226.65416938002258), np.float64(226.65416938002258), np.float64(226.65416938002258), np.float64(226.65416938002258), np.float64(226.65416938002258), np.float64(226.65416938002258), np.float64(226.65416938002258), np.float64(226.65416938002258), np.float64(226.65416938002258), np.float64(226.65416938002258), np.float64(226.65416938002258), np.float64(226.65416938002258), np.float64(226.65416938002258), np.float64(226.65416938002258), np.float64(226.65416938002258), np.float64(226.65416938002258), np.float64(226.65416938002258), np.float64(226.65416938002258), np.float64(226.65416938002258), np.float64(226.65416938002258), np.float64(226.65416938002258), np.float64(226.65416938002258), np.float64(226.65416938002258), np.float64(226.65416938002258), np.float64(226.65416938002258), np.float64(226.65416938002258), np.float64(226.65416938002258), np.float64(226.65416938002258), np.float64(226.65416938002258), np.float64(226.65416938002258), np.float64(226.65416938002258), np.float64(226.65416938002258), np.float64(226.65416938002258), np.float64(226.65416938002258), np.float64(226.65416938002258), np.float64(226.65416938002258), np.float64(226.65416938002258), np.float64(226.65416938002258), np.float64(226.65416938002258), np.float64(226.65416938002258), np.float64(226.65416938002258), np.float64(226.65416938002258), np.float64(226.65416938002258), np.float64(226.65416938002258), np.float64(226.65416938002258), np.float64(226.65416938002258), np.float64(226.65416938002258), np.float64(226.65416938002258), np.float64(226.65416938002258), np.float64(226.65416938002258), np.float64(226.65416938002258), np.float64(226.65416938002258), np.float64(226.65416938002258), np.float64(226.65416938002258), np.float64(226.65416938002258), np.float64(226.65416938002258), np.float64(226.65416938002258), np.float64(226.65416938002258), np.float64(226.65416938002258), np.float64(226.65416938002258), np.float64(226.65416938002258), np.float64(226.65416938002258), np.float64(226.65416938002258), np.float64(226.65416938002258), np.float64(226.65416938002258), np.float64(226.65416938002258), np.float64(226.65416938002258), np.float64(226.65416938002258), np.float64(226.65416938002258), np.float64(226.65416938002258), np.float64(226.65416938002258), np.float64(226.65416938002258), np.float64(226.65416938002258), np.float64(226.65416938002258), np.float64(226.65416938002258), np.float64(226.65416938002258), np.float64(226.65416938002258), np.float64(226.65416938002258), np.float64(226.65416938002258), np.float64(226.65416938002258), np.float64(226.65416938002258), np.float64(226.65416938002258), np.float64(226.65416938002258), np.float64(226.65416938002258), np.float64(226.65416938002258), np.float64(226.65416938002258), np.float64(226.65416938002258), np.float64(226.65416938002258), np.float64(226.65416938002258), np.float64(226.65416938002258), np.float64(226.65416938002258), np.float64(226.65416938002258), np.float64(226.65416938002258), np.float64(226.65416938002258), np.float64(226.65416938002258), np.float64(226.65416938002258), np.float64(226.65416938002258), np.float64(226.65416938002258), np.float64(226.65416938002258), np.float64(226.65416938002258), np.float64(226.65416938002258), np.float64(226.65416938002258), np.float64(226.65416938002258), np.float64(226.65416938002258), np.float64(226.65416938002258), np.float64(226.65416938002258), np.float64(226.65416938002258), np.float64(226.65416938002258), np.float64(226.65416938002258), np.float64(226.65416938002258), np.float64(226.65416938002258), np.float64(226.65416938002258), np.float64(226.65416938002258), np.float64(226.65416938002258), np.float64(226.65416938002258), np.float64(226.65416938002258), np.float64(226.65416938002258), np.float64(226.65416938002258), np.float64(226.65416938002258), np.float64(226.65416938002258), np.float64(226.65416938002258), np.float64(226.65416938002258), np.float64(226.65416938002258), np.float64(226.65416938002258), np.float64(226.65416938002258), np.float64(226.65416938002258), np.float64(226.65416938002258), np.float64(226.65416938002258), np.float64(226.65416938002258), np.float64(226.65416938002258), np.float64(226.65416938002258), np.float64(226.65416938002258), np.float64(226.65416938002258), np.float64(226.65416938002258), np.float64(226.65416938002258), np.float64(226.65416938002258), np.float64(226.65416938002258), np.float64(226.65416938002258), np.float64(226.65416938002258), np.float64(226.65416938002258), np.float64(226.65416938002258), np.float64(226.65416938002258), np.float64(226.65416938002258), np.float64(226.65416938002258), np.float64(226.65416938002258), np.float64(226.65416938002258), np.float64(226.65416938002258), np.float64(226.65416938002258), np.float64(226.65416938002258), np.float64(226.65416938002258), np.float64(226.65416938002258), np.float64(226.65416938002258), np.float64(226.65416938002258), np.float64(226.65416938002258), np.float64(226.65416938002258), np.float64(226.65416938002258), np.float64(226.65416938002258), np.float64(226.65416938002258), np.float64(226.65416938002258), np.float64(226.65416938002258), np.float64(226.65416938002258), np.float64(226.65416938002258), np.float64(226.65416938002258), np.float64(226.65416938002258), np.float64(226.65416938002258), np.float64(226.65416938002258), np.float64(226.65416938002258), np.float64(226.65416938002258), np.float64(226.65416938002258), np.float64(226.65416938002258), np.float64(226.65416938002258), np.float64(226.65416938002258), np.float64(226.65416938002258), np.float64(226.65416938002258), np.float64(226.65416938002258), np.float64(226.65416938002258), np.float64(226.65416938002258), np.float64(226.65416938002258), np.float64(226.65416938002258), np.float64(226.65416938002258), np.float64(226.65416938002258), np.float64(226.65416938002258), np.float64(226.65416938002258), np.float64(226.65416938002258), np.float64(226.65416938002258), np.float64(226.65416938002258), np.float64(226.65416938002258), np.float64(226.65416938002258), np.float64(226.65416938002258), np.float64(226.65416938002258), np.float64(226.65416938002258), np.float64(226.65416938002258), np.float64(226.65416938002258), np.float64(226.65416938002258), np.float64(226.65416938002258), np.float64(226.65416938002258), np.float64(226.65416938002258), np.float64(226.65416938002258), np.float64(226.65416938002258), np.float64(226.65416938002258), np.float64(226.65416938002258), np.float64(226.65416938002258), np.float64(226.65416938002258), np.float64(226.65416938002258), np.float64(226.65416938002258), np.float64(226.65416938002258), np.float64(226.65416938002258), np.float64(226.65416938002258), np.float64(226.65416938002258), np.float64(226.65416938002258), np.float64(226.65416938002258), np.float64(226.65416938002258), np.float64(226.65416938002258), np.float64(226.65416938002258), np.float64(226.65416938002258), np.float64(226.65416938002258), np.float64(226.65416938002258), np.float64(226.65416938002258), np.float64(226.65416938002258), np.float64(226.65416938002258), np.float64(226.65416938002258), np.float64(226.65416938002258), np.float64(226.65416938002258), np.float64(226.65416938002258), np.float64(226.65416938002258), np.float64(226.65416938002258), np.float64(226.65416938002258), np.float64(226.65416938002258), np.float64(226.65416938002258), np.float64(226.65416938002258), np.float64(226.65416938002258), np.float64(226.65416938002258), np.float64(226.65416938002258), np.float64(226.65416938002258), np.float64(226.65416938002258), np.float64(226.65416938002258), np.float64(226.65416938002258), np.float64(226.65416938002258), np.float64(226.65416938002258), np.float64(226.65416938002258), np.float64(226.65416938002258), np.float64(226.65416938002258), np.float64(226.65416938002258), np.float64(226.65416938002258), np.float64(226.65416938002258), np.float64(226.65416938002258), np.float64(226.65416938002258), np.float64(226.65416938002258), np.float64(226.65416938002258), np.float64(226.65416938002258), np.float64(226.65416938002258), np.float64(226.65416938002258), np.float64(226.65416938002258), np.float64(226.65416938002258), np.float64(226.65416938002258), np.float64(226.65416938002258), np.float64(226.65416938002258), np.float64(226.65416938002258), np.float64(226.65416938002258), np.float64(226.65416938002258), np.float64(226.65416938002258), np.float64(226.65416938002258), np.float64(226.65416938002258), np.float64(226.65416938002258), np.float64(226.65416938002258), np.float64(226.65416938002258), np.float64(226.65416938002258), np.float64(226.65416938002258), np.float64(226.65416938002258), np.float64(226.65416938002258), np.float64(226.65416938002258), np.float64(226.65416938002258), np.float64(226.65416938002258), np.float64(226.65416938002258), np.float64(226.65416938002258), np.float64(226.65416938002258), np.float64(226.65416938002258), np.float64(226.65416938002258), np.float64(226.65416938002258), np.float64(226.65416938002258), np.float64(226.65416938002258), np.float64(226.65416938002258), np.float64(226.65416938002258), np.float64(226.65416938002258), np.float64(226.65416938002258), np.float64(226.65416938002258), np.float64(226.65416938002258), np.float64(226.65416938002258), np.float64(226.65416938002258), np.float64(226.65416938002258), np.float64(226.65416938002258), np.float64(226.65416938002258), np.float64(226.65416938002258), np.float64(226.65416938002258), np.float64(226.65416938002258), np.float64(226.65416938002258), np.float64(226.65416938002258), np.float64(226.65416938002258), np.float64(226.65416938002258), np.float64(226.65416938002258), np.float64(226.65416938002258), np.float64(226.65416938002258), np.float64(226.65416938002258), np.float64(226.65416938002258), np.float64(226.65416938002258), np.float64(226.65416938002258), np.float64(226.65416938002258), np.float64(226.65416938002258), np.float64(226.65416938002258), np.float64(226.65416938002258), np.float64(226.65416938002258), np.float64(226.65416938002258), np.float64(226.65416938002258), np.float64(226.65416938002258), np.float64(226.65416938002258), np.float64(226.65416938002258), np.float64(226.65416938002258), np.float64(226.65416938002258), np.float64(226.65416938002258), np.float64(226.65416938002258), np.float64(226.65416938002258), np.float64(226.65416938002258), np.float64(226.65416938002258), np.float64(226.65416938002258), np.float64(226.65416938002258), np.float64(226.65416938002258), np.float64(226.65416938002258), np.float64(226.65416938002258), np.float64(226.65416938002258), np.float64(226.65416938002258), np.float64(226.65416938002258), np.float64(226.65416938002258), np.float64(226.65416938002258), np.float64(226.65416938002258), np.float64(226.65416938002258), np.float64(226.65416938002258), np.float64(226.65416938002258), np.float64(226.65416938002258), np.float64(226.65416938002258), np.float64(226.65416938002258), np.float64(226.65416938002258), np.float64(226.65416938002258), np.float64(226.65416938002258), np.float64(226.65416938002258), np.float64(226.65416938002258), np.float64(226.65416938002258), np.float64(226.65416938002258), np.float64(226.65416938002258), np.float64(226.65416938002258), np.float64(226.65416938002258), np.float64(226.65416938002258), np.float64(226.65416938002258), np.float64(226.65416938002258), np.float64(226.65416938002258), np.float64(226.65416938002258), np.float64(226.65416938002258), np.float64(226.65416938002258), np.float64(226.65416938002258), np.float64(226.65416938002258), np.float64(226.65416938002258), np.float64(226.65416938002258), np.float64(226.65416938002258), np.float64(226.65416938002258), np.float64(226.65416938002258), np.float64(226.65416938002258), np.float64(226.65416938002258), np.float64(226.65416938002258), np.float64(226.65416938002258), np.float64(226.65416938002258), np.float64(226.65416938002258), np.float64(226.65416938002258), np.float64(226.65416938002258), np.float64(226.65416938002258), np.float64(226.65416938002258), np.float64(226.65416938002258), np.float64(226.65416938002258), np.float64(226.65416938002258), np.float64(226.65416938002258), np.float64(226.65416938002258), np.float64(226.65416938002258), np.float64(226.65416938002258), np.float64(226.65416938002258), np.float64(226.65416938002258), np.float64(226.65416938002258), np.float64(226.65416938002258), np.float64(226.65416938002258), np.float64(226.65416938002258), np.float64(226.65416938002258), np.float64(226.65416938002258), np.float64(226.65416938002258), np.float64(226.65416938002258), np.float64(226.65416938002258), np.float64(226.65416938002258), np.float64(226.65416938002258), np.float64(226.65416938002258), np.float64(226.65416938002258), np.float64(226.65416938002258), np.float64(226.65416938002258), np.float64(226.65416938002258), np.float64(226.65416938002258), np.float64(226.65416938002258), np.float64(226.65416938002258), np.float64(226.65416938002258), np.float64(226.65416938002258), np.float64(226.65416938002258), np.float64(226.65416938002258), np.float64(226.65416938002258), np.float64(226.65416938002258), np.float64(226.65416938002258), np.float64(226.65416938002258), np.float64(226.65416938002258), np.float64(226.65416938002258), np.float64(226.65416938002258), np.float64(226.65416938002258), np.float64(226.65416938002258), np.float64(226.65416938002258), np.float64(226.65416938002258), np.float64(226.65416938002258), np.float64(226.65416938002258), np.float64(226.65416938002258), np.float64(226.65416938002258), np.float64(226.65416938002258), np.float64(226.65416938002258), np.float64(226.65416938002258), np.float64(226.65416938002258), np.float64(226.65416938002258), np.float64(226.65416938002258), np.float64(226.65416938002258), np.float64(226.65416938002258), np.float64(226.65416938002258), np.float64(226.65416938002258), np.float64(226.65416938002258), np.float64(226.65416938002258), np.float64(226.65416938002258), np.float64(226.65416938002258), np.float64(226.65416938002258), np.float64(226.65416938002258), np.float64(226.65416938002258), np.float64(226.65416938002258), np.float64(226.65416938002258), np.float64(226.65416938002258), np.float64(226.65416938002258), np.float64(226.65416938002258), np.float64(226.65416938002258), np.float64(226.65416938002258), np.float64(226.65416938002258), np.float64(226.65416938002258), np.float64(226.65416938002258), np.float64(226.65416938002258), np.float64(226.65416938002258), np.float64(226.65416938002258), np.float64(226.65416938002258), np.float64(226.65416938002258), np.float64(226.65416938002258), np.float64(226.65416938002258), np.float64(226.65416938002258), np.float64(226.65416938002258), np.float64(226.65416938002258), np.float64(226.65416938002258), np.float64(226.65416938002258), np.float64(226.65416938002258), np.float64(226.65416938002258), np.float64(226.65416938002258), np.float64(226.65416938002258), np.float64(226.65416938002258), np.float64(226.65416938002258), np.float64(226.65416938002258), np.float64(226.65416938002258), np.float64(226.65416938002258), np.float64(226.65416938002258), np.float64(226.65416938002258), np.float64(226.65416938002258), np.float64(226.65416938002258), np.float64(226.65416938002258), np.float64(226.65416938002258), np.float64(226.65416938002258), np.float64(226.65416938002258), np.float64(226.65416938002258), np.float64(226.65416938002258), np.float64(226.65416938002258), np.float64(226.65416938002258), np.float64(226.65416938002258), np.float64(226.65416938002258), np.float64(226.65416938002258), np.float64(226.65416938002258), np.float64(226.65416938002258), np.float64(226.65416938002258), np.float64(226.65416938002258), np.float64(226.65416938002258), np.float64(226.65416938002258), np.float64(226.65416938002258), np.float64(226.65416938002258), np.float64(226.65416938002258), np.float64(226.65416938002258), np.float64(226.65416938002258), np.float64(226.65416938002258), np.float64(226.65416938002258), np.float64(226.65416938002258), np.float64(226.65416938002258), np.float64(226.65416938002258), np.float64(226.65416938002258), np.float64(226.65416938002258), np.float64(226.65416938002258), np.float64(226.65416938002258), np.float64(226.65416938002258), np.float64(226.65416938002258), np.float64(226.65416938002258), np.float64(226.65416938002258), np.float64(226.65416938002258), np.float64(226.65416938002258), np.float64(226.65416938002258), np.float64(226.65416938002258), np.float64(226.65416938002258), np.float64(226.65416938002258), np.float64(226.65416938002258), np.float64(226.65416938002258), np.float64(226.65416938002258), np.float64(226.65416938002258), np.float64(226.65416938002258), np.float64(226.65416938002258), np.float64(226.65416938002258), np.float64(226.65416938002258), np.float64(226.65416938002258), np.float64(226.65416938002258), np.float64(226.65416938002258), np.float64(226.65416938002258), np.float64(226.65416938002258), np.float64(226.65416938002258), np.float64(226.65416938002258), np.float64(226.65416938002258), np.float64(226.65416938002258), np.float64(226.65416938002258), np.float64(226.65416938002258), np.float64(226.65416938002258), np.float64(226.65416938002258), np.float64(226.65416938002258), np.float64(226.65416938002258), np.float64(226.65416938002258), np.float64(226.65416938002258), np.float64(226.65416938002258), np.float64(226.65416938002258), np.float64(226.65416938002258), np.float64(226.65416938002258), np.float64(226.65416938002258), np.float64(226.65416938002258), np.float64(226.65416938002258), np.float64(226.65416938002258), np.float64(226.65416938002258), np.float64(226.65416938002258), np.float64(226.65416938002258), np.float64(226.65416938002258), np.float64(226.65416938002258), np.float64(226.65416938002258), np.float64(226.65416938002258), np.float64(226.65416938002258), np.float64(226.65416938002258), np.float64(226.65416938002258), np.float64(226.65416938002258), np.float64(226.65416938002258), np.float64(226.65416938002258), np.float64(226.65416938002258), np.float64(226.65416938002258), np.float64(226.65416938002258), np.float64(226.65416938002258), np.float64(226.65416938002258), np.float64(226.65416938002258), np.float64(226.65416938002258), np.float64(226.65416938002258), np.float64(226.65416938002258), np.float64(226.65416938002258), np.float64(226.65416938002258), np.float64(226.65416938002258), np.float64(226.65416938002258), np.float64(226.65416938002258), np.float64(226.65416938002258), np.float64(226.65416938002258), np.float64(226.65416938002258), np.float64(226.65416938002258), np.float64(226.65416938002258), np.float64(226.65416938002258), np.float64(226.65416938002258), np.float64(226.65416938002258), np.float64(226.65416938002258), np.float64(226.65416938002258), np.float64(226.65416938002258), np.float64(226.65416938002258), np.float64(226.65416938002258), np.float64(226.65416938002258), np.float64(226.65416938002258), np.float64(226.65416938002258), np.float64(226.65416938002258), np.float64(226.65416938002258), np.float64(226.65416938002258), np.float64(226.65416938002258), np.float64(226.65416938002258), np.float64(226.65416938002258), np.float64(226.65416938002258), np.float64(226.65416938002258), np.float64(226.65416938002258), np.float64(226.65416938002258), np.float64(226.65416938002258), np.float64(226.65416938002258), np.float64(226.65416938002258), np.float64(226.65416938002258), np.float64(226.65416938002258), np.float64(226.65416938002258), np.float64(226.65416938002258), np.float64(226.65416938002258), np.float64(226.65416938002258), np.float64(226.65416938002258), np.float64(226.65416938002258), np.float64(226.65416938002258), np.float64(226.65416938002258), np.float64(226.65416938002258), np.float64(226.65416938002258), np.float64(226.65416938002258), np.float64(226.65416938002258), np.float64(226.65416938002258), np.float64(226.65416938002258), np.float64(226.65416938002258), np.float64(226.65416938002258), np.float64(226.65416938002258), np.float64(226.65416938002258), np.float64(226.65416938002258), np.float64(226.65416938002258), np.float64(226.65416938002258), np.float64(226.65416938002258), np.float64(226.65416938002258), np.float64(226.65416938002258), np.float64(226.65416938002258), np.float64(226.65416938002258), np.float64(226.65416938002258), np.float64(226.65416938002258), np.float64(226.65416938002258), np.float64(226.65416938002258), np.float64(226.65416938002258), np.float64(226.65416938002258), np.float64(226.65416938002258), np.float64(226.65416938002258), np.float64(226.65416938002258), np.float64(226.65416938002258), np.float64(226.65416938002258), np.float64(226.65416938002258), np.float64(226.65416938002258), np.float64(226.65416938002258), np.float64(226.65416938002258), np.float64(226.65416938002258), np.float64(226.65416938002258), np.float64(226.65416938002258), np.float64(226.65416938002258), np.float64(226.65416938002258), np.float64(226.65416938002258), np.float64(226.65416938002258), np.float64(226.65416938002258), np.float64(226.65416938002258), np.float64(226.65416938002258), np.float64(226.65416938002258), np.float64(226.65416938002258), np.float64(226.65416938002258), np.float64(226.65416938002258), np.float64(226.65416938002258), np.float64(226.65416938002258), np.float64(226.65416938002258), np.float64(226.65416938002258), np.float64(226.65416938002258), np.float64(226.65416938002258), np.float64(226.65416938002258), np.float64(226.65416938002258), np.float64(226.65416938002258), np.float64(226.65416938002258), np.float64(226.65416938002258), np.float64(226.65416938002258), np.float64(226.65416938002258), np.float64(226.65416938002258), np.float64(226.65416938002258), np.float64(226.65416938002258), np.float64(226.65416938002258), np.float64(226.65416938002258), np.float64(226.65416938002258), np.float64(226.65416938002258), np.float64(226.65416938002258), np.float64(226.65416938002258), np.float64(226.65416938002258), np.float64(226.65416938002258), np.float64(226.65416938002258), np.float64(226.65416938002258), np.float64(226.65416938002258), np.float64(226.65416938002258), np.float64(226.65416938002258), np.float64(226.65416938002258), np.float64(226.65416938002258), np.float64(226.65416938002258), np.float64(226.65416938002258), np.float64(226.65416938002258), np.float64(226.65416938002258), np.float64(226.65416938002258), np.float64(226.65416938002258), np.float64(226.65416938002258), np.float64(226.65416938002258), np.float64(226.65416938002258), np.float64(226.65416938002258), np.float64(226.65416938002258), np.float64(226.65416938002258), np.float64(226.65416938002258), np.float64(226.65416938002258), np.float64(226.65416938002258), np.float64(226.65416938002258), np.float64(226.65416938002258), np.float64(226.65416938002258), np.float64(226.65416938002258), np.float64(226.65416938002258), np.float64(226.65416938002258), np.float64(226.65416938002258), np.float64(226.65416938002258), np.float64(226.65416938002258), np.float64(226.65416938002258), np.float64(226.65416938002258), np.float64(226.65416938002258), np.float64(226.65416938002258), np.float64(226.65416938002258), np.float64(226.65416938002258), np.float64(226.65416938002258), np.float64(226.65416938002258), np.float64(226.65416938002258), np.float64(226.65416938002258), np.float64(226.65416938002258), np.float64(226.65416938002258), np.float64(226.65416938002258), np.float64(226.65416938002258), np.float64(226.65416938002258), np.float64(226.65416938002258), np.float64(226.65416938002258), np.float64(226.65416938002258), np.float64(226.65416938002258), np.float64(226.65416938002258), np.float64(226.65416938002258), np.float64(226.65416938002258), np.float64(226.65416938002258), np.float64(226.65416938002258), np.float64(226.65416938002258), np.float64(226.65416938002258), np.float64(226.65416938002258), np.float64(226.65416938002258), np.float64(226.65416938002258), np.float64(226.65416938002258), np.float64(226.65416938002258), np.float64(226.65416938002258), np.float64(226.65416938002258), np.float64(226.65416938002258), np.float64(226.65416938002258), np.float64(226.65416938002258), np.float64(226.65416938002258), np.float64(226.65416938002258), np.float64(226.65416938002258), np.float64(226.65416938002258), np.float64(226.65416938002258), np.float64(226.65416938002258), np.float64(226.65416938002258), np.float64(226.65416938002258), np.float64(226.65416938002258), np.float64(226.65416938002258), np.float64(226.65416938002258), np.float64(226.65416938002258), np.float64(226.65416938002258), np.float64(226.65416938002258), np.float64(226.65416938002258), np.float64(226.65416938002258), np.float64(226.65416938002258), np.float64(226.65416938002258), np.float64(226.65416938002258), np.float64(226.65416938002258), np.float64(226.65416938002258), np.float64(226.65416938002258), np.float64(226.65416938002258), np.float64(226.65416938002258), np.float64(226.65416938002258), np.float64(226.65416938002258), np.float64(226.65416938002258), np.float64(226.65416938002258), np.float64(226.65416938002258), np.float64(226.65416938002258), np.float64(226.65416938002258), np.float64(226.65416938002258), np.float64(226.65416938002258), np.float64(226.65416938002258), np.float64(226.65416938002258), np.float64(226.65416938002258), np.float64(226.65416938002258), np.float64(226.65416938002258), np.float64(226.65416938002258), np.float64(226.65416938002258), np.float64(226.65416938002258), np.float64(226.65416938002258), np.float64(226.65416938002258), np.float64(226.65416938002258), np.float64(226.65416938002258), np.float64(226.65416938002258), np.float64(226.65416938002258), np.float64(226.65416938002258), np.float64(226.65416938002258), np.float64(226.65416938002258), np.float64(226.65416938002258), np.float64(226.65416938002258), np.float64(226.65416938002258), np.float64(226.65416938002258), np.float64(226.65416938002258), np.float64(226.65416938002258), np.float64(226.65416938002258), np.float64(226.65416938002258), np.float64(226.65416938002258), np.float64(226.65416938002258), np.float64(226.65416938002258), np.float64(226.65416938002258), np.float64(226.65416938002258), np.float64(226.65416938002258), np.float64(226.65416938002258), np.float64(226.65416938002258), np.float64(226.65416938002258), np.float64(226.65416938002258), np.float64(226.65416938002258), np.float64(226.65416938002258), np.float64(226.65416938002258), np.float64(226.65416938002258), np.float64(226.65416938002258), np.float64(226.65416938002258), np.float64(226.65416938002258), np.float64(226.65416938002258), np.float64(226.65416938002258), np.float64(226.65416938002258), np.float64(226.65416938002258), np.float64(226.65416938002258), np.float64(226.65416938002258), np.float64(226.65416938002258), np.float64(226.65416938002258), np.float64(226.65416938002258), np.float64(226.65416938002258), np.float64(226.65416938002258), np.float64(226.65416938002258), np.float64(226.65416938002258), np.float64(226.65416938002258), np.float64(226.65416938002258), np.float64(226.65416938002258), np.float64(226.65416938002258), np.float64(226.65416938002258), np.float64(226.65416938002258), np.float64(226.65416938002258), np.float64(226.65416938002258), np.float64(226.65416938002258), np.float64(226.65416938002258), np.float64(226.65416938002258), np.float64(226.65416938002258), np.float64(226.65416938002258), np.float64(226.65416938002258), np.float64(226.65416938002258), np.float64(226.65416938002258), np.float64(226.65416938002258), np.float64(226.65416938002258), np.float64(226.65416938002258), np.float64(226.65416938002258), np.float64(226.65416938002258), np.float64(226.65416938002258), np.float64(226.65416938002258), np.float64(226.65416938002258), np.float64(226.65416938002258), np.float64(226.65416938002258), np.float64(226.65416938002258), np.float64(226.65416938002258), np.float64(226.65416938002258), np.float64(226.65416938002258), np.float64(226.65416938002258), np.float64(226.65416938002258), np.float64(226.65416938002258), np.float64(226.65416938002258), np.float64(226.65416938002258), np.float64(226.65416938002258), np.float64(226.65416938002258), np.float64(226.65416938002258), np.float64(226.65416938002258), np.float64(226.65416938002258), np.float64(226.65416938002258), np.float64(226.65416938002258), np.float64(226.65416938002258), np.float64(226.65416938002258), np.float64(226.65416938002258), np.float64(226.65416938002258), np.float64(226.65416938002258), np.float64(226.65416938002258), np.float64(226.65416938002258), np.float64(226.65416938002258), np.float64(226.65416938002258), np.float64(226.65416938002258), np.float64(226.65416938002258), np.float64(226.65416938002258), np.float64(226.65416938002258), np.float64(226.65416938002258), np.float64(226.65416938002258), np.float64(226.65416938002258), np.float64(226.65416938002258), np.float64(226.65416938002258), np.float64(226.65416938002258), np.float64(226.65416938002258), np.float64(226.65416938002258), np.float64(226.65416938002258), np.float64(226.65416938002258), np.float64(226.65416938002258), np.float64(226.65416938002258), np.float64(226.65416938002258), np.float64(226.65416938002258), np.float64(226.65416938002258), np.float64(226.65416938002258), np.float64(226.65416938002258), np.float64(226.65416938002258), np.float64(226.65416938002258), np.float64(226.65416938002258), np.float64(226.65416938002258), np.float64(226.65416938002258), np.float64(226.65416938002258), np.float64(226.65416938002258), np.float64(226.65416938002258), np.float64(226.65416938002258), np.float64(226.65416938002258), np.float64(226.65416938002258), np.float64(226.65416938002258), np.float64(226.65416938002258), np.float64(226.65416938002258), np.float64(226.65416938002258), np.float64(226.65416938002258), np.float64(226.65416938002258), np.float64(226.65416938002258), np.float64(226.65416938002258), np.float64(226.65416938002258), np.float64(226.65416938002258), np.float64(226.65416938002258), np.float64(226.65416938002258), np.float64(226.65416938002258), np.float64(226.65416938002258), np.float64(226.65416938002258), np.float64(226.65416938002258), np.float64(226.65416938002258), np.float64(226.65416938002258), np.float64(226.65416938002258), np.float64(226.65416938002258), np.float64(226.65416938002258), np.float64(226.65416938002258), np.float64(226.65416938002258), np.float64(226.65416938002258), np.float64(226.65416938002258), np.float64(226.65416938002258), np.float64(226.65416938002258), np.float64(226.65416938002258), np.float64(226.65416938002258), np.float64(226.65416938002258), np.float64(226.65416938002258), np.float64(226.65416938002258), np.float64(226.65416938002258), np.float64(226.65416938002258), np.float64(226.65416938002258), np.float64(226.65416938002258), np.float64(226.65416938002258), np.float64(226.65416938002258), np.float64(226.65416938002258), np.float64(226.65416938002258), np.float64(226.65416938002258), np.float64(226.65416938002258), np.float64(226.65416938002258), np.float64(226.65416938002258), np.float64(226.65416938002258), np.float64(226.65416938002258), np.float64(226.65416938002258), np.float64(226.65416938002258), np.float64(226.65416938002258), np.float64(226.65416938002258), np.float64(226.65416938002258), np.float64(226.65416938002258), np.float64(226.65416938002258), np.float64(226.65416938002258), np.float64(226.65416938002258), np.float64(226.65416938002258), np.float64(226.65416938002258), np.float64(226.65416938002258), np.float64(226.65416938002258), np.float64(226.65416938002258), np.float64(226.65416938002258), np.float64(226.65416938002258), np.float64(226.65416938002258), np.float64(226.65416938002258), np.float64(226.65416938002258), np.float64(226.65416938002258), np.float64(226.65416938002258), np.float64(226.65416938002258), np.float64(226.65416938002258), np.float64(226.65416938002258), np.float64(226.65416938002258), np.float64(226.65416938002258), np.float64(226.65416938002258), np.float64(226.65416938002258), np.float64(226.65416938002258), np.float64(226.65416938002258), np.float64(226.65416938002258), np.float64(226.65416938002258), np.float64(226.65416938002258), np.float64(226.65416938002258), np.float64(226.65416938002258), np.float64(226.65416938002258), np.float64(226.65416938002258), np.float64(226.65416938002258), np.float64(226.65416938002258), np.float64(226.65416938002258), np.float64(226.65416938002258), np.float64(226.65416938002258), np.float64(226.65416938002258), np.float64(226.65416938002258), np.float64(226.65416938002258), np.float64(226.65416938002258), np.float64(226.65416938002258), np.float64(226.65416938002258), np.float64(226.65416938002258), np.float64(226.65416938002258), np.float64(226.65416938002258), np.float64(226.65416938002258), np.float64(226.65416938002258), np.float64(226.65416938002258), np.float64(226.65416938002258), np.float64(226.65416938002258), np.float64(226.65416938002258), np.float64(226.65416938002258), np.float64(226.65416938002258), np.float64(226.65416938002258), np.float64(226.65416938002258), np.float64(226.65416938002258), np.float64(226.65416938002258), np.float64(226.65416938002258), np.float64(226.65416938002258), np.float64(226.65416938002258), np.float64(226.65416938002258), np.float64(226.65416938002258), np.float64(226.65416938002258), np.float64(226.65416938002258), np.float64(226.65416938002258), np.float64(226.65416938002258), np.float64(226.65416938002258), np.float64(226.65416938002258), np.float64(226.65416938002258), np.float64(226.65416938002258), np.float64(226.65416938002258), np.float64(226.65416938002258), np.float64(226.65416938002258), np.float64(226.65416938002258), np.float64(226.65416938002258), np.float64(226.65416938002258), np.float64(226.65416938002258), np.float64(226.65416938002258), np.float64(226.65416938002258), np.float64(226.65416938002258), np.float64(226.65416938002258), np.float64(226.65416938002258), np.float64(226.65416938002258), np.float64(226.65416938002258), np.float64(226.65416938002258), np.float64(226.65416938002258), np.float64(226.65416938002258), np.float64(226.65416938002258), np.float64(226.65416938002258), np.float64(226.65416938002258), np.float64(226.65416938002258), np.float64(226.65416938002258), np.float64(226.65416938002258), np.float64(226.65416938002258), np.float64(226.65416938002258), np.float64(226.65416938002258), np.float64(226.65416938002258), np.float64(226.65416938002258), np.float64(226.65416938002258), np.float64(226.65416938002258), np.float64(226.65416938002258), np.float64(226.65416938002258), np.float64(226.65416938002258), np.float64(226.65416938002258), np.float64(226.65416938002258), np.float64(226.65416938002258), np.float64(226.65416938002258), np.float64(226.65416938002258), np.float64(226.65416938002258), np.float64(226.65416938002258), np.float64(226.65416938002258), np.float64(226.65416938002258), np.float64(226.65416938002258), np.float64(226.65416938002258), np.float64(226.65416938002258), np.float64(226.65416938002258), np.float64(226.65416938002258), np.float64(226.65416938002258), np.float64(226.65416938002258), np.float64(226.65416938002258), np.float64(226.65416938002258), np.float64(226.65416938002258), np.float64(226.65416938002258), np.float64(226.65416938002258), np.float64(226.65416938002258), np.float64(226.65416938002258), np.float64(226.65416938002258), np.float64(226.65416938002258), np.float64(226.65416938002258), np.float64(226.65416938002258), np.float64(226.65416938002258), np.float64(226.65416938002258), np.float64(226.65416938002258)]\n"
          ]
        },
        {
          "data": {
            "image/png": "[encoded data removed]",
            "text/plain": [
              "<Figure size 640x480 with 1 Axes>"
            ]
          },
          "metadata": {},
          "output_type": "display_data"
        }
      ],
      "source": [
        "# Plot your loss function.\n",
        "plt.plot(np.arange(len(losses)), losses, label='Loss Plot', color='blue')\n",
        "print(losses)"
      ]
    },
    {
      "cell_type": "code",
      "execution_count": 501,
      "metadata": {
        "id": "hS_LoeLDhFUj"
      },
      "outputs": [
        {
          "data": {
            "text/plain": [
              "<matplotlib.collections.PathCollection at 0x16a138550>"
            ]
          },
          "execution_count": 501,
          "metadata": {},
          "output_type": "execute_result"
        },
        {
          "data": {
            "image/png": "[encoded data removed]",
            "text/plain": [
              "<Figure size 640x480 with 1 Axes>"
            ]
          },
          "metadata": {},
          "output_type": "display_data"
        }
      ],
      "source": [
        "# Plot the model overlaid on the (x, y_measured) data points\n",
        "plt.scatter(x, y_measured, label='Line Plot', color='blue', marker='o')\n",
        "plt.scatter(x, predict(weights, x), color='orange', marker='+')"
      ]
    },
    {
      "cell_type": "markdown",
      "metadata": {
        "id": "ilJK4CtHL-Do"
      },
      "source": [
        "How close to the actual model parameters are we? You should pass the assertion below."
      ]
    },
    {
      "cell_type": "code",
      "execution_count": 502,
      "metadata": {
        "id": "ywijwwLQMBBp"
      },
      "outputs": [
        {
          "name": "stdout",
          "output_type": "stream",
          "text": [
            "Actual model parameters: m=7, b=4\n",
            "Trained model parameters: m=7, b=4\n"
          ]
        }
      ],
      "source": [
        "print(f\"Actual model parameters: m={m}, b={b}\")\n",
        "print(f\"Trained model parameters: m={weights[0]}, b={weights[1]}\")\n",
        "\n",
        "assert np.isclose(weights[0], m, rtol=0.1)"
      ]
    },
    {
      "cell_type": "markdown",
      "metadata": {
        "id": "BmrRuJnBj3iq"
      },
      "source": [
        "Much better!"
      ]
    },
    {
      "cell_type": "markdown",
      "metadata": {
        "id": "f_U_GlJtj9Us"
      },
      "source": [
        "> **Question 2c) What happens if you increase the learning rate?**\n",
        "\n",
        "You may notice things go awry if the learning rate is too high... describe what is happening below.\n",
        "\n",
        "*If the learning rate is too high, the algorithm may miss the minima and would not be able to converge*"
      ]
    },
    {
      "cell_type": "markdown",
      "metadata": {
        "id": "Olufta7Cl7aq"
      },
      "source": [
        "### 3. Reporting Results"
      ]
    },
    {
      "cell_type": "markdown",
      "metadata": {
        "id": "DYafc6JxvMvq"
      },
      "source": [
        "When training a model for classification for regression, we typically do not use the entire dataset for training. It is customary to split the dataset into a training set and test set."
      ]
    },
    {
      "cell_type": "markdown",
      "metadata": {
        "id": "cw1wX5Lbvd2Q"
      },
      "source": [
        "> **Question 3a) Explain why we do not report model results on the training data? What is data leakage?**\n",
        "\n",
        "*The model results on the training data is usually not a good representation of how the model would perform in the real world. This is because the model will overfit on your training data because it is used in each iteration of the epoch. This is why we use a validation/test (used interchangably at times) to test whether our model is overfitting. Data leakage occurs when data in the validation/text set is somehow \"leaked\" and the model trains on that data, causing the scoring metric to be inflated and resulting in an overestimation of the model's performance. A real world example would be how OpenAI's o3 model was secretly training on supposedly unseen math competition questions to boost leaderboard scoring performance*"
      ]
    },
    {
      "cell_type": "markdown",
      "metadata": {
        "id": "qEQbHcLqv8qJ"
      },
      "source": [
        "In the code cell below, split the data set (x, y_measured) into training and test sets. Train the model on the training set and report your loss on the test set."
      ]
    },
    {
      "cell_type": "code",
      "execution_count": 503,
      "metadata": {
        "id": "v0Oku14MwLha"
      },
      "outputs": [
        {
          "name": "stdout",
          "output_type": "stream",
          "text": [
            "256.83689474203254\n"
          ]
        }
      ],
      "source": [
        "# Split dataset and report results on test set\n",
        "# Your code here...\n",
        "from sklearn.model_selection import train_test_split\n",
        "\n",
        "# Splitting\n",
        "X_train, X_test, y_train, y_test = train_test_split(x, y_measured, random_state = random_seed, test_size = 0.2)\n",
        "\n",
        "# Grabbing weights from training and the respective loss (if needed)\n",
        "train_weight, train_loss = train(X_train, y_train, weights, gradient_func, 0.00027, 300)\n",
        "\n",
        "# Predicting using the training weights on the X test set\n",
        "q3_predict = predict(train_weight, X_test)\n",
        "\n",
        "# Comparing the predicted y vs. the ground truth to get the loss \n",
        "test_loss = loss(q3_predict, y_test)\n",
        "\n",
        "# printing test loss\n",
        "print(test_loss)\n"
      ]
    },
    {
      "cell_type": "markdown",
      "metadata": {
        "id": "i43h9yjvmcbm"
      },
      "source": [
        "### 4. **N-dimensional Regression**\n",
        "\n",
        "Let's move into a more complex regression task.\n",
        "\n",
        "We will now train an n-dimensional polynomial. The equation of interest is:\n",
        "\n",
        "$$\n",
        "y = w_{n}x^{n} + w_{n-1}x^{n-1} + w_{n-2}x^{n-2} + ... + w_1x + w_0\n",
        "$$\n",
        "\n",
        "Your task is to use Pytorch to train an N-dimensional polynomial regression model. We will essentially follow the steps defined above, but leverage Pytorch's API to accomplish the model training.\n",
        "\n",
        "Succinctly, we need to do the following:\n",
        "\n",
        "\n",
        "1.   Define learning parameters (learning rate, number of gradient steps)\n",
        "2.   Define our model architecture (using pytorch nn module)\n",
        "3.   Define our optimization scheme (using pytorch optim module)\n",
        "4.   Define a training loop (i.e. where gradient descent takes place)\n",
        "5.   Split our dataset into train-test splits\n",
        "6.   Train the model on the training set.\n",
        "7.   Evaluate model on the test set\n",
        "\n"
      ]
    },
    {
      "cell_type": "markdown",
      "metadata": {
        "id": "AW6uKvyX0uvA"
      },
      "source": [
        "> **Question 4a) What is the above equation when reformulated in linear algebra notation? Also, repeat Questions (1a) (1b) and (2b) for this problem statement.**\n",
        "\n",
        "*4a) Is drawn down below! 1a) We want to learn the coefficients weights to model non-linear relationships between variables  1b) This is equivalent to a full connected dense layer 2b) If we are using * \n",
        "![alt text](images/poly_regression.jpeg)"
      ]
    },
    {
      "cell_type": "markdown",
      "metadata": {
        "id": "2RR_ANNsPTsd"
      },
      "source": [
        "First, let's re-establish our data set with a higher degree polynomial."
      ]
    },
    {
      "cell_type": "code",
      "execution_count": 507,
      "metadata": {
        "id": "Qrb7P2rghTpG"
      },
      "outputs": [
        {
          "data": {
            "text/plain": [
              "array([ 483, -166,   41,  258, -395,   62, -420, -368,  296,  399, -363,\n",
              "       -317, -100, -171,  284,    7,  351,  483, -432,   45,  273, -448,\n",
              "        -51, -296, -375,  246, -458,  251,  470,  382, -390,  260,  162,\n",
              "       -318,  347, -406,  470, -127,  411,   19,  399, -141,  399,  195,\n",
              "       -220, -306,  363, -306,  166, -408,  171,  445, -440,  133, -450,\n",
              "        -98,  288, -496,  -35,  103,  181,  328,   33,  -96,  337,   12,\n",
              "        144, -268,   23, -155, -455,   45,  444, -423,  229,  312,  422,\n",
              "       -428,  293, -252, -454, -380, -287, -262, -445, -151, -394,  330,\n",
              "       -453,   72, -164, -475,  303, -244, -493,  124,  366, -248,  191,\n",
              "        218])"
            ]
          },
          "execution_count": 507,
          "metadata": {},
          "output_type": "execute_result"
        },
        {
          "data": {
            "image/png": "[encoded data removed]",
            "text/plain": [
              "<Figure size 640x480 with 1 Axes>"
            ]
          },
          "metadata": {},
          "output_type": "display_data"
        }
      ],
      "source": [
        "# Let's pick the polynomial degree\n",
        "degree = 3 # Choose a number that suites you (Warning: code may become unstable with too high of a polynomial though)\n",
        "num_weights = degree + 1 # Include w_0 (i.e the bias term)\n",
        "\n",
        "# Creating a random model\n",
        "true_weights = initialize_model(num_weights=num_weights) # We are using the intialize_model func to generate a random polynomial\n",
        "\n",
        "# Generate a set of 100 (X,Y) coordinates that share the polynomial relationship\n",
        "num_data_points = 100\n",
        "upper_limit = 500\n",
        "lower_limit = -500\n",
        "x = np.random.randint(lower_limit, upper_limit, size=num_data_points)\n",
        "y = np.sum(np.array([true_weights[i] * x**(degree - i) for i in range(len(true_weights))]), axis=0)\n",
        "\n",
        "# Add noise to our y-vector\n",
        "mu, sigma = 0, upper_limit**degree # We will make the noise commensurate with the polynomial degree\n",
        "noise_vector = np.random.normal(mu, sigma, num_data_points)\n",
        "y_measured = y + noise_vector\n",
        "\n",
        "# Plot the (X,Y) points as a line plot using matplotlib\n",
        "plt.scatter(x, y_measured, color='blue', marker='o')"
      ]
    },
    {
      "cell_type": "markdown",
      "metadata": {
        "id": "jMEfR-MPPZQG"
      },
      "source": [
        "Now, lets create our features (i.e. the polynomial terms)"
      ]
    },
    {
      "cell_type": "code",
      "execution_count": 521,
      "metadata": {
        "id": "ZIi4KKfR9y6B"
      },
      "outputs": [
        {
          "data": {
            "text/plain": [
              "tensor([[     1,    483, 233289],\n",
              "        [     1,   -166,  27556],\n",
              "        [     1,     41,   1681],\n",
              "        [     1,    258,  66564],\n",
              "        [     1,   -395, 156025],\n",
              "        [     1,     62,   3844],\n",
              "        [     1,   -420, 176400],\n",
              "        [     1,   -368, 135424],\n",
              "        [     1,    296,  87616],\n",
              "        [     1,    399, 159201],\n",
              "        [     1,   -363, 131769],\n",
              "        [     1,   -317, 100489],\n",
              "        [     1,   -100,  10000],\n",
              "        [     1,   -171,  29241],\n",
              "        [     1,    284,  80656],\n",
              "        [     1,      7,     49],\n",
              "        [     1,    351, 123201],\n",
              "        [     1,    483, 233289],\n",
              "        [     1,   -432, 186624],\n",
              "        [     1,     45,   2025],\n",
              "        [     1,    273,  74529],\n",
              "        [     1,   -448, 200704],\n",
              "        [     1,    -51,   2601],\n",
              "        [     1,   -296,  87616],\n",
              "        [     1,   -375, 140625],\n",
              "        [     1,    246,  60516],\n",
              "        [     1,   -458, 209764],\n",
              "        [     1,    251,  63001],\n",
              "        [     1,    470, 220900],\n",
              "        [     1,    382, 145924],\n",
              "        [     1,   -390, 152100],\n",
              "        [     1,    260,  67600],\n",
              "        [     1,    162,  26244],\n",
              "        [     1,   -318, 101124],\n",
              "        [     1,    347, 120409],\n",
              "        [     1,   -406, 164836],\n",
              "        [     1,    470, 220900],\n",
              "        [     1,   -127,  16129],\n",
              "        [     1,    411, 168921],\n",
              "        [     1,     19,    361],\n",
              "        [     1,    399, 159201],\n",
              "        [     1,   -141,  19881],\n",
              "        [     1,    399, 159201],\n",
              "        [     1,    195,  38025],\n",
              "        [     1,   -220,  48400],\n",
              "        [     1,   -306,  93636],\n",
              "        [     1,    363, 131769],\n",
              "        [     1,   -306,  93636],\n",
              "        [     1,    166,  27556],\n",
              "        [     1,   -408, 166464],\n",
              "        [     1,    171,  29241],\n",
              "        [     1,    445, 198025],\n",
              "        [     1,   -440, 193600],\n",
              "        [     1,    133,  17689],\n",
              "        [     1,   -450, 202500],\n",
              "        [     1,    -98,   9604],\n",
              "        [     1,    288,  82944],\n",
              "        [     1,   -496, 246016],\n",
              "        [     1,    -35,   1225],\n",
              "        [     1,    103,  10609],\n",
              "        [     1,    181,  32761],\n",
              "        [     1,    328, 107584],\n",
              "        [     1,     33,   1089],\n",
              "        [     1,    -96,   9216],\n",
              "        [     1,    337, 113569],\n",
              "        [     1,     12,    144],\n",
              "        [     1,    144,  20736],\n",
              "        [     1,   -268,  71824],\n",
              "        [     1,     23,    529],\n",
              "        [     1,   -155,  24025],\n",
              "        [     1,   -455, 207025],\n",
              "        [     1,     45,   2025],\n",
              "        [     1,    444, 197136],\n",
              "        [     1,   -423, 178929],\n",
              "        [     1,    229,  52441],\n",
              "        [     1,    312,  97344],\n",
              "        [     1,    422, 178084],\n",
              "        [     1,   -428, 183184],\n",
              "        [     1,    293,  85849],\n",
              "        [     1,   -252,  63504],\n",
              "        [     1,   -454, 206116],\n",
              "        [     1,   -380, 144400],\n",
              "        [     1,   -287,  82369],\n",
              "        [     1,   -262,  68644],\n",
              "        [     1,   -445, 198025],\n",
              "        [     1,   -151,  22801],\n",
              "        [     1,   -394, 155236],\n",
              "        [     1,    330, 108900],\n",
              "        [     1,   -453, 205209],\n",
              "        [     1,     72,   5184],\n",
              "        [     1,   -164,  26896],\n",
              "        [     1,   -475, 225625],\n",
              "        [     1,    303,  91809],\n",
              "        [     1,   -244,  59536],\n",
              "        [     1,   -493, 243049],\n",
              "        [     1,    124,  15376],\n",
              "        [     1,    366, 133956],\n",
              "        [     1,   -248,  61504],\n",
              "        [     1,    191,  36481],\n",
              "        [     1,    218,  47524]])"
            ]
          },
          "execution_count": 521,
          "metadata": {},
          "output_type": "execute_result"
        }
      ],
      "source": [
        "# Step 0: Transform input vector x to include polynomial terms (1, x, x^2, x^3, .. x^(n-1), x^n)\n",
        "def polynomial_features(x, degree):\n",
        "    # Your code here\n",
        "    matrix = []\n",
        "    for num in x: \n",
        "        arr = []\n",
        "        for i in range(degree):\n",
        "            arr.append(num**i)\n",
        "        matrix.append(arr)\n",
        "               \n",
        "    return torch.tensor(matrix)\n",
        "\n",
        "X_poly = polynomial_features(x, degree)\n",
        "print(X_poly)"
      ]
    },
    {
      "cell_type": "markdown",
      "metadata": {
        "id": "5A6W9JzmPdS3"
      },
      "source": [
        "Now, we accomplish Steps 1-4 from above."
      ]
    },
    {
      "cell_type": "code",
      "execution_count": 522,
      "metadata": {
        "id": "Dr2iHJpX_WI-"
      },
      "outputs": [],
      "source": [
        "# Step 1: Define training parameters\n",
        "torch.manual_seed(random_seed)\n",
        "learning_rate = 1e-16 # Start with low learning rate\n",
        "num_epochs = 40# Choose number that suits you # Epochs is the number of times we cycle through the entire dataset when training. Similar to 'num_steps' above."
      ]
    },
    {
      "cell_type": "code",
      "execution_count": null,
      "metadata": {
        "id": "R768SXHN-PEV"
      },
      "outputs": [],
      "source": [
        "# Step 2: Create your model using nn.Linear, starting with our random model weights\n",
        "# Do not include a bias term, because it's included in polynomialization portion.\n",
        "\n",
        "model = # Your code here"
      ]
    },
    {
      "cell_type": "markdown",
      "metadata": {
        "id": "yKBcVTH9YaJM"
      },
      "source": [
        "> **Question 4b) What is your activation function for this neural network?**\n",
        "\n",
        "*Double-click to add your answer...*"
      ]
    },
    {
      "cell_type": "code",
      "execution_count": null,
      "metadata": {
        "id": "RDVXbW6ZG6DJ"
      },
      "outputs": [],
      "source": [
        "# Step 2a: Add randomly initialized weights to our model\n",
        "# (typically this is not necessary, but aligns this problem more closely with Section 3)\n",
        "weights = initialize_model(num_weights=num_weights)\n",
        "print(f\"Random weights: {weights}\")\n",
        "model.weight.data = torch.from_numpy(weights).to(torch.float)"
      ]
    },
    {
      "cell_type": "code",
      "execution_count": null,
      "metadata": {
        "id": "QnvxBU2d-saw"
      },
      "outputs": [],
      "source": [
        "# Step 3: Define loss function and optimizer from relevant pytorch classes.\n",
        "# Note, we will want to use Stochastic Gradient Descent for the pytorch implementation\n",
        "\n",
        "criterion = # Your code here\n",
        "optimizer = # Your code here"
      ]
    },
    {
      "cell_type": "code",
      "execution_count": null,
      "metadata": {
        "id": "q5S4HHDy_cIV"
      },
      "outputs": [],
      "source": [
        "# Step 4: Create the training loop\n",
        "def train(dataset, model, optimizer, num_epochs, batch_size=None):\n",
        "\n",
        "  # Your code here\n",
        "\n",
        "  return losses"
      ]
    },
    {
      "cell_type": "markdown",
      "metadata": {
        "id": "zEf_tBC-Pu0s"
      },
      "source": [
        "Now call your train function. We need to convert our dataset from numpy to torch datatypes."
      ]
    },
    {
      "cell_type": "code",
      "execution_count": null,
      "metadata": {
        "id": "t-s_TDg0LFO_"
      },
      "outputs": [],
      "source": [
        "# Step 5: Create a train-test split\n",
        "def train_test_split(X, y, train_ratio=0.8):\n",
        "\n",
        "  # Your code here\n",
        "\n",
        "  return train_dataset, test_dataset"
      ]
    },
    {
      "cell_type": "code",
      "execution_count": null,
      "metadata": {
        "id": "Qp1kn2raY6BZ"
      },
      "outputs": [],
      "source": [
        "# Step 6: Call training loop\n",
        "train_dataset, test_dataset = train_test_split(X_poly, y_measured)\n",
        "losses = train(train_dataset, model, optimizer, num_epochs)"
      ]
    },
    {
      "cell_type": "markdown",
      "metadata": {
        "id": "5QdsZub-P8Xa"
      },
      "source": [
        "Let's visualize the results"
      ]
    },
    {
      "cell_type": "code",
      "execution_count": null,
      "metadata": {
        "id": "OFA3w0KNEFrT"
      },
      "outputs": [],
      "source": [
        "plt.plot(np.arange(len(losses)), losses, label='Loss Plot', color='blue')"
      ]
    },
    {
      "cell_type": "code",
      "execution_count": null,
      "metadata": {
        "id": "Ouy2YR_VFe3C"
      },
      "outputs": [],
      "source": [
        "# Plot data and predictions\n",
        "predictions = # your code here\n",
        "with torch.no_grad():\n",
        "    plt.scatter(x, y_measured, label=\"Original Data\")\n",
        "    plt.scatter(x, predictions, color=\"red\", label=\"Fitted Polynomial\")\n",
        "    plt.legend()\n",
        "    plt.title(\"Polynomial Regression with PyTorch\")\n",
        "    plt.xlabel(\"x\")\n",
        "    plt.ylabel(\"y\")\n",
        "    plt.show()"
      ]
    },
    {
      "cell_type": "markdown",
      "metadata": {
        "id": "9OTtMSu6VV-Q"
      },
      "source": [
        "Report your results on the test test. Write an evaluation function that evaluates your model performance."
      ]
    },
    {
      "cell_type": "code",
      "execution_count": null,
      "metadata": {
        "id": "Jzx0DLzjVZQh"
      },
      "outputs": [],
      "source": [
        "def evaluate(test_dataset, model, criterion):\n",
        "    # Set the model to evaluation mode\n",
        "    model.eval()\n",
        "\n",
        "    # Your code here\n",
        "\n",
        "    print(f\"Test MSE Loss: {test_loss.item():.4f}\")\n",
        "    return test_loss.item()"
      ]
    },
    {
      "cell_type": "code",
      "execution_count": null,
      "metadata": {
        "id": "JB1I2gR1V4e6"
      },
      "outputs": [],
      "source": [
        "# Step 7: Evaluate model\n",
        "evaluate(test_dataset, model, criterion)"
      ]
    },
    {
      "cell_type": "markdown",
      "metadata": {
        "id": "1wyVVIioWBhz"
      },
      "source": [
        "Sometimes loss can be hard to interpret. How close are your model parameters to the true paramters?"
      ]
    },
    {
      "cell_type": "code",
      "execution_count": null,
      "metadata": {
        "id": "UEUgdUoPV8Vs"
      },
      "outputs": [],
      "source": [
        "print(f\"Actual model parameters: {true_weights}\")\n",
        "print(f\"Trained model parameters: {model.weight.data.numpy()}\")\n",
        "\n",
        "assert np.isclose(model.weight.data.numpy()[0], true_weights[0], rtol=1)"
      ]
    },
    {
      "cell_type": "markdown",
      "metadata": {
        "id": "XtAUovdGTwuj"
      },
      "source": [
        "> **Question 4c) Out of all the model weights, it is likely the case that your trained model's first weight is the closest to the true model parameter. Why might this be the case?**\n",
        "\n",
        "*Double-click to add your answer...*"
      ]
    },
    {
      "cell_type": "markdown",
      "metadata": {
        "id": "z4K2eLQmCr42"
      },
      "source": [
        "### 5. **Real world regression task**\n",
        "\n",
        "Let us now apply our knowledge towards a real-world regression task.\n",
        "\n",
        "Our goal in this final section will be to develop a regression model for the California Housing Dataset. A description of the dataset results from running the below cell."
      ]
    },
    {
      "cell_type": "code",
      "execution_count": null,
      "metadata": {
        "id": "d8gMTGmOWLAV"
      },
      "outputs": [],
      "source": [
        "from sklearn.datasets import fetch_california_housing\n",
        "\n",
        "california = fetch_california_housing()\n",
        "\n",
        "print(california.DESCR)\n",
        "\n",
        "X, y = california.data, california.target\n",
        "\n",
        "print(f\"X shape: {X.shape}\")\n",
        "print(f\"y shape: {y.shape}\")"
      ]
    },
    {
      "cell_type": "markdown",
      "metadata": {
        "id": "b3WIs6xwFUe1"
      },
      "source": [
        "\n",
        "We will not assume our dependent variable has a polynomial relationship on our independent variable.\n",
        "\n",
        "In fact, we will only make a singular, relaxed assumption about the relationship between our dependen target variable (median house value) and the 8 independnet attributes: *That the relationship can be modeled using a multi-layer perceptron (i.e. an articial neural network).*"
      ]
    },
    {
      "cell_type": "markdown",
      "metadata": {
        "id": "qwYPb_hoGxr9"
      },
      "source": [
        "> **Question 5a) Why is a multi-layered perception (MLP) a reasonable choice for our regression model? On the other hand, what will be the MLP's shortcomings for this particular task?**\n",
        "\n",
        "*Double-click to add your answer...*"
      ]
    },
    {
      "cell_type": "markdown",
      "metadata": {
        "id": "ij5bS88UHQ47"
      },
      "source": [
        "We will follow the same steps as in section 4"
      ]
    },
    {
      "cell_type": "code",
      "execution_count": null,
      "metadata": {
        "id": "uoHoLYjAEi21"
      },
      "outputs": [],
      "source": [
        "# Step 1: Define training parameters\n",
        "learning_rate = 1e-3\n",
        "num_epochs = # Choose a number # Epochs is the number of times we cycle through the entire dataset when training. Similar to 'num_steps' above.\n",
        "batch_size = # Choose a number # Batch size is the number of data points we aggregate together for a single loss calculation and gradient step"
      ]
    },
    {
      "cell_type": "code",
      "execution_count": null,
      "metadata": {
        "id": "B5Fui2XLH94P"
      },
      "outputs": [],
      "source": [
        "# Step 2: Create your neural network.\n",
        "# The first layer's input size should be 8.\n",
        "# There should be at least one hidden layer.\n",
        "# All layers should have a bias term (which is the default).\n",
        "# There should be a non-linear activation function for each layer (except the output)\n",
        "# The output size should be 1.\n",
        "# Hint: nn.Sequential may be helpful\n",
        "input_dim =\n",
        "output_dim =\n",
        "model ="
      ]
    },
    {
      "cell_type": "markdown",
      "metadata": {
        "id": "LO3-atXXKFIM"
      },
      "source": [
        "> **Question 5b) What is your rationale for your architecture?**\n",
        "\n",
        "*Double-click to add your answer...*"
      ]
    },
    {
      "cell_type": "code",
      "execution_count": null,
      "metadata": {
        "id": "e5CX7y1EJQ_N"
      },
      "outputs": [],
      "source": [
        "# Step 3: Define loss function and optimizer from relevant pytorch classes.\n",
        "criterion =\n",
        "optimizer ="
      ]
    },
    {
      "cell_type": "code",
      "execution_count": null,
      "metadata": {
        "id": "w37vFJp7Jr_O"
      },
      "outputs": [],
      "source": [
        "# Step 4: Create training loop. Feel free to rewrite Step 4 from Section 4.\n",
        "# However, if the train() function from Section 4 was robustly implemented, it should work for this problem also."
      ]
    },
    {
      "cell_type": "code",
      "execution_count": null,
      "metadata": {
        "id": "AJ4MXXltKcqI"
      },
      "outputs": [],
      "source": [
        "# Step 5: train_test_split the data Feel free to rewrite Step 5 from Section 4.\n",
        "# However, if the train_test_split() function from Section 4 was robustly implemented, it should work for this problem also."
      ]
    },
    {
      "cell_type": "code",
      "execution_count": null,
      "metadata": {
        "id": "Ur095DZ-NkG2"
      },
      "outputs": [],
      "source": [
        "# Step 6: Call training loop. It might take a minute or so to train.\n",
        "train_dataset, test_dataset = train_test_split(X, y)\n",
        "losses = train(train_dataset, model, optimizer, num_epochs, batch_size=batch_size)"
      ]
    },
    {
      "cell_type": "markdown",
      "metadata": {
        "id": "JeYKXhQ4QIQd"
      },
      "source": [
        "Let's visualize our loss"
      ]
    },
    {
      "cell_type": "code",
      "execution_count": null,
      "metadata": {
        "id": "FBPBFZrqNmZZ"
      },
      "outputs": [],
      "source": [
        "plt.plot(np.arange(len(losses)), losses, label='Loss Plot', color='blue')"
      ]
    },
    {
      "cell_type": "markdown",
      "metadata": {
        "id": "ifnaCOj-W31z"
      },
      "source": [
        "Let's visualize how our predictions look compared to the targets. Obviously, we cannot use all 8 independent variables for our scatter plot, so we will have to pick one feature as our independent variable in the scatter plot."
      ]
    },
    {
      "cell_type": "code",
      "execution_count": null,
      "metadata": {
        "id": "7H-cHS_tUT9m"
      },
      "outputs": [],
      "source": [
        "# Step 7: Evaluate model\n",
        "test_result = evaluate(test_dataset, model, criterion)\n",
        "\n",
        "assert test_result < 0.6"
      ]
    },
    {
      "cell_type": "markdown",
      "metadata": {
        "id": "rlZdaVyzJqz1"
      },
      "source": [
        "Let's contexualize our results, as raw regression loss can be difficult to interpret.\n",
        "\n",
        "One way we can qualitatively check the performance of our neural network is by comparing the distribution of our predictions to the target values. Some may call this the 'eye-ball' test, or a 'sanity check' on our neural network. Ideally, these distributions should be quite similar. This indicates, to some degree, that our neural network is learning the conditional probability of y given the attributes X.\n",
        "\n",
        "Let's compare our predictions to the the training and test targets below.\n"
      ]
    },
    {
      "cell_type": "code",
      "execution_count": null,
      "metadata": {
        "id": "bdiQ3SdJPgQf"
      },
      "outputs": [],
      "source": [
        "# Plot your training predictions and target values as overlaid histograms.\n",
        "# Ensure that the x-range of the hists are identical for adequate comparison.\n",
        "X_train, y_train =\n",
        "\n",
        "# Forward pass to get predictions\n",
        "predictions =\n",
        "\n",
        "# Plot the histograms of y_train and predictions\n",
        "# Your code here\n"
      ]
    },
    {
      "cell_type": "code",
      "execution_count": null,
      "metadata": {
        "id": "F2ZTxFPEKhE3"
      },
      "outputs": [],
      "source": [
        "# Plot your test predictions and target values as overlaid histograms.\n",
        "# Ensure that the x-range of the hists are identical for adequate comparison.\n",
        "X_test, y_test =\n",
        "\n",
        "# Forward pass to get predictions\n",
        "predictions =\n",
        "\n",
        "# Plot the histograms of y_test and test predictions\n",
        "# Your code here\n"
      ]
    },
    {
      "cell_type": "markdown",
      "metadata": {
        "id": "6TmYo4e3PQJH"
      },
      "source": [
        "> **Question 5c) Describe the difference in distributions between your predictions and targets on the training and test sets. Does this seem reasonable? Are there differences in how your neural network predictions perform on the training vs test tests?**\n",
        "\n",
        "*Double-click to add your answer...*"
      ]
    },
    {
      "cell_type": "markdown",
      "metadata": {
        "id": "NhwTizBnQKVw"
      },
      "source": [
        "Let's get a quantitative measure of our test performance. We can calculate the $R^2$ measure of our predictions compared to test target values."
      ]
    },
    {
      "cell_type": "markdown",
      "metadata": {
        "id": "rCeHopuMQ8yB"
      },
      "source": [
        "> **Question 5d) Explain what the $R^2$ metric measures? Report it for your model below**\n",
        "\n",
        "*Double-click to add your answer...*"
      ]
    },
    {
      "cell_type": "code",
      "execution_count": null,
      "metadata": {
        "id": "ClB7062SOJYn"
      },
      "outputs": [],
      "source": [
        "# Report R^2 here\n",
        "from sklearn.metrics import r2_score\n",
        "r2 = r2_score(\n",
        "    # Your code here\n",
        ")\n",
        "print(f\"R^2: {r2}\")"
      ]
    },
    {
      "cell_type": "markdown",
      "metadata": {
        "id": "DwkruwfeRSKC"
      },
      "source": [
        "Congrats, you finished your first assignment! Feel free to try different architectures, hyperparameters, feature engineering approaches (i.e. standardizing your features), etc... to try to improve your neural network performance. Improving neural network performance is often an emprical process of trying out different configurations."
      ]
    }
  ],
  "metadata": {
    "colab": {
      "include_colab_link": true,
      "provenance": [],
      "toc_visible": true
    },
    "kernelspec": {
      "display_name": "dl-bioscience",
      "language": "python",
      "name": "python3"
    },
    "language_info": {
      "codemirror_mode": {
        "name": "ipython",
        "version": 3
      },
      "file_extension": ".py",
      "mimetype": "text/x-python",
      "name": "python",
      "nbconvert_exporter": "python",
      "pygments_lexer": "ipython3",
      "version": "3.13.1"
    }
  },
  "nbformat": 4,
  "nbformat_minor": 0
}
